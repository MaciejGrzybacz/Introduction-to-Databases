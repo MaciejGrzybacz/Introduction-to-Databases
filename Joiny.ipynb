{
    "metadata": {
        "kernelspec": {
            "name": "SQL",
            "display_name": "SQL",
            "language": "sql"
        },
        "language_info": {
            "name": "sql",
            "version": ""
        }
    },
    "nbformat_minor": 2,
    "nbformat": 4,
    "cells": [
        {
            "cell_type": "code",
            "source": [
                "-- zadanie 1\n",
                "-- Napisz polecenie zwracające nazwy produktów i firmy je dostarczające (baza northwind)\n",
                "-- tak aby produkty bez „dostarczycieli” i „dostarczyciele” bez produktów nie pojawiali się w wyniku\n",
                "\n",
                "SELECT Products.ProductName, Suppliers.CompanyName\n",
                "FROM Products\n",
                "INNER JOIN Suppliers ON Products.SupplierID=Suppliers.SupplierID\n",
                ""
            ],
            "metadata": {
                "azdata_cell_guid": "b2225edd-cda8-4ddc-a4a3-00eceae3abc9",
                "language": "sql",
                "tags": [
                    "hide_input"
                ]
            },
            "outputs": [],
            "execution_count": null
        },
        {
            "cell_type": "code",
            "source": [
                "-- zadanie 2\r\n",
                "-- Napisz polecenie zwracające jako wynik nazwy klientów, którzy złożyli zamówienia po 01 marca 1998 (baza northwind)\r\n",
                "\r\n",
                "SELECT Customers.CustomerID, Orders.OrderDate\r\n",
                "FROM Customers\r\n",
                "INNER JOIN Orders ON Customers.CustomerID=Orders.CustomerID\r\n",
                "WHERE Orders.OrderDate>'1998-03-01'\r\n",
                "ORDER BY Orders.OrderDate"
            ],
            "metadata": {
                "azdata_cell_guid": "16eb6172-89c7-4c38-807a-05d24c5d2503",
                "language": "sql",
                "tags": [
                    "hide_input"
                ]
            },
            "outputs": [],
            "execution_count": null
        },
        {
            "cell_type": "code",
            "source": [
                "-- zadanie 3\r\n",
                "-- Napisz polecenie zwracające wszystkich klientów z datami zamówień (baza northwind).\r\n",
                "SELECT Customers.CustomerID, Orders.OrderDate\r\n",
                "FROM Customers\r\n",
                "LEFT OUTER JOIN Orders ON Customers.CustomerID = Orders.CustomerID\r\n",
                ""
            ],
            "metadata": {
                "azdata_cell_guid": "17e7a74a-f79b-4897-98ba-ef069896e6d0",
                "language": "sql",
                "tags": [
                    "hide_input"
                ]
            },
            "outputs": [],
            "execution_count": null
        },
        {
            "cell_type": "code",
            "source": [
                "-- zadanie 4\r\n",
                "-- Wybierz nazwy i ceny produktów (baza northwind) o cenie jednostkowej pomiędzy 20.00 a 30.00, dla każdego produktu podaj dane adresowe dostawcy\r\n",
                "SELECT Products.ProductName, Products.UnitPrice, Suppliers.Address\r\n",
                "FROM Products\r\n",
                "LEFT OUTER JOIN Suppliers ON Products.SupplierID=Suppliers.SupplierID\r\n",
                "WHERE Products.UnitPrice BETWEEN 20 AND 30"
            ],
            "metadata": {
                "azdata_cell_guid": "e084ea81-dbc9-4804-ac22-3fd7a545b756",
                "language": "sql",
                "tags": [
                    "hide_input"
                ]
            },
            "outputs": [],
            "execution_count": null
        },
        {
            "cell_type": "code",
            "source": [
                "-- zadanie 4\r\n",
                "-- Wybierz nazwy produktów oraz inf. o stanie magazynu dla produktów dostarczanych przez firmę ‘Tokyo Traders’\r\n",
                "SELECT ProductName, UnitsInStock, CompanyName\r\n",
                "FROM Products\r\n",
                "LEFT OUTER JOIN Suppliers ON Products.SupplierID=Suppliers.SupplierID\r\n",
                "WHERE CompanyName LIKE 'Tokyo Traders'\r\n",
                ""
            ],
            "metadata": {
                "azdata_cell_guid": "2ed2cce2-c0ed-407b-a938-7f3ba8926c6c",
                "language": "sql",
                "tags": [
                    "hide_input"
                ]
            },
            "outputs": [],
            "execution_count": null
        },
        {
            "cell_type": "code",
            "source": [
                "-- zadanie 5\r\n",
                "-- Czy są jacyś klienci którzy nie złożyli żadnego zamówienia w 1997 roku, jeśli tak to pokaż ich dane adresowe\r\n",
                "SELECT Customers.CompanyName, Orders.OrderDate\r\n",
                "FROM Customers \r\n",
                "LEFT OUTER JOIN Orders on Customers.CustomerID= Orders.CustomerID\r\n",
                "WHERE Customers.CustomerID NOT IN (SELECT CustomerID FROM Orders WHERE OrderDate LIKE '%1997%')\r\n",
                "ORDER BY Customers.CompanyName"
            ],
            "metadata": {
                "azdata_cell_guid": "39230e32-ea22-4646-a035-c4e4c0a8db68",
                "language": "sql",
                "tags": [
                    "hide_input"
                ]
            },
            "outputs": [],
            "execution_count": null
        },
        {
            "cell_type": "code",
            "source": [
                "-- zadanie 6\r\n",
                "-- Wybierz nazwy i numery telefonów dostawców, dostarczających produkty, których aktualnie nie  ma w magazynie\r\n",
                "\r\n",
                "SELECT Suppliers.CompanyName, Suppliers.Phone, Products.UnitsInStock\r\n",
                "FROM Suppliers\r\n",
                "LEFT OUTER JOIN Products ON Suppliers.SupplierID = Products.SupplierID\r\n",
                "WHERE Products.UnitsInStock = 0\r\n",
                ""
            ],
            "metadata": {
                "language": "sql",
                "azdata_cell_guid": "d95a9d74-0fcc-4752-972d-3ed907ec69f4",
                "tags": [
                    "hide_input"
                ]
            },
            "outputs": [],
            "execution_count": null
        },
        {
            "cell_type": "code",
            "source": [
                "-- zadanie 7\r\n",
                "-- Napisz polecenie, wyświetlające CROSS JOIN  między shippers i suppliers. użyteczne dla listowania wszystkich możliwych sposobów w jaki dostawcy mogą dostarczać swoje produkty\r\n",
                "SELECT * \r\n",
                "FROM shippers \r\n",
                "CROSS JOIN suppliers;"
            ],
            "metadata": {
                "language": "sql",
                "azdata_cell_guid": "2a706ab7-aa72-4d95-ae29-42c16d613817",
                "tags": [
                    "hide_input"
                ]
            },
            "outputs": [],
            "execution_count": null
        },
        {
            "cell_type": "code",
            "source": [
                "-- zadanie 8\r\n",
                "-- Napisz polecenie zwracające listę produktów zamawianych w dniu 1996-07-08\r\n",
                "-- nie wiem dlaczego LIKE nie działa no ale jebie mnie to po całośći\r\n",
                "SELECT Products.ProductName, Orders.OrderDate\r\n",
                "FROM Orders\r\n",
                "JOIN [Order Details] ON Orders.OrderID = [Order Details].OrderID\r\n",
                "JOIN Products ON [Order Details].ProductID = Products.ProductID\r\n",
                "WHERE Orders.OrderDate = '1996-07-08'\r\n",
                ""
            ],
            "metadata": {
                "language": "sql",
                "azdata_cell_guid": "0be75791-fe53-4516-8a49-850461424fb3",
                "tags": [
                    "hide_input"
                ]
            },
            "outputs": [],
            "execution_count": null
        },
        {
            "cell_type": "code",
            "source": [
                "-- zadanie 9\r\n",
                "-- Wybierz nazwy i ceny produktów (baza northwind) o cenie jednostkowej pomiędzy 20.00 a 30.00, \r\n",
                "-- dla każdego produktu podaj dane adresowe dostawcy, interesują nas tylko produkty z kategorii ‘Meat/Poultry’\r\n",
                "SELECT Products.ProductName, Products.UnitPrice, Suppliers.CompanyName\r\n",
                "FROM Products\r\n",
                "LEFT OUTER JOIN Suppliers ON Products.SupplierID=Suppliers.SupplierID\r\n",
                "LEFT OUTER JOIN Categories ON Products.CategoryID = Categories.CategoryID\r\n",
                "WHERE Products.UnitPrice BETWEEN 20 AND 30 AND Categories.CategoryName LIKE '%Meat/Poultry%'\r\n",
                ""
            ],
            "metadata": {
                "language": "sql",
                "azdata_cell_guid": "af098a90-e131-4cf6-8564-ef841bb5b171",
                "tags": [
                    "hide_input"
                ]
            },
            "outputs": [],
            "execution_count": null
        },
        {
            "cell_type": "code",
            "source": [
                "-- zadanie 10\r\n",
                "-- Wybierz nazwy i ceny produktów z kategorii ‘Confections’ dla każdego produktu podaj nazwę dostawcy.\r\n",
                "\r\n",
                "SELECT Products.ProductName, Products.UnitPrice, Suppliers.CompanyName, Categories.CategoryName\r\n",
                "FROM Products\r\n",
                "LEFT OUTER JOIN Suppliers ON Products.SupplierID=Suppliers.SupplierID\r\n",
                "LEFT OUTER JOIN Categories ON Products.CategoryID = Categories.CategoryID\r\n",
                "WHERE Categories.CategoryName LIKE '%Confections%'"
            ],
            "metadata": {
                "language": "sql",
                "azdata_cell_guid": "01fb2747-f5ab-4a5a-a75b-14a02693c5ad",
                "tags": [
                    "hide_input"
                ]
            },
            "outputs": [],
            "execution_count": null
        },
        {
            "cell_type": "code",
            "source": [
                "-- zadanie 11\r\n",
                "-- Wybierz nazwy i numery telefonów klientów , którym w 1997 roku przesyłki dostarczała firma ‘United Package’\r\n",
                "\r\n",
                "SELECT Customers.CompanyName, Customers.Phone , Orders.OrderDate, Orders.ShipName\r\n",
                "FROM Orders\r\n",
                "LEFT OUTER JOIN Customers ON Customers.CustomerID= Orders.CustomerID\r\n",
                "LEFT OUTER JOIN Shippers ON Shippers.ShipperID= Orders.ShipVia\r\n",
                "WHERE Shippers.CompanyName = 'United Package' AND Orders.OrderDate LIKE '%1997%'\r\n",
                "\r\n",
                "\r\n",
                ""
            ],
            "metadata": {
                "language": "sql",
                "azdata_cell_guid": "7794bbc0-1041-4c83-825e-986985bc076a",
                "tags": [
                    "hide_input"
                ]
            },
            "outputs": [],
            "execution_count": null
        },
        {
            "cell_type": "code",
            "source": [
                "-- zadanie 12\r\n",
                "-- Wybierz nazwy i numery telefonów klientów, którzy kupowali produkty  z kategorii ‘Confections’\r\n",
                "-- chuj, nie wiem jak to zrobić bo jest kurwa zjebane i 3 w nocy\r\n",
                "\r\n",
                "\r\n",
                ""
            ],
            "metadata": {
                "language": "sql",
                "azdata_cell_guid": "925862f7-d1de-4955-bee2-01c98bfb4ac4"
            },
            "outputs": [],
            "execution_count": null
        },
        {
            "cell_type": "code",
            "source": [
                "-- zadanie 13\r\n",
                "-- Napisz polecenie, które wyświetla pracowników oraz ich podwładnych (baza northwind)\r\n",
                "\r\n",
                "SELECT Employees.FirstName, Employees.LastName, Employees.EmployeeID, Employees.ReportsTo, Employees_1.FirstName, Employees_1.LastName, Employees_1.EmployeeID, Employees_1.ReportsTo\r\n",
                "FROM Employees\r\n",
                "LEFT JOIN Employees AS Employees_1 ON Employees.EmployeeID = Employees_1.ReportsTo"
            ],
            "metadata": {
                "language": "sql",
                "azdata_cell_guid": "ac48bbe9-a9ec-4b6d-931a-6036c7cbe18f",
                "tags": [
                    "hide_input"
                ]
            },
            "outputs": [],
            "execution_count": null
        },
        {
            "cell_type": "code",
            "source": [
                "-- zadanie 14\r\n",
                "-- Napisz polecenie, które wyświetla pracowników, którzy nie mają podwładnych (baza northwind)\r\n",
                "SELECT * \r\n",
                "FROM Employees\r\n",
                "WHERE EmployeeID NOT IN (SELECT ReportsTo FROM EMployees WHERE ReportsTo IS NOT NULL)\r\n",
                ""
            ],
            "metadata": {
                "language": "sql",
                "azdata_cell_guid": "2e7efe11-c183-4828-88f7-f6bdd1cd2cbd",
                "tags": [
                    "hide_input"
                ]
            },
            "outputs": [],
            "execution_count": null
        },
        {
            "cell_type": "code",
            "source": [
                "-- zadanie 15\r\n",
                "-- Napisz polecenie, które wyświetla adresy  członków biblioteki, którzy mają dzieci urodzone przed 1 stycznia 1996\r\n",
                "-- jebac ta baze z biblioteka"
            ],
            "metadata": {
                "language": "sql",
                "azdata_cell_guid": "706627e5-89ea-449d-9e7a-84132e2ce58c",
                "tags": []
            },
            "outputs": [],
            "execution_count": null
        },
        {
            "cell_type": "code",
            "source": [
                "-- zadannie 16\r\n",
                "-- Napisz polecenie, które wyświetla adresy  członków biblioteki, którzy mają dzieci urodzone przed 1 stycznia 1996. \r\n",
                "-- Interesują nas tylko adresy takich członków biblioteki, którzy aktualnie nie przetrzymują książek.\r\n",
                ""
            ],
            "metadata": {
                "language": "sql",
                "azdata_cell_guid": "a0177f7e-551e-4fbd-a307-ac98e7a5a296",
                "tags": []
            },
            "outputs": [],
            "execution_count": null
        },
        {
            "cell_type": "code",
            "source": [
                "-- zadanie 17\r\n",
                "-- Napisz polecenie które zwraca imię i nazwisko (jako pojedynczą kolumnę – name), oraz informacje o adresie:\r\n",
                "-- ulica, miasto, stan kod (jako pojedynczą kolumnę – address)  dla wszystkich dorosłych członków biblioteki\r\n",
                ""
            ],
            "metadata": {
                "language": "sql",
                "azdata_cell_guid": "0b9636a5-540f-4f7b-a72a-f8707295aaf2"
            },
            "outputs": [],
            "execution_count": null
        },
        {
            "cell_type": "code",
            "source": [
                "-- zadanie 18\r\n",
                "-- Napisz polecenie, które zwraca: isbn, copy_no, on_loan, title, translation, cover,  dla książek o isbn 1, 500 i 1000.  Wynik posortuj wg ISBN\r\n",
                ""
            ],
            "metadata": {
                "language": "sql",
                "azdata_cell_guid": "3ccc291c-a50f-408b-906d-4637b3b30e07",
                "tags": []
            },
            "outputs": [],
            "execution_count": null
        },
        {
            "cell_type": "code",
            "source": [
                "-- zadanie 19\r\n",
                "-- Napisz polecenie które zwraca o użytkownikach biblioteki o nr 250, 342, i 1675 \r\n",
                "-- (dla każdego użytkownika: nr, imię i nazwisko członka biblioteki), oraz informację o  zarezerwowanych książkach (isbn, data) \r\n",
                ""
            ],
            "metadata": {
                "language": "sql",
                "azdata_cell_guid": "adaef547-c849-4f75-8a2c-523f80b695ff"
            },
            "outputs": [],
            "execution_count": null
        },
        {
            "cell_type": "code",
            "source": [
                "-- zadanie 20\r\n",
                "-- Podaj listę członków biblioteki mieszkających w Arizonie (AZ) mają  więcej niż dwoje dzieci zapisanych do biblioteki  \r\n",
                ""
            ],
            "metadata": {
                "language": "sql",
                "azdata_cell_guid": "27d24b66-3dc5-4e35-a7fc-a7ca5a73535e",
                "tags": []
            },
            "outputs": [],
            "execution_count": null
        },
        {
            "cell_type": "code",
            "source": [
                "-- zadanie 21\r\n",
                "-- Podaj listę członków biblioteki mieszkających w Arizonie (AZ) którzy mają  więcej niż dwoje dzieci zapisanych do biblioteki \r\n",
                "-- oraz takich którzy mieszkają w Kaliforni (CA) i mają więcej niż troje dzieci zapisanych do biblioteki\r\n",
                ""
            ],
            "metadata": {
                "language": "sql",
                "azdata_cell_guid": "ac4966e7-7ffa-4616-aebf-172a96abec8c",
                "tags": []
            },
            "outputs": [],
            "execution_count": null
        }
    ]
}