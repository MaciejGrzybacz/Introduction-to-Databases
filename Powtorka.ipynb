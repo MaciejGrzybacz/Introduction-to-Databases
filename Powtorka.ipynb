{
    "metadata": {
        "kernelspec": {
            "name": "SQL",
            "display_name": "SQL",
            "language": "sql"
        },
        "language_info": {
            "name": "sql",
            "version": ""
        }
    },
    "nbformat_minor": 2,
    "nbformat": 4,
    "cells": [
        {
            "cell_type": "code",
            "source": [
                "-- Dla każdego klienta podaj imię i nazwisko pracownika, który w 1997r obsłużył\r\n",
                "-- najwięcej jego zamówień, podaj także liczbę tych zamówień (jeśli jest kilku takich\r\n",
                "-- pracownikow to wystarczy podać imię nazwisko jednego nich). Za datę obsłużenia\r\n",
                "-- zamówienia należy przyjąć orderdate. Zbiór wynikowy powinien zawierać nazwę\r\n",
                "-- klienta, imię i nazwisko pracownika oraz liczbę obsłużonych zamówień. (baza\r\n",
                "-- northwind)\r\n",
                "USE Northwind;\r\n",
                "\r\n",
                "SELECT c.CompanyName, e.FirstName, e.LastName, COUNT(*)\r\n",
                "FROM Orders o\r\n",
                "JOIN Customers c ON c.CustomerID=o.CustomerID\r\n",
                "JOIN Employees e ON e.EmployeeID=o.EmployeeID\r\n",
                "GROUP BY c.CompanyName, e.FirstName, e.LastName\r\n",
                "HAVING COUNT(*) = (SELECT MAX(temp.count)\r\n",
                "                    FROM (SELECT c.CompanyName AS comnam, e.FirstName AS firnam, e.LastName AS lasnam, COUNT(*) AS count\r\n",
                "                            FROM Orders o\r\n",
                "                            JOIN Customers c ON c.CustomerID=o.CustomerID\r\n",
                "                            JOIN Employees e ON e.EmployeeID=o.EmployeeID\r\n",
                "                            WHERE YEAR(o.OrderDate)=1997\r\n",
                "                            GROUP BY c.CompanyName, e.FirstName, e.LastName) temp\r\n",
                "                    WHERE temp.comnam=c.CompanyName)\r\n",
                ""
            ],
            "metadata": {
                "azdata_cell_guid": "1e020bde-2b13-49c6-a0e3-bb25d00bba51",
                "language": "sql",
                "tags": []
            },
            "outputs": [
                {
                    "output_type": "display_data",
                    "data": {
                        "text/html": "(197 rows affected)"
                    },
                    "metadata": {}
                },
                {
                    "output_type": "display_data",
                    "data": {
                        "text/html": "Total execution time: 00:00:00.143"
                    },
                    "metadata": {}
                },
                {
                    "output_type": "execute_result",
                    "execution_count": 1,
                    "data": {
                        "application/vnd.dataresource+json": {
                            "schema": {
                                "fields": [
                                    {
                                        "name": "CompanyName"
                                    },
                                    {
                                        "name": "FirstName"
                                    },
                                    {
                                        "name": "LastName"
                                    },
                                    {
                                        "name": "(No column name)"
                                    }
                                ]
                            },
                            "data": [
                                {
                                    "CompanyName": "Alfreds Futterkiste",
                                    "FirstName": "Margaret",
                                    "LastName": "Peacock",
                                    "(No column name)": "2"
                                },
                                {
                                    "CompanyName": "Alfreds Futterkiste",
                                    "FirstName": "Nancy",
                                    "LastName": "Davolio",
                                    "(No column name)": "2"
                                },
                                {
                                    "CompanyName": "Ana Trujillo Emparedados y helados",
                                    "FirstName": "Janet",
                                    "LastName": "Leverling",
                                    "(No column name)": "2"
                                },
                                {
                                    "CompanyName": "Antonio Moreno Taquería",
                                    "FirstName": "Robert",
                                    "LastName": "King",
                                    "(No column name)": "2"
                                },
                                {
                                    "CompanyName": "Around the Horn",
                                    "FirstName": "Nancy",
                                    "LastName": "Davolio",
                                    "(No column name)": "3"
                                },
                                {
                                    "CompanyName": "Berglunds snabbköp",
                                    "FirstName": "Nancy",
                                    "LastName": "Davolio",
                                    "(No column name)": "4"
                                },
                                {
                                    "CompanyName": "Blauer See Delikatessen",
                                    "FirstName": "Janet",
                                    "LastName": "Leverling",
                                    "(No column name)": "1"
                                },
                                {
                                    "CompanyName": "Blauer See Delikatessen",
                                    "FirstName": "Laura",
                                    "LastName": "Callahan",
                                    "(No column name)": "1"
                                },
                                {
                                    "CompanyName": "Blauer See Delikatessen",
                                    "FirstName": "Margaret",
                                    "LastName": "Peacock",
                                    "(No column name)": "1"
                                },
                                {
                                    "CompanyName": "Blauer See Delikatessen",
                                    "FirstName": "Michael",
                                    "LastName": "Suyama",
                                    "(No column name)": "1"
                                },
                                {
                                    "CompanyName": "Blondesddsl père et fils",
                                    "FirstName": "Janet",
                                    "LastName": "Leverling",
                                    "(No column name)": "2"
                                },
                                {
                                    "CompanyName": "Blondesddsl père et fils",
                                    "FirstName": "Michael",
                                    "LastName": "Suyama",
                                    "(No column name)": "2"
                                },
                                {
                                    "CompanyName": "Bon app'",
                                    "FirstName": "Janet",
                                    "LastName": "Leverling",
                                    "(No column name)": "3"
                                },
                                {
                                    "CompanyName": "Bon app'",
                                    "FirstName": "Nancy",
                                    "LastName": "Davolio",
                                    "(No column name)": "3"
                                },
                                {
                                    "CompanyName": "Bólido Comidas preparadas",
                                    "FirstName": "Anne",
                                    "LastName": "Dodsworth",
                                    "(No column name)": "1"
                                },
                                {
                                    "CompanyName": "B's Beverages",
                                    "FirstName": "Janet",
                                    "LastName": "Leverling",
                                    "(No column name)": "2"
                                },
                                {
                                    "CompanyName": "B's Beverages",
                                    "FirstName": "Margaret",
                                    "LastName": "Peacock",
                                    "(No column name)": "2"
                                },
                                {
                                    "CompanyName": "B's Beverages",
                                    "FirstName": "Michael",
                                    "LastName": "Suyama",
                                    "(No column name)": "2"
                                },
                                {
                                    "CompanyName": "Cactus Comidas para llevar",
                                    "FirstName": "Andrew",
                                    "LastName": "Fuller",
                                    "(No column name)": "1"
                                },
                                {
                                    "CompanyName": "Cactus Comidas para llevar",
                                    "FirstName": "Anne",
                                    "LastName": "Dodsworth",
                                    "(No column name)": "1"
                                },
                                {
                                    "CompanyName": "Cactus Comidas para llevar",
                                    "FirstName": "Margaret",
                                    "LastName": "Peacock",
                                    "(No column name)": "1"
                                },
                                {
                                    "CompanyName": "Cactus Comidas para llevar",
                                    "FirstName": "Robert",
                                    "LastName": "King",
                                    "(No column name)": "1"
                                },
                                {
                                    "CompanyName": "Chop-suey Chinese",
                                    "FirstName": "Janet",
                                    "LastName": "Leverling",
                                    "(No column name)": "1"
                                },
                                {
                                    "CompanyName": "Chop-suey Chinese",
                                    "FirstName": "Nancy",
                                    "LastName": "Davolio",
                                    "(No column name)": "1"
                                },
                                {
                                    "CompanyName": "Chop-suey Chinese",
                                    "FirstName": "Robert",
                                    "LastName": "King",
                                    "(No column name)": "1"
                                },
                                {
                                    "CompanyName": "Chop-suey Chinese",
                                    "FirstName": "Steven",
                                    "LastName": "Buchanan",
                                    "(No column name)": "1"
                                },
                                {
                                    "CompanyName": "Comércio Mineiro",
                                    "FirstName": "Margaret",
                                    "LastName": "Peacock",
                                    "(No column name)": "2"
                                },
                                {
                                    "CompanyName": "Consolidated Holdings",
                                    "FirstName": "Andrew",
                                    "LastName": "Fuller",
                                    "(No column name)": "1"
                                },
                                {
                                    "CompanyName": "Consolidated Holdings",
                                    "FirstName": "Laura",
                                    "LastName": "Callahan",
                                    "(No column name)": "1"
                                },
                                {
                                    "CompanyName": "Consolidated Holdings",
                                    "FirstName": "Robert",
                                    "LastName": "King",
                                    "(No column name)": "1"
                                },
                                {
                                    "CompanyName": "Die Wandernde Kuh",
                                    "FirstName": "Margaret",
                                    "LastName": "Peacock",
                                    "(No column name)": "2"
                                },
                                {
                                    "CompanyName": "Drachenblut Delikatessen",
                                    "FirstName": "Janet",
                                    "LastName": "Leverling",
                                    "(No column name)": "1"
                                },
                                {
                                    "CompanyName": "Drachenblut Delikatessen",
                                    "FirstName": "Laura",
                                    "LastName": "Callahan",
                                    "(No column name)": "1"
                                },
                                {
                                    "CompanyName": "Drachenblut Delikatessen",
                                    "FirstName": "Margaret",
                                    "LastName": "Peacock",
                                    "(No column name)": "1"
                                },
                                {
                                    "CompanyName": "Drachenblut Delikatessen",
                                    "FirstName": "Robert",
                                    "LastName": "King",
                                    "(No column name)": "1"
                                },
                                {
                                    "CompanyName": "Du monde entier",
                                    "FirstName": "Andrew",
                                    "LastName": "Fuller",
                                    "(No column name)": "1"
                                },
                                {
                                    "CompanyName": "Du monde entier",
                                    "FirstName": "Nancy",
                                    "LastName": "Davolio",
                                    "(No column name)": "1"
                                },
                                {
                                    "CompanyName": "Ernst Handel",
                                    "FirstName": "Andrew",
                                    "LastName": "Fuller",
                                    "(No column name)": "3"
                                },
                                {
                                    "CompanyName": "Ernst Handel",
                                    "FirstName": "Anne",
                                    "LastName": "Dodsworth",
                                    "(No column name)": "3"
                                },
                                {
                                    "CompanyName": "Familia Arquibaldo",
                                    "FirstName": "Andrew",
                                    "LastName": "Fuller",
                                    "(No column name)": "1"
                                },
                                {
                                    "CompanyName": "Familia Arquibaldo",
                                    "FirstName": "Anne",
                                    "LastName": "Dodsworth",
                                    "(No column name)": "1"
                                },
                                {
                                    "CompanyName": "Familia Arquibaldo",
                                    "FirstName": "Janet",
                                    "LastName": "Leverling",
                                    "(No column name)": "1"
                                },
                                {
                                    "CompanyName": "Familia Arquibaldo",
                                    "FirstName": "Robert",
                                    "LastName": "King",
                                    "(No column name)": "1"
                                },
                                {
                                    "CompanyName": "Familia Arquibaldo",
                                    "FirstName": "Steven",
                                    "LastName": "Buchanan",
                                    "(No column name)": "1"
                                },
                                {
                                    "CompanyName": "Folies gourmandes",
                                    "FirstName": "Janet",
                                    "LastName": "Leverling",
                                    "(No column name)": "1"
                                },
                                {
                                    "CompanyName": "Folies gourmandes",
                                    "FirstName": "Laura",
                                    "LastName": "Callahan",
                                    "(No column name)": "1"
                                },
                                {
                                    "CompanyName": "Folies gourmandes",
                                    "FirstName": "Margaret",
                                    "LastName": "Peacock",
                                    "(No column name)": "1"
                                },
                                {
                                    "CompanyName": "Folies gourmandes",
                                    "FirstName": "Michael",
                                    "LastName": "Suyama",
                                    "(No column name)": "1"
                                },
                                {
                                    "CompanyName": "Folies gourmandes",
                                    "FirstName": "Nancy",
                                    "LastName": "Davolio",
                                    "(No column name)": "1"
                                },
                                {
                                    "CompanyName": "Folk och fä HB",
                                    "FirstName": "Janet",
                                    "LastName": "Leverling",
                                    "(No column name)": "2"
                                },
                                {
                                    "CompanyName": "Folk och fä HB",
                                    "FirstName": "Margaret",
                                    "LastName": "Peacock",
                                    "(No column name)": "2"
                                },
                                {
                                    "CompanyName": "Folk och fä HB",
                                    "FirstName": "Michael",
                                    "LastName": "Suyama",
                                    "(No column name)": "2"
                                },
                                {
                                    "CompanyName": "Folk och fä HB",
                                    "FirstName": "Robert",
                                    "LastName": "King",
                                    "(No column name)": "2"
                                },
                                {
                                    "CompanyName": "France restauration",
                                    "FirstName": "Andrew",
                                    "LastName": "Fuller",
                                    "(No column name)": "1"
                                },
                                {
                                    "CompanyName": "France restauration",
                                    "FirstName": "Janet",
                                    "LastName": "Leverling",
                                    "(No column name)": "1"
                                },
                                {
                                    "CompanyName": "France restauration",
                                    "FirstName": "Nancy",
                                    "LastName": "Davolio",
                                    "(No column name)": "1"
                                },
                                {
                                    "CompanyName": "Franchi S.p.A.",
                                    "FirstName": "Janet",
                                    "LastName": "Leverling",
                                    "(No column name)": "1"
                                },
                                {
                                    "CompanyName": "Franchi S.p.A.",
                                    "FirstName": "Nancy",
                                    "LastName": "Davolio",
                                    "(No column name)": "1"
                                },
                                {
                                    "CompanyName": "Frankenversand",
                                    "FirstName": "Laura",
                                    "LastName": "Callahan",
                                    "(No column name)": "3"
                                },
                                {
                                    "CompanyName": "Furia Bacalhau e Frutos do Mar",
                                    "FirstName": "Nancy",
                                    "LastName": "Davolio",
                                    "(No column name)": "2"
                                },
                                {
                                    "CompanyName": "Galería del gastrónomo",
                                    "FirstName": "Janet",
                                    "LastName": "Leverling",
                                    "(No column name)": "1"
                                },
                                {
                                    "CompanyName": "Galería del gastrónomo",
                                    "FirstName": "Margaret",
                                    "LastName": "Peacock",
                                    "(No column name)": "1"
                                },
                                {
                                    "CompanyName": "Galería del gastrónomo",
                                    "FirstName": "Nancy",
                                    "LastName": "Davolio",
                                    "(No column name)": "1"
                                },
                                {
                                    "CompanyName": "Godos Cocina Típica",
                                    "FirstName": "Andrew",
                                    "LastName": "Fuller",
                                    "(No column name)": "1"
                                },
                                {
                                    "CompanyName": "Godos Cocina Típica",
                                    "FirstName": "Margaret",
                                    "LastName": "Peacock",
                                    "(No column name)": "1"
                                },
                                {
                                    "CompanyName": "Godos Cocina Típica",
                                    "FirstName": "Nancy",
                                    "LastName": "Davolio",
                                    "(No column name)": "1"
                                },
                                {
                                    "CompanyName": "Gourmet Lanchonetes",
                                    "FirstName": "Margaret",
                                    "LastName": "Peacock",
                                    "(No column name)": "2"
                                },
                                {
                                    "CompanyName": "Great Lakes Food Market",
                                    "FirstName": "Michael",
                                    "LastName": "Suyama",
                                    "(No column name)": "2"
                                },
                                {
                                    "CompanyName": "GROSELLA-Restaurante",
                                    "FirstName": "Laura",
                                    "LastName": "Callahan",
                                    "(No column name)": "1"
                                },
                                {
                                    "CompanyName": "GROSELLA-Restaurante",
                                    "FirstName": "Nancy",
                                    "LastName": "Davolio",
                                    "(No column name)": "1"
                                },
                                {
                                    "CompanyName": "HILARION-Abastos",
                                    "FirstName": "Janet",
                                    "LastName": "Leverling",
                                    "(No column name)": "2"
                                },
                                {
                                    "CompanyName": "HILARION-Abastos",
                                    "FirstName": "Nancy",
                                    "LastName": "Davolio",
                                    "(No column name)": "2"
                                },
                                {
                                    "CompanyName": "Hungry Coyote Import Store",
                                    "FirstName": "Laura",
                                    "LastName": "Callahan",
                                    "(No column name)": "1"
                                },
                                {
                                    "CompanyName": "Hungry Coyote Import Store",
                                    "FirstName": "Margaret",
                                    "LastName": "Peacock",
                                    "(No column name)": "1"
                                },
                                {
                                    "CompanyName": "Hungry Coyote Import Store",
                                    "FirstName": "Nancy",
                                    "LastName": "Davolio",
                                    "(No column name)": "1"
                                },
                                {
                                    "CompanyName": "Hungry Owl All-Night Grocers",
                                    "FirstName": "Andrew",
                                    "LastName": "Fuller",
                                    "(No column name)": "3"
                                },
                                {
                                    "CompanyName": "Hungry Owl All-Night Grocers",
                                    "FirstName": "Anne",
                                    "LastName": "Dodsworth",
                                    "(No column name)": "3"
                                },
                                {
                                    "CompanyName": "Hungry Owl All-Night Grocers",
                                    "FirstName": "Michael",
                                    "LastName": "Suyama",
                                    "(No column name)": "3"
                                },
                                {
                                    "CompanyName": "La maison d'Asie",
                                    "FirstName": "Andrew",
                                    "LastName": "Fuller",
                                    "(No column name)": "2"
                                },
                                {
                                    "CompanyName": "La maison d'Asie",
                                    "FirstName": "Laura",
                                    "LastName": "Callahan",
                                    "(No column name)": "2"
                                },
                                {
                                    "CompanyName": "La maison d'Asie",
                                    "FirstName": "Margaret",
                                    "LastName": "Peacock",
                                    "(No column name)": "2"
                                },
                                {
                                    "CompanyName": "La maison d'Asie",
                                    "FirstName": "Robert",
                                    "LastName": "King",
                                    "(No column name)": "2"
                                },
                                {
                                    "CompanyName": "Laughing Bacchus Wine Cellars",
                                    "FirstName": "Janet",
                                    "LastName": "Leverling",
                                    "(No column name)": "1"
                                },
                                {
                                    "CompanyName": "Lazy K Kountry Store",
                                    "FirstName": "Laura",
                                    "LastName": "Callahan",
                                    "(No column name)": "1"
                                },
                                {
                                    "CompanyName": "Lazy K Kountry Store",
                                    "FirstName": "Nancy",
                                    "LastName": "Davolio",
                                    "(No column name)": "1"
                                },
                                {
                                    "CompanyName": "Lehmanns Marktstand",
                                    "FirstName": "Laura",
                                    "LastName": "Callahan",
                                    "(No column name)": "3"
                                },
                                {
                                    "CompanyName": "Lehmanns Marktstand",
                                    "FirstName": "Margaret",
                                    "LastName": "Peacock",
                                    "(No column name)": "3"
                                },
                                {
                                    "CompanyName": "Lehmanns Marktstand",
                                    "FirstName": "Robert",
                                    "LastName": "King",
                                    "(No column name)": "3"
                                },
                                {
                                    "CompanyName": "Let's Stop N Shop",
                                    "FirstName": "Laura",
                                    "LastName": "Callahan",
                                    "(No column name)": "1"
                                },
                                {
                                    "CompanyName": "Let's Stop N Shop",
                                    "FirstName": "Margaret",
                                    "LastName": "Peacock",
                                    "(No column name)": "1"
                                },
                                {
                                    "CompanyName": "Let's Stop N Shop",
                                    "FirstName": "Michael",
                                    "LastName": "Suyama",
                                    "(No column name)": "1"
                                },
                                {
                                    "CompanyName": "Let's Stop N Shop",
                                    "FirstName": "Nancy",
                                    "LastName": "Davolio",
                                    "(No column name)": "1"
                                },
                                {
                                    "CompanyName": "LILA-Supermercado",
                                    "FirstName": "Andrew",
                                    "LastName": "Fuller",
                                    "(No column name)": "1"
                                },
                                {
                                    "CompanyName": "LILA-Supermercado",
                                    "FirstName": "Margaret",
                                    "LastName": "Peacock",
                                    "(No column name)": "1"
                                },
                                {
                                    "CompanyName": "LILA-Supermercado",
                                    "FirstName": "Michael",
                                    "LastName": "Suyama",
                                    "(No column name)": "1"
                                },
                                {
                                    "CompanyName": "LINO-Delicateses",
                                    "FirstName": "Andrew",
                                    "LastName": "Fuller",
                                    "(No column name)": "2"
                                },
                                {
                                    "CompanyName": "LINO-Delicateses",
                                    "FirstName": "Laura",
                                    "LastName": "Callahan",
                                    "(No column name)": "2"
                                },
                                {
                                    "CompanyName": "LINO-Delicateses",
                                    "FirstName": "Margaret",
                                    "LastName": "Peacock",
                                    "(No column name)": "2"
                                },
                                {
                                    "CompanyName": "LINO-Delicateses",
                                    "FirstName": "Nancy",
                                    "LastName": "Davolio",
                                    "(No column name)": "2"
                                },
                                {
                                    "CompanyName": "Lonesome Pine Restaurant",
                                    "FirstName": "Andrew",
                                    "LastName": "Fuller",
                                    "(No column name)": "1"
                                },
                                {
                                    "CompanyName": "Lonesome Pine Restaurant",
                                    "FirstName": "Janet",
                                    "LastName": "Leverling",
                                    "(No column name)": "1"
                                },
                                {
                                    "CompanyName": "Lonesome Pine Restaurant",
                                    "FirstName": "Laura",
                                    "LastName": "Callahan",
                                    "(No column name)": "1"
                                },
                                {
                                    "CompanyName": "Lonesome Pine Restaurant",
                                    "FirstName": "Nancy",
                                    "LastName": "Davolio",
                                    "(No column name)": "1"
                                },
                                {
                                    "CompanyName": "Magazzini Alimentari Riuniti",
                                    "FirstName": "Laura",
                                    "LastName": "Callahan",
                                    "(No column name)": "2"
                                },
                                {
                                    "CompanyName": "Magazzini Alimentari Riuniti",
                                    "FirstName": "Nancy",
                                    "LastName": "Davolio",
                                    "(No column name)": "2"
                                },
                                {
                                    "CompanyName": "Maison Dewey",
                                    "FirstName": "Margaret",
                                    "LastName": "Peacock",
                                    "(No column name)": "2"
                                },
                                {
                                    "CompanyName": "Maison Dewey",
                                    "FirstName": "Steven",
                                    "LastName": "Buchanan",
                                    "(No column name)": "2"
                                },
                                {
                                    "CompanyName": "Mère Paillarde",
                                    "FirstName": "Nancy",
                                    "LastName": "Davolio",
                                    "(No column name)": "3"
                                },
                                {
                                    "CompanyName": "Morgenstern Gesundkost",
                                    "FirstName": "Janet",
                                    "LastName": "Leverling",
                                    "(No column name)": "2"
                                },
                                {
                                    "CompanyName": "North/South",
                                    "FirstName": "Andrew",
                                    "LastName": "Fuller",
                                    "(No column name)": "1"
                                },
                                {
                                    "CompanyName": "Océano Atlántico Ltda.",
                                    "FirstName": "Janet",
                                    "LastName": "Leverling",
                                    "(No column name)": "1"
                                },
                                {
                                    "CompanyName": "Océano Atlántico Ltda.",
                                    "FirstName": "Laura",
                                    "LastName": "Callahan",
                                    "(No column name)": "1"
                                },
                                {
                                    "CompanyName": "Océano Atlántico Ltda.",
                                    "FirstName": "Margaret",
                                    "LastName": "Peacock",
                                    "(No column name)": "1"
                                },
                                {
                                    "CompanyName": "Pericles Comidas clásicas",
                                    "FirstName": "Laura",
                                    "LastName": "Callahan",
                                    "(No column name)": "1"
                                },
                                {
                                    "CompanyName": "Pericles Comidas clásicas",
                                    "FirstName": "Nancy",
                                    "LastName": "Davolio",
                                    "(No column name)": "1"
                                },
                                {
                                    "CompanyName": "Pericles Comidas clásicas",
                                    "FirstName": "Robert",
                                    "LastName": "King",
                                    "(No column name)": "1"
                                },
                                {
                                    "CompanyName": "Pericles Comidas clásicas",
                                    "FirstName": "Steven",
                                    "LastName": "Buchanan",
                                    "(No column name)": "1"
                                },
                                {
                                    "CompanyName": "Piccolo und mehr",
                                    "FirstName": "Michael",
                                    "LastName": "Suyama",
                                    "(No column name)": "2"
                                },
                                {
                                    "CompanyName": "Piccolo und mehr",
                                    "FirstName": "Robert",
                                    "LastName": "King",
                                    "(No column name)": "2"
                                },
                                {
                                    "CompanyName": "Princesa Isabel Vinhos",
                                    "FirstName": "Janet",
                                    "LastName": "Leverling",
                                    "(No column name)": "1"
                                },
                                {
                                    "CompanyName": "Princesa Isabel Vinhos",
                                    "FirstName": "Laura",
                                    "LastName": "Callahan",
                                    "(No column name)": "1"
                                },
                                {
                                    "CompanyName": "Princesa Isabel Vinhos",
                                    "FirstName": "Robert",
                                    "LastName": "King",
                                    "(No column name)": "1"
                                },
                                {
                                    "CompanyName": "Que Delícia",
                                    "FirstName": "Andrew",
                                    "LastName": "Fuller",
                                    "(No column name)": "2"
                                },
                                {
                                    "CompanyName": "Que Delícia",
                                    "FirstName": "Laura",
                                    "LastName": "Callahan",
                                    "(No column name)": "2"
                                },
                                {
                                    "CompanyName": "Que Delícia",
                                    "FirstName": "Margaret",
                                    "LastName": "Peacock",
                                    "(No column name)": "2"
                                },
                                {
                                    "CompanyName": "Que Delícia",
                                    "FirstName": "Michael",
                                    "LastName": "Suyama",
                                    "(No column name)": "2"
                                },
                                {
                                    "CompanyName": "Queen Cozinha",
                                    "FirstName": "Margaret",
                                    "LastName": "Peacock",
                                    "(No column name)": "2"
                                },
                                {
                                    "CompanyName": "Rancho grande",
                                    "FirstName": "Margaret",
                                    "LastName": "Peacock",
                                    "(No column name)": "2"
                                },
                                {
                                    "CompanyName": "Rattlesnake Canyon Grocery",
                                    "FirstName": "Laura",
                                    "LastName": "Callahan",
                                    "(No column name)": "2"
                                },
                                {
                                    "CompanyName": "Rattlesnake Canyon Grocery",
                                    "FirstName": "Margaret",
                                    "LastName": "Peacock",
                                    "(No column name)": "2"
                                },
                                {
                                    "CompanyName": "Rattlesnake Canyon Grocery",
                                    "FirstName": "Steven",
                                    "LastName": "Buchanan",
                                    "(No column name)": "2"
                                },
                                {
                                    "CompanyName": "Reggiani Caseifici",
                                    "FirstName": "Andrew",
                                    "LastName": "Fuller",
                                    "(No column name)": "2"
                                },
                                {
                                    "CompanyName": "Reggiani Caseifici",
                                    "FirstName": "Anne",
                                    "LastName": "Dodsworth",
                                    "(No column name)": "2"
                                },
                                {
                                    "CompanyName": "Reggiani Caseifici",
                                    "FirstName": "Nancy",
                                    "LastName": "Davolio",
                                    "(No column name)": "2"
                                },
                                {
                                    "CompanyName": "Ricardo Adocicados",
                                    "FirstName": "Andrew",
                                    "LastName": "Fuller",
                                    "(No column name)": "2"
                                },
                                {
                                    "CompanyName": "Ricardo Adocicados",
                                    "FirstName": "Laura",
                                    "LastName": "Callahan",
                                    "(No column name)": "2"
                                },
                                {
                                    "CompanyName": "Ricardo Adocicados",
                                    "FirstName": "Nancy",
                                    "LastName": "Davolio",
                                    "(No column name)": "2"
                                },
                                {
                                    "CompanyName": "Ricardo Adocicados",
                                    "FirstName": "Steven",
                                    "LastName": "Buchanan",
                                    "(No column name)": "2"
                                },
                                {
                                    "CompanyName": "Richter Supermarkt",
                                    "FirstName": "Anne",
                                    "LastName": "Dodsworth",
                                    "(No column name)": "2"
                                },
                                {
                                    "CompanyName": "Richter Supermarkt",
                                    "FirstName": "Janet",
                                    "LastName": "Leverling",
                                    "(No column name)": "2"
                                },
                                {
                                    "CompanyName": "Richter Supermarkt",
                                    "FirstName": "Margaret",
                                    "LastName": "Peacock",
                                    "(No column name)": "2"
                                },
                                {
                                    "CompanyName": "Richter Supermarkt",
                                    "FirstName": "Robert",
                                    "LastName": "King",
                                    "(No column name)": "2"
                                },
                                {
                                    "CompanyName": "Santé Gourmet",
                                    "FirstName": "Nancy",
                                    "LastName": "Davolio",
                                    "(No column name)": "2"
                                },
                                {
                                    "CompanyName": "Santé Gourmet",
                                    "FirstName": "Robert",
                                    "LastName": "King",
                                    "(No column name)": "2"
                                },
                                {
                                    "CompanyName": "Save-a-lot Markets",
                                    "FirstName": "Andrew",
                                    "LastName": "Fuller",
                                    "(No column name)": "4"
                                },
                                {
                                    "CompanyName": "Save-a-lot Markets",
                                    "FirstName": "Laura",
                                    "LastName": "Callahan",
                                    "(No column name)": "4"
                                },
                                {
                                    "CompanyName": "Save-a-lot Markets",
                                    "FirstName": "Margaret",
                                    "LastName": "Peacock",
                                    "(No column name)": "4"
                                },
                                {
                                    "CompanyName": "Save-a-lot Markets",
                                    "FirstName": "Michael",
                                    "LastName": "Suyama",
                                    "(No column name)": "4"
                                },
                                {
                                    "CompanyName": "Seven Seas Imports",
                                    "FirstName": "Andrew",
                                    "LastName": "Fuller",
                                    "(No column name)": "1"
                                },
                                {
                                    "CompanyName": "Seven Seas Imports",
                                    "FirstName": "Janet",
                                    "LastName": "Leverling",
                                    "(No column name)": "1"
                                },
                                {
                                    "CompanyName": "Seven Seas Imports",
                                    "FirstName": "Laura",
                                    "LastName": "Callahan",
                                    "(No column name)": "1"
                                },
                                {
                                    "CompanyName": "Seven Seas Imports",
                                    "FirstName": "Michael",
                                    "LastName": "Suyama",
                                    "(No column name)": "1"
                                },
                                {
                                    "CompanyName": "Seven Seas Imports",
                                    "FirstName": "Robert",
                                    "LastName": "King",
                                    "(No column name)": "1"
                                },
                                {
                                    "CompanyName": "Simons bistro",
                                    "FirstName": "Andrew",
                                    "LastName": "Fuller",
                                    "(No column name)": "2"
                                },
                                {
                                    "CompanyName": "Simons bistro",
                                    "FirstName": "Margaret",
                                    "LastName": "Peacock",
                                    "(No column name)": "2"
                                },
                                {
                                    "CompanyName": "Spécialités du monde",
                                    "FirstName": "Andrew",
                                    "LastName": "Fuller",
                                    "(No column name)": "1"
                                },
                                {
                                    "CompanyName": "Spécialités du monde",
                                    "FirstName": "Janet",
                                    "LastName": "Leverling",
                                    "(No column name)": "1"
                                },
                                {
                                    "CompanyName": "Spécialités du monde",
                                    "FirstName": "Michael",
                                    "LastName": "Suyama",
                                    "(No column name)": "1"
                                },
                                {
                                    "CompanyName": "Spécialités du monde",
                                    "FirstName": "Steven",
                                    "LastName": "Buchanan",
                                    "(No column name)": "1"
                                },
                                {
                                    "CompanyName": "Split Rail Beer & Ale",
                                    "FirstName": "Margaret",
                                    "LastName": "Peacock",
                                    "(No column name)": "1"
                                },
                                {
                                    "CompanyName": "Split Rail Beer & Ale",
                                    "FirstName": "Michael",
                                    "LastName": "Suyama",
                                    "(No column name)": "1"
                                },
                                {
                                    "CompanyName": "Split Rail Beer & Ale",
                                    "FirstName": "Robert",
                                    "LastName": "King",
                                    "(No column name)": "1"
                                },
                                {
                                    "CompanyName": "Suprêmes délices",
                                    "FirstName": "Anne",
                                    "LastName": "Dodsworth",
                                    "(No column name)": "1"
                                },
                                {
                                    "CompanyName": "Suprêmes délices",
                                    "FirstName": "Michael",
                                    "LastName": "Suyama",
                                    "(No column name)": "1"
                                },
                                {
                                    "CompanyName": "Suprêmes délices",
                                    "FirstName": "Nancy",
                                    "LastName": "Davolio",
                                    "(No column name)": "1"
                                },
                                {
                                    "CompanyName": "Suprêmes délices",
                                    "FirstName": "Robert",
                                    "LastName": "King",
                                    "(No column name)": "1"
                                },
                                {
                                    "CompanyName": "The Big Cheese",
                                    "FirstName": "Andrew",
                                    "LastName": "Fuller",
                                    "(No column name)": "1"
                                },
                                {
                                    "CompanyName": "The Big Cheese",
                                    "FirstName": "Laura",
                                    "LastName": "Callahan",
                                    "(No column name)": "1"
                                },
                                {
                                    "CompanyName": "The Big Cheese",
                                    "FirstName": "Michael",
                                    "LastName": "Suyama",
                                    "(No column name)": "1"
                                },
                                {
                                    "CompanyName": "The Big Cheese",
                                    "FirstName": "Nancy",
                                    "LastName": "Davolio",
                                    "(No column name)": "1"
                                },
                                {
                                    "CompanyName": "The Cracker Box",
                                    "FirstName": "Janet",
                                    "LastName": "Leverling",
                                    "(No column name)": "1"
                                },
                                {
                                    "CompanyName": "The Cracker Box",
                                    "FirstName": "Margaret",
                                    "LastName": "Peacock",
                                    "(No column name)": "1"
                                },
                                {
                                    "CompanyName": "The Cracker Box",
                                    "FirstName": "Robert",
                                    "LastName": "King",
                                    "(No column name)": "1"
                                },
                                {
                                    "CompanyName": "Toms Spezialitäten",
                                    "FirstName": "Janet",
                                    "LastName": "Leverling",
                                    "(No column name)": "2"
                                },
                                {
                                    "CompanyName": "Toms Spezialitäten",
                                    "FirstName": "Michael",
                                    "LastName": "Suyama",
                                    "(No column name)": "2"
                                },
                                {
                                    "CompanyName": "Tortuga Restaurante",
                                    "FirstName": "Janet",
                                    "LastName": "Leverling",
                                    "(No column name)": "1"
                                },
                                {
                                    "CompanyName": "Tortuga Restaurante",
                                    "FirstName": "Laura",
                                    "LastName": "Callahan",
                                    "(No column name)": "1"
                                },
                                {
                                    "CompanyName": "Tortuga Restaurante",
                                    "FirstName": "Margaret",
                                    "LastName": "Peacock",
                                    "(No column name)": "1"
                                },
                                {
                                    "CompanyName": "Tortuga Restaurante",
                                    "FirstName": "Robert",
                                    "LastName": "King",
                                    "(No column name)": "1"
                                },
                                {
                                    "CompanyName": "Tradição Hipermercados",
                                    "FirstName": "Janet",
                                    "LastName": "Leverling",
                                    "(No column name)": "1"
                                },
                                {
                                    "CompanyName": "Tradição Hipermercados",
                                    "FirstName": "Robert",
                                    "LastName": "King",
                                    "(No column name)": "1"
                                },
                                {
                                    "CompanyName": "Trail's Head Gourmet Provisioners",
                                    "FirstName": "Anne",
                                    "LastName": "Dodsworth",
                                    "(No column name)": "1"
                                },
                                {
                                    "CompanyName": "Trail's Head Gourmet Provisioners",
                                    "FirstName": "Margaret",
                                    "LastName": "Peacock",
                                    "(No column name)": "1"
                                },
                                {
                                    "CompanyName": "Trail's Head Gourmet Provisioners",
                                    "FirstName": "Michael",
                                    "LastName": "Suyama",
                                    "(No column name)": "1"
                                },
                                {
                                    "CompanyName": "Vaffeljernet",
                                    "FirstName": "Laura",
                                    "LastName": "Callahan",
                                    "(No column name)": "2"
                                },
                                {
                                    "CompanyName": "Victuailles en stock",
                                    "FirstName": "Andrew",
                                    "LastName": "Fuller",
                                    "(No column name)": "1"
                                },
                                {
                                    "CompanyName": "Vins et alcools Chevalier",
                                    "FirstName": "Janet",
                                    "LastName": "Leverling",
                                    "(No column name)": "1"
                                },
                                {
                                    "CompanyName": "Vins et alcools Chevalier",
                                    "FirstName": "Michael",
                                    "LastName": "Suyama",
                                    "(No column name)": "1"
                                },
                                {
                                    "CompanyName": "Vins et alcools Chevalier",
                                    "FirstName": "Steven",
                                    "LastName": "Buchanan",
                                    "(No column name)": "1"
                                },
                                {
                                    "CompanyName": "Wartian Herkku",
                                    "FirstName": "Laura",
                                    "LastName": "Callahan",
                                    "(No column name)": "4"
                                },
                                {
                                    "CompanyName": "Wellington Importadora",
                                    "FirstName": "Margaret",
                                    "LastName": "Peacock",
                                    "(No column name)": "2"
                                },
                                {
                                    "CompanyName": "Wellington Importadora",
                                    "FirstName": "Robert",
                                    "LastName": "King",
                                    "(No column name)": "2"
                                },
                                {
                                    "CompanyName": "White Clover Markets",
                                    "FirstName": "Laura",
                                    "LastName": "Callahan",
                                    "(No column name)": "2"
                                },
                                {
                                    "CompanyName": "White Clover Markets",
                                    "FirstName": "Robert",
                                    "LastName": "King",
                                    "(No column name)": "2"
                                },
                                {
                                    "CompanyName": "Wolski  Zajazd",
                                    "FirstName": "Laura",
                                    "LastName": "Callahan",
                                    "(No column name)": "1"
                                },
                                {
                                    "CompanyName": "Wolski  Zajazd",
                                    "FirstName": "Michael",
                                    "LastName": "Suyama",
                                    "(No column name)": "1"
                                },
                                {
                                    "CompanyName": "Wolski  Zajazd",
                                    "FirstName": "Steven",
                                    "LastName": "Buchanan",
                                    "(No column name)": "1"
                                }
                            ]
                        },
                        "text/html": "<table><tr><th>CompanyName</th><th>FirstName</th><th>LastName</th><th>(No column name)</th></tr><tr><td>Alfreds Futterkiste</td><td>Margaret</td><td>Peacock</td><td>2</td></tr><tr><td>Alfreds Futterkiste</td><td>Nancy</td><td>Davolio</td><td>2</td></tr><tr><td>Ana Trujillo Emparedados y helados</td><td>Janet</td><td>Leverling</td><td>2</td></tr><tr><td>Antonio Moreno Taquería</td><td>Robert</td><td>King</td><td>2</td></tr><tr><td>Around the Horn</td><td>Nancy</td><td>Davolio</td><td>3</td></tr><tr><td>Berglunds snabbköp</td><td>Nancy</td><td>Davolio</td><td>4</td></tr><tr><td>Blauer See Delikatessen</td><td>Janet</td><td>Leverling</td><td>1</td></tr><tr><td>Blauer See Delikatessen</td><td>Laura</td><td>Callahan</td><td>1</td></tr><tr><td>Blauer See Delikatessen</td><td>Margaret</td><td>Peacock</td><td>1</td></tr><tr><td>Blauer See Delikatessen</td><td>Michael</td><td>Suyama</td><td>1</td></tr><tr><td>Blondesddsl père et fils</td><td>Janet</td><td>Leverling</td><td>2</td></tr><tr><td>Blondesddsl père et fils</td><td>Michael</td><td>Suyama</td><td>2</td></tr><tr><td>Bon app&#39;</td><td>Janet</td><td>Leverling</td><td>3</td></tr><tr><td>Bon app&#39;</td><td>Nancy</td><td>Davolio</td><td>3</td></tr><tr><td>Bólido Comidas preparadas</td><td>Anne</td><td>Dodsworth</td><td>1</td></tr><tr><td>B&#39;s Beverages</td><td>Janet</td><td>Leverling</td><td>2</td></tr><tr><td>B&#39;s Beverages</td><td>Margaret</td><td>Peacock</td><td>2</td></tr><tr><td>B&#39;s Beverages</td><td>Michael</td><td>Suyama</td><td>2</td></tr><tr><td>Cactus Comidas para llevar</td><td>Andrew</td><td>Fuller</td><td>1</td></tr><tr><td>Cactus Comidas para llevar</td><td>Anne</td><td>Dodsworth</td><td>1</td></tr><tr><td>Cactus Comidas para llevar</td><td>Margaret</td><td>Peacock</td><td>1</td></tr><tr><td>Cactus Comidas para llevar</td><td>Robert</td><td>King</td><td>1</td></tr><tr><td>Chop-suey Chinese</td><td>Janet</td><td>Leverling</td><td>1</td></tr><tr><td>Chop-suey Chinese</td><td>Nancy</td><td>Davolio</td><td>1</td></tr><tr><td>Chop-suey Chinese</td><td>Robert</td><td>King</td><td>1</td></tr><tr><td>Chop-suey Chinese</td><td>Steven</td><td>Buchanan</td><td>1</td></tr><tr><td>Comércio Mineiro</td><td>Margaret</td><td>Peacock</td><td>2</td></tr><tr><td>Consolidated Holdings</td><td>Andrew</td><td>Fuller</td><td>1</td></tr><tr><td>Consolidated Holdings</td><td>Laura</td><td>Callahan</td><td>1</td></tr><tr><td>Consolidated Holdings</td><td>Robert</td><td>King</td><td>1</td></tr><tr><td>Die Wandernde Kuh</td><td>Margaret</td><td>Peacock</td><td>2</td></tr><tr><td>Drachenblut Delikatessen</td><td>Janet</td><td>Leverling</td><td>1</td></tr><tr><td>Drachenblut Delikatessen</td><td>Laura</td><td>Callahan</td><td>1</td></tr><tr><td>Drachenblut Delikatessen</td><td>Margaret</td><td>Peacock</td><td>1</td></tr><tr><td>Drachenblut Delikatessen</td><td>Robert</td><td>King</td><td>1</td></tr><tr><td>Du monde entier</td><td>Andrew</td><td>Fuller</td><td>1</td></tr><tr><td>Du monde entier</td><td>Nancy</td><td>Davolio</td><td>1</td></tr><tr><td>Ernst Handel</td><td>Andrew</td><td>Fuller</td><td>3</td></tr><tr><td>Ernst Handel</td><td>Anne</td><td>Dodsworth</td><td>3</td></tr><tr><td>Familia Arquibaldo</td><td>Andrew</td><td>Fuller</td><td>1</td></tr><tr><td>Familia Arquibaldo</td><td>Anne</td><td>Dodsworth</td><td>1</td></tr><tr><td>Familia Arquibaldo</td><td>Janet</td><td>Leverling</td><td>1</td></tr><tr><td>Familia Arquibaldo</td><td>Robert</td><td>King</td><td>1</td></tr><tr><td>Familia Arquibaldo</td><td>Steven</td><td>Buchanan</td><td>1</td></tr><tr><td>Folies gourmandes</td><td>Janet</td><td>Leverling</td><td>1</td></tr><tr><td>Folies gourmandes</td><td>Laura</td><td>Callahan</td><td>1</td></tr><tr><td>Folies gourmandes</td><td>Margaret</td><td>Peacock</td><td>1</td></tr><tr><td>Folies gourmandes</td><td>Michael</td><td>Suyama</td><td>1</td></tr><tr><td>Folies gourmandes</td><td>Nancy</td><td>Davolio</td><td>1</td></tr><tr><td>Folk och fä HB</td><td>Janet</td><td>Leverling</td><td>2</td></tr><tr><td>Folk och fä HB</td><td>Margaret</td><td>Peacock</td><td>2</td></tr><tr><td>Folk och fä HB</td><td>Michael</td><td>Suyama</td><td>2</td></tr><tr><td>Folk och fä HB</td><td>Robert</td><td>King</td><td>2</td></tr><tr><td>France restauration</td><td>Andrew</td><td>Fuller</td><td>1</td></tr><tr><td>France restauration</td><td>Janet</td><td>Leverling</td><td>1</td></tr><tr><td>France restauration</td><td>Nancy</td><td>Davolio</td><td>1</td></tr><tr><td>Franchi S.p.A.</td><td>Janet</td><td>Leverling</td><td>1</td></tr><tr><td>Franchi S.p.A.</td><td>Nancy</td><td>Davolio</td><td>1</td></tr><tr><td>Frankenversand</td><td>Laura</td><td>Callahan</td><td>3</td></tr><tr><td>Furia Bacalhau e Frutos do Mar</td><td>Nancy</td><td>Davolio</td><td>2</td></tr><tr><td>Galería del gastrónomo</td><td>Janet</td><td>Leverling</td><td>1</td></tr><tr><td>Galería del gastrónomo</td><td>Margaret</td><td>Peacock</td><td>1</td></tr><tr><td>Galería del gastrónomo</td><td>Nancy</td><td>Davolio</td><td>1</td></tr><tr><td>Godos Cocina Típica</td><td>Andrew</td><td>Fuller</td><td>1</td></tr><tr><td>Godos Cocina Típica</td><td>Margaret</td><td>Peacock</td><td>1</td></tr><tr><td>Godos Cocina Típica</td><td>Nancy</td><td>Davolio</td><td>1</td></tr><tr><td>Gourmet Lanchonetes</td><td>Margaret</td><td>Peacock</td><td>2</td></tr><tr><td>Great Lakes Food Market</td><td>Michael</td><td>Suyama</td><td>2</td></tr><tr><td>GROSELLA-Restaurante</td><td>Laura</td><td>Callahan</td><td>1</td></tr><tr><td>GROSELLA-Restaurante</td><td>Nancy</td><td>Davolio</td><td>1</td></tr><tr><td>HILARION-Abastos</td><td>Janet</td><td>Leverling</td><td>2</td></tr><tr><td>HILARION-Abastos</td><td>Nancy</td><td>Davolio</td><td>2</td></tr><tr><td>Hungry Coyote Import Store</td><td>Laura</td><td>Callahan</td><td>1</td></tr><tr><td>Hungry Coyote Import Store</td><td>Margaret</td><td>Peacock</td><td>1</td></tr><tr><td>Hungry Coyote Import Store</td><td>Nancy</td><td>Davolio</td><td>1</td></tr><tr><td>Hungry Owl All-Night Grocers</td><td>Andrew</td><td>Fuller</td><td>3</td></tr><tr><td>Hungry Owl All-Night Grocers</td><td>Anne</td><td>Dodsworth</td><td>3</td></tr><tr><td>Hungry Owl All-Night Grocers</td><td>Michael</td><td>Suyama</td><td>3</td></tr><tr><td>La maison d&#39;Asie</td><td>Andrew</td><td>Fuller</td><td>2</td></tr><tr><td>La maison d&#39;Asie</td><td>Laura</td><td>Callahan</td><td>2</td></tr><tr><td>La maison d&#39;Asie</td><td>Margaret</td><td>Peacock</td><td>2</td></tr><tr><td>La maison d&#39;Asie</td><td>Robert</td><td>King</td><td>2</td></tr><tr><td>Laughing Bacchus Wine Cellars</td><td>Janet</td><td>Leverling</td><td>1</td></tr><tr><td>Lazy K Kountry Store</td><td>Laura</td><td>Callahan</td><td>1</td></tr><tr><td>Lazy K Kountry Store</td><td>Nancy</td><td>Davolio</td><td>1</td></tr><tr><td>Lehmanns Marktstand</td><td>Laura</td><td>Callahan</td><td>3</td></tr><tr><td>Lehmanns Marktstand</td><td>Margaret</td><td>Peacock</td><td>3</td></tr><tr><td>Lehmanns Marktstand</td><td>Robert</td><td>King</td><td>3</td></tr><tr><td>Let&#39;s Stop N Shop</td><td>Laura</td><td>Callahan</td><td>1</td></tr><tr><td>Let&#39;s Stop N Shop</td><td>Margaret</td><td>Peacock</td><td>1</td></tr><tr><td>Let&#39;s Stop N Shop</td><td>Michael</td><td>Suyama</td><td>1</td></tr><tr><td>Let&#39;s Stop N Shop</td><td>Nancy</td><td>Davolio</td><td>1</td></tr><tr><td>LILA-Supermercado</td><td>Andrew</td><td>Fuller</td><td>1</td></tr><tr><td>LILA-Supermercado</td><td>Margaret</td><td>Peacock</td><td>1</td></tr><tr><td>LILA-Supermercado</td><td>Michael</td><td>Suyama</td><td>1</td></tr><tr><td>LINO-Delicateses</td><td>Andrew</td><td>Fuller</td><td>2</td></tr><tr><td>LINO-Delicateses</td><td>Laura</td><td>Callahan</td><td>2</td></tr><tr><td>LINO-Delicateses</td><td>Margaret</td><td>Peacock</td><td>2</td></tr><tr><td>LINO-Delicateses</td><td>Nancy</td><td>Davolio</td><td>2</td></tr><tr><td>Lonesome Pine Restaurant</td><td>Andrew</td><td>Fuller</td><td>1</td></tr><tr><td>Lonesome Pine Restaurant</td><td>Janet</td><td>Leverling</td><td>1</td></tr><tr><td>Lonesome Pine Restaurant</td><td>Laura</td><td>Callahan</td><td>1</td></tr><tr><td>Lonesome Pine Restaurant</td><td>Nancy</td><td>Davolio</td><td>1</td></tr><tr><td>Magazzini Alimentari Riuniti</td><td>Laura</td><td>Callahan</td><td>2</td></tr><tr><td>Magazzini Alimentari Riuniti</td><td>Nancy</td><td>Davolio</td><td>2</td></tr><tr><td>Maison Dewey</td><td>Margaret</td><td>Peacock</td><td>2</td></tr><tr><td>Maison Dewey</td><td>Steven</td><td>Buchanan</td><td>2</td></tr><tr><td>Mère Paillarde</td><td>Nancy</td><td>Davolio</td><td>3</td></tr><tr><td>Morgenstern Gesundkost</td><td>Janet</td><td>Leverling</td><td>2</td></tr><tr><td>North/South</td><td>Andrew</td><td>Fuller</td><td>1</td></tr><tr><td>Océano Atlántico Ltda.</td><td>Janet</td><td>Leverling</td><td>1</td></tr><tr><td>Océano Atlántico Ltda.</td><td>Laura</td><td>Callahan</td><td>1</td></tr><tr><td>Océano Atlántico Ltda.</td><td>Margaret</td><td>Peacock</td><td>1</td></tr><tr><td>Pericles Comidas clásicas</td><td>Laura</td><td>Callahan</td><td>1</td></tr><tr><td>Pericles Comidas clásicas</td><td>Nancy</td><td>Davolio</td><td>1</td></tr><tr><td>Pericles Comidas clásicas</td><td>Robert</td><td>King</td><td>1</td></tr><tr><td>Pericles Comidas clásicas</td><td>Steven</td><td>Buchanan</td><td>1</td></tr><tr><td>Piccolo und mehr</td><td>Michael</td><td>Suyama</td><td>2</td></tr><tr><td>Piccolo und mehr</td><td>Robert</td><td>King</td><td>2</td></tr><tr><td>Princesa Isabel Vinhos</td><td>Janet</td><td>Leverling</td><td>1</td></tr><tr><td>Princesa Isabel Vinhos</td><td>Laura</td><td>Callahan</td><td>1</td></tr><tr><td>Princesa Isabel Vinhos</td><td>Robert</td><td>King</td><td>1</td></tr><tr><td>Que Delícia</td><td>Andrew</td><td>Fuller</td><td>2</td></tr><tr><td>Que Delícia</td><td>Laura</td><td>Callahan</td><td>2</td></tr><tr><td>Que Delícia</td><td>Margaret</td><td>Peacock</td><td>2</td></tr><tr><td>Que Delícia</td><td>Michael</td><td>Suyama</td><td>2</td></tr><tr><td>Queen Cozinha</td><td>Margaret</td><td>Peacock</td><td>2</td></tr><tr><td>Rancho grande</td><td>Margaret</td><td>Peacock</td><td>2</td></tr><tr><td>Rattlesnake Canyon Grocery</td><td>Laura</td><td>Callahan</td><td>2</td></tr><tr><td>Rattlesnake Canyon Grocery</td><td>Margaret</td><td>Peacock</td><td>2</td></tr><tr><td>Rattlesnake Canyon Grocery</td><td>Steven</td><td>Buchanan</td><td>2</td></tr><tr><td>Reggiani Caseifici</td><td>Andrew</td><td>Fuller</td><td>2</td></tr><tr><td>Reggiani Caseifici</td><td>Anne</td><td>Dodsworth</td><td>2</td></tr><tr><td>Reggiani Caseifici</td><td>Nancy</td><td>Davolio</td><td>2</td></tr><tr><td>Ricardo Adocicados</td><td>Andrew</td><td>Fuller</td><td>2</td></tr><tr><td>Ricardo Adocicados</td><td>Laura</td><td>Callahan</td><td>2</td></tr><tr><td>Ricardo Adocicados</td><td>Nancy</td><td>Davolio</td><td>2</td></tr><tr><td>Ricardo Adocicados</td><td>Steven</td><td>Buchanan</td><td>2</td></tr><tr><td>Richter Supermarkt</td><td>Anne</td><td>Dodsworth</td><td>2</td></tr><tr><td>Richter Supermarkt</td><td>Janet</td><td>Leverling</td><td>2</td></tr><tr><td>Richter Supermarkt</td><td>Margaret</td><td>Peacock</td><td>2</td></tr><tr><td>Richter Supermarkt</td><td>Robert</td><td>King</td><td>2</td></tr><tr><td>Santé Gourmet</td><td>Nancy</td><td>Davolio</td><td>2</td></tr><tr><td>Santé Gourmet</td><td>Robert</td><td>King</td><td>2</td></tr><tr><td>Save-a-lot Markets</td><td>Andrew</td><td>Fuller</td><td>4</td></tr><tr><td>Save-a-lot Markets</td><td>Laura</td><td>Callahan</td><td>4</td></tr><tr><td>Save-a-lot Markets</td><td>Margaret</td><td>Peacock</td><td>4</td></tr><tr><td>Save-a-lot Markets</td><td>Michael</td><td>Suyama</td><td>4</td></tr><tr><td>Seven Seas Imports</td><td>Andrew</td><td>Fuller</td><td>1</td></tr><tr><td>Seven Seas Imports</td><td>Janet</td><td>Leverling</td><td>1</td></tr><tr><td>Seven Seas Imports</td><td>Laura</td><td>Callahan</td><td>1</td></tr><tr><td>Seven Seas Imports</td><td>Michael</td><td>Suyama</td><td>1</td></tr><tr><td>Seven Seas Imports</td><td>Robert</td><td>King</td><td>1</td></tr><tr><td>Simons bistro</td><td>Andrew</td><td>Fuller</td><td>2</td></tr><tr><td>Simons bistro</td><td>Margaret</td><td>Peacock</td><td>2</td></tr><tr><td>Spécialités du monde</td><td>Andrew</td><td>Fuller</td><td>1</td></tr><tr><td>Spécialités du monde</td><td>Janet</td><td>Leverling</td><td>1</td></tr><tr><td>Spécialités du monde</td><td>Michael</td><td>Suyama</td><td>1</td></tr><tr><td>Spécialités du monde</td><td>Steven</td><td>Buchanan</td><td>1</td></tr><tr><td>Split Rail Beer &amp; Ale</td><td>Margaret</td><td>Peacock</td><td>1</td></tr><tr><td>Split Rail Beer &amp; Ale</td><td>Michael</td><td>Suyama</td><td>1</td></tr><tr><td>Split Rail Beer &amp; Ale</td><td>Robert</td><td>King</td><td>1</td></tr><tr><td>Suprêmes délices</td><td>Anne</td><td>Dodsworth</td><td>1</td></tr><tr><td>Suprêmes délices</td><td>Michael</td><td>Suyama</td><td>1</td></tr><tr><td>Suprêmes délices</td><td>Nancy</td><td>Davolio</td><td>1</td></tr><tr><td>Suprêmes délices</td><td>Robert</td><td>King</td><td>1</td></tr><tr><td>The Big Cheese</td><td>Andrew</td><td>Fuller</td><td>1</td></tr><tr><td>The Big Cheese</td><td>Laura</td><td>Callahan</td><td>1</td></tr><tr><td>The Big Cheese</td><td>Michael</td><td>Suyama</td><td>1</td></tr><tr><td>The Big Cheese</td><td>Nancy</td><td>Davolio</td><td>1</td></tr><tr><td>The Cracker Box</td><td>Janet</td><td>Leverling</td><td>1</td></tr><tr><td>The Cracker Box</td><td>Margaret</td><td>Peacock</td><td>1</td></tr><tr><td>The Cracker Box</td><td>Robert</td><td>King</td><td>1</td></tr><tr><td>Toms Spezialitäten</td><td>Janet</td><td>Leverling</td><td>2</td></tr><tr><td>Toms Spezialitäten</td><td>Michael</td><td>Suyama</td><td>2</td></tr><tr><td>Tortuga Restaurante</td><td>Janet</td><td>Leverling</td><td>1</td></tr><tr><td>Tortuga Restaurante</td><td>Laura</td><td>Callahan</td><td>1</td></tr><tr><td>Tortuga Restaurante</td><td>Margaret</td><td>Peacock</td><td>1</td></tr><tr><td>Tortuga Restaurante</td><td>Robert</td><td>King</td><td>1</td></tr><tr><td>Tradição Hipermercados</td><td>Janet</td><td>Leverling</td><td>1</td></tr><tr><td>Tradição Hipermercados</td><td>Robert</td><td>King</td><td>1</td></tr><tr><td>Trail&#39;s Head Gourmet Provisioners</td><td>Anne</td><td>Dodsworth</td><td>1</td></tr><tr><td>Trail&#39;s Head Gourmet Provisioners</td><td>Margaret</td><td>Peacock</td><td>1</td></tr><tr><td>Trail&#39;s Head Gourmet Provisioners</td><td>Michael</td><td>Suyama</td><td>1</td></tr><tr><td>Vaffeljernet</td><td>Laura</td><td>Callahan</td><td>2</td></tr><tr><td>Victuailles en stock</td><td>Andrew</td><td>Fuller</td><td>1</td></tr><tr><td>Vins et alcools Chevalier</td><td>Janet</td><td>Leverling</td><td>1</td></tr><tr><td>Vins et alcools Chevalier</td><td>Michael</td><td>Suyama</td><td>1</td></tr><tr><td>Vins et alcools Chevalier</td><td>Steven</td><td>Buchanan</td><td>1</td></tr><tr><td>Wartian Herkku</td><td>Laura</td><td>Callahan</td><td>4</td></tr><tr><td>Wellington Importadora</td><td>Margaret</td><td>Peacock</td><td>2</td></tr><tr><td>Wellington Importadora</td><td>Robert</td><td>King</td><td>2</td></tr><tr><td>White Clover Markets</td><td>Laura</td><td>Callahan</td><td>2</td></tr><tr><td>White Clover Markets</td><td>Robert</td><td>King</td><td>2</td></tr><tr><td>Wolski  Zajazd</td><td>Laura</td><td>Callahan</td><td>1</td></tr><tr><td>Wolski  Zajazd</td><td>Michael</td><td>Suyama</td><td>1</td></tr><tr><td>Wolski  Zajazd</td><td>Steven</td><td>Buchanan</td><td>1</td></tr></table>"
                    },
                    "metadata": {}
                }
            ],
            "execution_count": 1
        },
        {
            "cell_type": "code",
            "source": [
                "-- Podaj liczbę̨ zamówień oraz wartość zamówień (bez opłaty za przesyłkę)\r\n",
                "-- obsłużonych przez każdego pracownika w marcu 1997. Za datę obsłużenia\r\n",
                "-- zamówienia należy uznać datę jego złożenia (orderdate). Jeśli pracownik nie\r\n",
                "-- obsłużył w tym okresie żadnego zamówienia, to też powinien pojawić się na liście\r\n",
                "-- (liczba obsłużonych zamówień oraz ich wartość jest w takim przypadku równa 0).\r\n",
                "-- Zbiór wynikowy powinien zawierać: imię i nazwisko pracownika, liczbę obsłużonych\r\n",
                "-- zamówień, wartość obsłużonych zamówień, oraz datę najpóźniejszego zamówienia\r\n",
                "-- (w badanym okresie). (baza northwind)\r\n",
                "\r\n",
                "SELECT\r\n",
                "    e.FirstName,\r\n",
                "    e.LastName,\r\n",
                "    COALESCE(COUNT(o.OrderID), 0) AS NumOrders,\r\n",
                "    COALESCE(SUM(od.Quantity * od.UnitPrice * (1 - od.Discount)), 0) AS TotalOrderValue,\r\n",
                "    COALESCE(MAX(o.OrderDate), NULL) AS LatestOrderDate\r\n",
                "FROM\r\n",
                "    Employees e\r\n",
                "LEFT OUTER JOIN\r\n",
                "    Orders o ON o.EmployeeID = e.EmployeeID\r\n",
                "           AND YEAR(o.OrderDate) = 1997\r\n",
                "           AND MONTH(o.OrderDate) = 1\r\n",
                "LEFT OUTER JOIN\r\n",
                "    [Order Details] od ON od.OrderID = o.OrderID\r\n",
                "GROUP BY\r\n",
                "    e.FirstName, e.LastName;\r\n",
                ""
            ],
            "metadata": {
                "azdata_cell_guid": "cb6da73f-5a3b-48ff-9e61-48b7f59b7da5",
                "language": "sql",
                "tags": [
                    "hide_input"
                ]
            },
            "outputs": [],
            "execution_count": null
        },
        {
            "cell_type": "code",
            "source": [
                ""
            ],
            "metadata": {
                "azdata_cell_guid": "449feb81-4c74-44d4-821b-883ded146ba2",
                "language": "sql"
            },
            "outputs": [],
            "execution_count": null
        },
        {
            "cell_type": "code",
            "source": [
                "-- Podaj liczbę̨ zamówień oraz wartość zamówień (uwzględnij opłatę za przesyłkę)\r\n",
                "-- obsłużonych przez każdego pracownika w lutym 1997. Za datę obsłużenia\r\n",
                "-- zamówienia należy uznać datę jego złożenia (orderdate). Jeśli pracownik nie\r\n",
                "-- obsłużył w tym okresie żadnego zamówienia, to też powinien pojawić się na liście\r\n",
                "-- (liczba obsłużonych zamówień oraz ich wartość jest w takim przypadku równa 0).\r\n",
                "-- Zbiór wynikowy powinien zawierać: imię i nazwisko pracownika, liczbę obsłużonych\r\n",
                "-- zamówień, wartość obsłużonych zamówień. (baza northwind)\r\n",
                "\r\n",
                "SELECT e.FirstName, e.LastName, COUNT(*), CASE WHEN SUM(od.Quantity*od.UnitPrice+o.Freight)>0 THEN SUM(od.Quantity*od.UnitPrice+o.Freight) ELSE 0 END\r\n",
                "FROM Employees e \r\n",
                "JOIN Orders o ON e.EmployeeID=o.EmployeeID\r\n",
                "JOIN [Order Details] od ON o.OrderID=od.OrderID\r\n",
                "WHERE MONTH(o.OrderDate)=2 AND YEAR(o.OrderDate)=1997\r\n",
                "GROUP BY e.FirstName, e.LastName"
            ],
            "metadata": {
                "azdata_cell_guid": "f7a36980-a0cc-428d-adc1-ddc55937968a",
                "language": "sql",
                "tags": [
                    "hide_input"
                ]
            },
            "outputs": [],
            "execution_count": null
        },
        {
            "cell_type": "code",
            "source": [
                "-- Podaj listę dzieci będących członkami biblioteki, które w dniu '2001-12-14'\r\n",
                "-- zwróciły do biblioteki książkę o tytule 'Walking'. Zbiór wynikowy powinien zawierać\r\n",
                "-- imię i nazwisko oraz dane adresowe dziecka. (baza library)\r\n",
                "\r\n",
                "USE library;\r\n",
                "\r\n",
                "SELECT j.member_no, l.in_date\r\n",
                "FROM juvenile j\r\n",
                "JOIN loanhist l ON j.member_no = l.member_no\r\n",
                "WHERE l.title_no IN (\r\n",
                "    SELECT t.title_no\r\n",
                "    FROM title t\r\n",
                "    WHERE t.title LIKE '%Walking%'\r\n",
                ")  AND l.in_date LIKE '%2001-12-14%';\r\n",
                "\r\n",
                ""
            ],
            "metadata": {
                "azdata_cell_guid": "92b5ef40-970b-4762-b8bf-540fb6246c60",
                "language": "sql",
                "tags": []
            },
            "outputs": [
                {
                    "output_type": "display_data",
                    "data": {
                        "text/html": "(0 rows affected)"
                    },
                    "metadata": {}
                },
                {
                    "output_type": "display_data",
                    "data": {
                        "text/html": "Total execution time: 00:00:00.143"
                    },
                    "metadata": {}
                },
                {
                    "output_type": "execute_result",
                    "execution_count": 2,
                    "data": {
                        "application/vnd.dataresource+json": {
                            "schema": {
                                "fields": [
                                    {
                                        "name": "member_no"
                                    },
                                    {
                                        "name": "in_date"
                                    }
                                ]
                            },
                            "data": []
                        },
                        "text/html": "<table><tr><th>member_no</th><th>in_date</th></tr></table>"
                    },
                    "metadata": {}
                }
            ],
            "execution_count": 2
        },
        {
            "cell_type": "code",
            "source": [
                ""
            ],
            "metadata": {
                "azdata_cell_guid": "bf5207a6-a515-409b-9ae8-152543c29302",
                "language": "sql"
            },
            "outputs": [],
            "execution_count": null
        },
        {
            "cell_type": "code",
            "source": [
                "-- Podaj listę dzieci będących członkami biblioteki, które w dniu '2001-12-14' nie\r\n",
                "-- zwróciły do biblioteki książki o tytule 'Walking'. Zbiór wynikowy powinien zawierać\r\n",
                "-- imię i nazwisko oraz dane adresowe dziecka.\r\n",
                "\r\n",
                "USE library;\r\n",
                "\r\n",
                "SELECT m.firstname, m.lastname, a.addres\r\n",
                "FROM juvenile j\r\n",
                "JOIN member m ON j.member_no = m.member_no \r\n",
                "JOIN (\r\n",
                "    SELECT member_no AS amn, CONCAT(street, ', ', city, ', ', state) AS addres\r\n",
                "    FROM adult\r\n",
                ") a ON a.amn=j.adult_member_no\r\n",
                "WHERE\r\n",
                "    m.member_no NOT IN (\r\n",
                "        SELECT j.member_no\r\n",
                "        FROM juvenile j\r\n",
                "        JOIN loan l ON l.member_no = j.member_no\r\n",
                "        JOIN title t ON t.title_no = l.title_no\r\n",
                "        JOIN loanhist lh ON l.copy_no = lh.copy_no\r\n",
                "        WHERE YEAR(lh.in_date) = 2001 AND MONTH(lh.in_date) = 12 AND DAY(lh.in_date) = 14\r\n",
                "        GROUP BY j.member_no\r\n",
                "    );"
            ],
            "metadata": {
                "azdata_cell_guid": "4e4735d6-e137-474a-83ef-f4df524b0b09",
                "language": "sql",
                "tags": [
                    "hide_input"
                ]
            },
            "outputs": [],
            "execution_count": null
        },
        {
            "cell_type": "code",
            "source": [
                "-- Podaj tytuły książek zarezerwowanych przez dorosłych członków biblioteki\r\n",
                "-- mieszkających w Arizonie (AZ). Zbiór wynikowy powinien zawierać imię i nazwisko\r\n",
                "-- członka biblioteki, jego adres oraz tytuł zarezerwowanej książki. Jeśli jakaś osoba\r\n",
                "-- dorosła mieszkająca w Arizonie nie ma zarezerwowanej żadnej książki to też\r\n",
                "-- powinna znaleźć się na liście, a w polu przeznaczonym na tytuł książki powinien\r\n",
                "-- pojawić się napis BRAK. (baza library)\r\n",
                "\r\n",
                "USE library;\r\n",
                "\r\n",
                "SELECT\r\n",
                "    m.firstname,\r\n",
                "    m.lastname,\r\n",
                "    COALESCE(t.title, 'BRAK') AS reserved_title,\r\n",
                "    a.street\r\n",
                "FROM\r\n",
                "    member m\r\n",
                "JOIN\r\n",
                "    adult a ON m.member_no = a.member_no\r\n",
                "LEFT OUTER JOIN\r\n",
                "    loan l ON a.member_no = l.member_no\r\n",
                "LEFT OUTER JOIN\r\n",
                "    title t ON l.title_no = t.title_no\r\n",
                "WHERE\r\n",
                "    a.state = 'AZ';"
            ],
            "metadata": {
                "azdata_cell_guid": "167ca5a6-d41f-4b0a-ab6d-0b416e0e5555",
                "language": "sql",
                "tags": [
                    "hide_input"
                ]
            },
            "outputs": [],
            "execution_count": null
        },
        {
            "cell_type": "code",
            "source": [
                "-- Zad.3. Wyświetl podsumowanie zamówień (całkowita cena + fracht) obsłużonych\r\n",
                "-- przez pracowników w lutym 1997 roku, uwzględnij wszystkich, nawet jeśli suma\r\n",
                "-- wyniosła 0.\r\n",
                "\r\n",
                "SELECT e.FirstName, e.LastName, COALESCE(COUNT(o.OrderDate), 0) ordercount, COALESCE(SUM(od.Quantity*od.UnitPrice*(1-od.Discount)+o.Freight),0) valuesum\r\n",
                "FROM Employees e\r\n",
                "LEFT OUTER JOIN Orders o ON e.EmployeeID=o.EmployeeID  AND YEAR(o.OrderDate)=1997 AND MONTH(o.OrderDate)=2\r\n",
                "LEFT OUTER JOIN [Order Details] od ON o.OrderID=od.OrderID\r\n",
                "GROUP BY e.FirstName, e.LastName\r\n",
                "ORDER BY ordercount DESC"
            ],
            "metadata": {
                "azdata_cell_guid": "96d8703e-626f-4b0d-88fa-01896b6b5644",
                "language": "sql",
                "tags": [
                    "hide_input"
                ]
            },
            "outputs": [],
            "execution_count": null
        },
        {
            "cell_type": "code",
            "source": [
                "-- Wybierz nazwy i numery telefonów klientów, którzy nie kupowali produktów z kategorii Confections.\r\n",
                "\r\n",
                "SELECT CompanyName, Phone\r\n",
                "FROM Customers \r\n",
                "WHERE CustomerID NOT IN (SELECT CustomerID\r\n",
                "    FROM Orders\r\n",
                "    WHERE OrderID IN ( SELECT OrderID\r\n",
                "        FROM [Order Details]\r\n",
                "        WHERE ProductID IN (SELECT ProductID\r\n",
                "            FROM Products\r\n",
                "            WHERE CategoryID IN (SELECT CategoryID\r\n",
                "                FROM Categories\r\n",
                "                WHERE CategoryName LIKE 'Confections'))))\r\n",
                ""
            ],
            "metadata": {
                "azdata_cell_guid": "ff244173-06da-401b-b11c-0f981886bab8",
                "language": "sql",
                "tags": [
                    "hide_input"
                ]
            },
            "outputs": [],
            "execution_count": null
        },
        {
            "cell_type": "code",
            "source": [
                "--Podaj listę dzieci będących członkami biblioteki, które w dniu '2001-12-14'\r\n",
                "--zwróciły do biblioteki książkę o tytule 'Walking'. Zbiór wynikowy powinien zawierać\r\n",
                "--imię i nazwisko oraz dane adresowe dziecka. (baza library\r\n",
                "\r\n",
                "USE library;\r\n",
                "\r\n",
                "SELECT m.firstname, m.lastname, CONCAT(a.street,',', a.city, ', ', a.state) as adress\r\n",
                "FROM juvenile j\r\n",
                "JOIN member m ON m.member_no=j.member_no\r\n",
                "JOIN adult a ON j.adult_member_no=a.member_no\r\n",
                "WHERE j.member_no IN ( SELECT DISTINCT lh.member_no \r\n",
                "                        FROM loanhist lh\r\n",
                "                        JOIN title t ON t.title_no=lh.title_no\r\n",
                "                        WHERE YEAR(in_date) =2001 AND MONTH(in_date) =12 AND DAY(in_date) =14 AND t.title='Walking')"
            ],
            "metadata": {
                "azdata_cell_guid": "4674c9da-7e36-4ce7-a38c-7e8507290854",
                "language": "sql",
                "tags": [
                    "hide_input"
                ]
            },
            "outputs": [],
            "execution_count": null
        },
        {
            "cell_type": "code",
            "source": [
                "-- Zad.2. Wyświetl wszystkich członków biblioteki (imię i nazwisko, adres) \r\n",
                "-- rozróżniając dorosłych i dzieci (dla dorosłych podaj liczbę dzieci),\r\n",
                "-- którzy nigdy nie wypożyczyli książki\r\n",
                "USE library;\r\n",
                "\r\n",
                "SELECT m.member_no, a.member_no\r\n",
                "FROM member m \r\n",
                "CROSS JOIN adult a"
            ],
            "metadata": {
                "azdata_cell_guid": "27228d3a-be08-4362-9ba5-ce26e1f62330",
                "language": "sql",
                "tags": [
                    "hide_input"
                ]
            },
            "outputs": [],
            "execution_count": null
        },
        {
            "cell_type": "code",
            "source": [
                "--Zadanko dla Kamilka\r\n",
                "\r\n",
                "USE Northwind;\r\n",
                "SELECT o.CustomerID customerid, c.CategoryName categoryname, COUNT(c.CategoryID) \r\n",
                "FROM Orders o \r\n",
                "JOIN [Order Details] od ON o.OrderID = od.OrderId\r\n",
                "JOIN Products p ON od.ProductID=p.ProductID\r\n",
                "JOIN Categories c ON p.CategoryID=c.CategoryID\r\n",
                "GROUP BY o.CustomerID, c.CategoryName\r\n",
                "HAVING COUNT(c.CategoryID) = (SELECT MAX(cnt)\r\n",
                "                FROM ( SELECT o.CustomerID id, c.CategoryName catname, COUNT(c.CategoryID) cnt\r\n",
                "                    FROM Orders o \r\n",
                "                    JOIN [Order Details] od ON o.OrderID = od.OrderId\r\n",
                "                    JOIN Products p ON od.ProductID=p.ProductID\r\n",
                "                    JOIN Categories c ON p.CategoryID=c.CategoryID\r\n",
                "                    GROUP BY o.CustomerID, c.CategoryName) tmp\r\n",
                "                 WHERE customerid=tmp.id)\r\n",
                "ORDER BY customerid, categoryname, COUNT(c.CategoryID) \r\n",
                "\r\n",
                ""
            ],
            "metadata": {
                "azdata_cell_guid": "f6ba7eee-e5db-4ed8-b21d-76753e2955a2",
                "language": "sql",
                "tags": [
                    "hide_input"
                ]
            },
            "outputs": [],
            "execution_count": null
        },
        {
            "cell_type": "code",
            "source": [
                "-- Podaj tytuły książek zarezerwowanych przez dorosłych członków biblioteki\r\n",
                "-- mieszkających w Arizonie (AZ). Zbiór wynikowy powinien zawierać imię i nazwisko\r\n",
                "-- członka biblioteki, jego adres oraz tytuł zarezerwowanej książki. Jeśli jakaś osoba\r\n",
                "-- dorosła mieszkająca w Arizonie nie ma zarezerwowanej żadnej książki to też\r\n",
                "-- powinna znaleźć się na liście, a w polu przeznaczonym na tytuł książki powinien\r\n",
                "-- pojawić się napis BRAK. (baza library)\r\n",
                "\r\n",
                "USE library;\r\n",
                "\r\n",
                "SELECT m.firstname, m.lastname, COALESCE(t.title,'BRAK') titles\r\n",
                "FROM adult a\r\n",
                "JOIN member m ON a.member_no=m.member_no\r\n",
                "LEFT OUTER JOIN loan l ON l.member_no=a.member_no\r\n",
                "LEFT OUTER JOIN title t ON t.title_no=l.title_no\r\n",
                "WHERE a.state = 'AZ'\r\n",
                ""
            ],
            "metadata": {
                "azdata_cell_guid": "0baec0d9-a7cb-4a02-8a1c-ae6e01b180f5",
                "language": "sql",
                "tags": [
                    "hide_input"
                ]
            },
            "outputs": [],
            "execution_count": null
        },
        {
            "cell_type": "code",
            "source": [
                "-- Pokaż nazwy produktów, kategorii 'Beverages' które nie były kupowane w okresie\r\n",
                "-- od '1997.02.20' do '1997.02.25' Dla każdego takiego produktu podaj jego nazwę,\r\n",
                "-- nazwę dostawcy (supplier), oraz nazwę kategorii. Zbiór wynikowy powinien\r\n",
                "-- zawierać nazwę produktu, nazwę dostawcy oraz nazwę kategorii. (baza northwind)\r\n",
                "USE Northwind;\r\n",
                "SELECT p.ProductName, s.CompanyName, c.CategoryName\r\n",
                "FROM Products p\r\n",
                "JOIN Suppliers s ON p.SupplierID=s.SupplierID\r\n",
                "JOIN Categories c ON c.CategoryID=p.CategoryID\r\n",
                "WHERE c.CategoryName LIKE 'Beverages' AND p.ProductID NOT IN (SELECT od.ProductID\r\n",
                "                                                            FROM Orders o\r\n",
                "                                                            JOIN [Order Details] od ON o.OrderID=od.OrderID\r\n",
                "                                                            WHERE o.OrderDate BETWEEN '1997.02.20' AND '1997.02.25')"
            ],
            "metadata": {
                "azdata_cell_guid": "535aae53-6070-4f35-94f2-6890f815fa80",
                "language": "sql",
                "tags": [
                    "hide_input"
                ]
            },
            "outputs": [],
            "execution_count": null
        },
        {
            "cell_type": "code",
            "source": [
                "-- Dla każdego pracownika podaj nazwę klienta, dla którego dany pracownik w 1997r\r\n",
                "-- obsłużył najwięcej zamówień, podaj także liczbę tych zamówień (jeśli jest kilku\r\n",
                "-- takich klientów to wystarczy podać nazwę jednego nich). Za datę obsłużenia\r\n",
                "-- zamówienia należy przyjąć orderdate. Zbiór wynikowy powinien zawierać imię i\r\n",
                "-- nazwisko pracownika, nazwę klienta, oraz liczbę obsłużonych zamówień. (baza\r\n",
                "-- northwind)\r\n",
                "\r\n",
                "USE Northwind;\r\n",
                "\r\n",
                "SELECT CONCAT(e.FirstName,' ', e.LastName) fullname, c.CompanyName,  COALESCE(COUNT(*),0) number_of_orders\r\n",
                "FROM Employees e \r\n",
                "LEFT OUTER JOIN Orders o ON e.EmployeeID=o.EmployeeID AND YEAR(o.OrderDate) =1997\r\n",
                "LEFT OUTER JOIN Customers c ON o.CustomerID=c.CustomerID\r\n",
                "GROUP BY CONCAT(e.FirstName,' ', e.LastName), c.CompanyName\r\n",
                "HAVING COUNT(*) = ( SELECT MAX(no_orders)\r\n",
                "                            FROM (SELECT CONCAT(Employees.FirstName,' ', Employees.LastName) empname, Orders.CustomerID custid,  COUNT(*) no_orders\r\n",
                "                                    FROM Employees \r\n",
                "                                    LEFT OUTER JOIN Orders ON Employees.EmployeeID=Orders.EmployeeID AND YEAR(Orders.OrderDate) =1997\r\n",
                "                                    GROUP BY Employees.EmployeeID, Orders.CustomerID) tmp\r\n",
                "                            WHERE CONCAT(e.FirstName,' ', e.LastName)=tmp.empname)\r\n",
                "\r\n",
                ""
            ],
            "metadata": {
                "azdata_cell_guid": "f9fd03db-6802-42a0-a760-b0a1efd37369",
                "language": "sql",
                "tags": []
            },
            "outputs": [
                {
                    "output_type": "error",
                    "ename": "",
                    "evalue": "Msg 8120, Level 16, State 1, Line 16\r\nColumn 'Employees.FirstName' is invalid in the select list because it is not contained in either an aggregate function or the GROUP BY clause.",
                    "traceback": []
                },
                {
                    "output_type": "error",
                    "ename": "",
                    "evalue": "Msg 8120, Level 16, State 1, Line 16\r\nColumn 'Employees.LastName' is invalid in the select list because it is not contained in either an aggregate function or the GROUP BY clause.",
                    "traceback": []
                },
                {
                    "output_type": "display_data",
                    "data": {
                        "text/html": "Total execution time: 00:00:00.011"
                    },
                    "metadata": {}
                }
            ],
            "execution_count": 92
        },
        {
            "cell_type": "code",
            "source": [
                "-- . Wypisz wszystkich członków biblioteki z adresami i info czy jest dzieckiem czy nie i\r\n",
                "-- ilość wypożyczeń w poszczególnych latach i miesiącach.\r\n",
                "USE library;\r\n",
                "SELECT a.member_no, YEAR(l.out_date) rok, MONTH(l.out_date) miesiac, 'Adult' wiek, COUNT(l.out_date) liczba_wypozyczen \r\n",
                "FROM adult a\r\n",
                "JOIN member m ON a.member_no=m.member_no\r\n",
                "JOIN loan l ON l.member_no=a.member_no \r\n",
                "GROUP BY a.member_no, YEAR(l.out_date), MONTH(l.out_date)\r\n",
                "UNION\r\n",
                "SELECT j.member_no, YEAR(l.out_date) rok, MONTH(l.out_date) miesiac, 'Child' wiek, COUNT(l.out_date) liczba_wypozyczen \r\n",
                "FROM juvenile j\r\n",
                "JOIN member m ON j.adult_member_no=m.member_no\r\n",
                "JOIN loan l ON l.member_no=j.member_no \r\n",
                "GROUP BY j.member_no, YEAR(l.out_date), MONTH(l.out_date)\r\n",
                "\r\n",
                ""
            ],
            "metadata": {
                "azdata_cell_guid": "c7f2b027-fab5-4c08-a5af-0dc28229d1e9",
                "language": "sql",
                "tags": [
                    "hide_input"
                ]
            },
            "outputs": [],
            "execution_count": null
        },
        {
            "cell_type": "code",
            "source": [
                "-- Zamówienia z Freight większym niż AVG danego roku\r\n",
                "USE Northwind;\r\n",
                "SELECT o.OrderID, o.Freight\r\n",
                "FROM Orders o\r\n",
                "WHERE o.Freight > (SELECT AVG(tmp1.Freight)\r\n",
                "                    FROM (SELECT YEAR(OrderDate) as y, Freight\r\n",
                "                          FROM Orders) tmp1 \r\n",
                "                    WHERE YEAR(o.OrderDate) = tmp1.y)"
            ],
            "metadata": {
                "azdata_cell_guid": "1381edf0-cc09-44a6-8bab-ab9d8e07c97c",
                "language": "sql"
            },
            "outputs": [],
            "execution_count": null
        },
        {
            "cell_type": "code",
            "source": [
                "--. Klienci, którzy nie zamówili nigdy nic z kategorii 'Seafood' w trzech wersjach\r\n",
                "SELECT DISTINCT c.CustomerID, c.CompanyName\r\n",
                "FROM Customers c\r\n",
                "LEFT JOIN Orders o ON c.CustomerID = o.CustomerID\r\n",
                "LEFT JOIN [Order Details] od ON o.OrderID = od.OrderID\r\n",
                "LEFT JOIN Products p ON od.ProductID = p.ProductID\r\n",
                "LEFT JOIN Categories cat ON p.CategoryID = cat.CategoryID AND cat.CategoryName = 'Seafood'\r\n",
                "WHERE cat.CategoryID IS NULL;\r\n",
                ""
            ],
            "metadata": {
                "azdata_cell_guid": "9564c412-0d91-41bd-a13c-7381cc9ca380",
                "language": "sql"
            },
            "outputs": [],
            "execution_count": null
        },
        {
            "cell_type": "code",
            "source": [
                "-- Dla każdego klienta najczęściej zamawianą kategorię w dwóch wersjach\r\n",
                "SELECT o.CustomerID, cat.CategoryName, COUNT(p.CategoryID) cnt\r\n",
                "FROM Orders o\r\n",
                "JOIN [Order Details] od ON o.OrderID=od.OrderID \r\n",
                "JOIN Products p ON p.ProductID=od.ProductID\r\n",
                "JOIN Categories cat ON cat.CategoryID=p.ProductID\r\n",
                "GROUP BY o.CustomerID, cat.CategoryName\r\n",
                "HAVING COUNT(p.CategoryID)= (SELECT MAX(tmp.coun)\r\n",
                "            FROM(SELECT ord.CustomerID id , category.CategoryName cname, COUNT(pr.CategoryID) coun\r\n",
                "                FROM Orders ord\r\n",
                "                JOIN [Order Details] ode ON ord.OrderID=ode.OrderID \r\n",
                "                JOIN Products pr ON pr.ProductID=ode.ProductID\r\n",
                "                JOIN Categories category ON category.CategoryID=pr.ProductID\r\n",
                "                GROUP BY ord.CustomerID, category.CategoryName) tmp\r\n",
                "                WHERE o.CustomerID= tmp.id)"
            ],
            "metadata": {
                "azdata_cell_guid": "bfc8cff4-a62e-479b-ad77-c0e9b01c125b",
                "language": "sql"
            },
            "outputs": [],
            "execution_count": null
        },
        {
            "cell_type": "code",
            "source": [
                "---Podaj liczbę zamóień oraz wartość zamówień opłatę za przesyłkę ) obsłużonyhc przez każdego pracownika w lutym 1997. \r\n",
                "-- Jeśli praownik nie obsłużył w tym okresie żadnego zamówienia, to też powinein pojawić sie na liście. \r\n",
                "-- Zbiór powinei zawierać: imię anzwisko, liczbe obsłużonych zamówień, wartość zamóien\r\n",
                "USE Northwind;\r\n",
                "\r\n",
                "SELECT e.FirstName, e.LastName, COALESCE(COUNT(o.OrderID),0), COALESCE(ROUND(SUM(od.UnitPrice*od.Quantity*(1-od.Discount)+o.Freight),2),0)\r\n",
                "FROM Employees e \r\n",
                "LEFT OUTER JOIN Orders o On e.EmployeeID=o.EmployeeID AND YEAR(o.OrderDate)=1997 AND MONTH(o.OrderDate)=2\r\n",
                "LEFT OUTER JOIN [Order Details] od ON od.OrderID=o.OrderID\r\n",
                "GROUP BY e.FirstName, e.LastName"
            ],
            "metadata": {
                "azdata_cell_guid": "18415cc7-753c-434c-bbe3-d20e3c118bb2",
                "language": "sql",
                "tags": []
            },
            "outputs": [],
            "execution_count": null
        },
        {
            "cell_type": "code",
            "source": [
                "-- podaj kategorie w której produkty wygenerowały najwyższe przychody w 1997.\r\n",
                "--  wartość przychodu podaj z rozbiciem na meisiące\r\n",
                "SELECT c.CategoryName, MONTH(o.OrderDate), ROUND(SUM(od.Quantity*od.UnitPrice*(1-od.Discount)),2)\r\n",
                "FROM  Orders o\r\n",
                "JOIN [Order Details] od ON od.OrderID=o.OrderID\r\n",
                "JOIN Products p ON od.ProductID=p.ProductID\r\n",
                "JOIN Categories c ON c.CategoryID=p.CategoryID\r\n",
                "WHERE c.CategoryID = (SELECT TOP 1 c.CategoryID\r\n",
                "                       FROM [Order Details] od \r\n",
                "                       JOIN Products p ON od.ProductID=p.ProductID\r\n",
                "                       JOIN Categories c ON c.CategoryID=p.CategoryID\r\n",
                "                       WHERE YEAR(o.OrderDate)=1997\r\n",
                "                       GROUP BY c.CategoryID\r\n",
                "                       ORDER BY SUM(od.Quantity*od.UnitPrice*(1-od.Discount)) DESC ) AND YEAR(o.OrderDate)=1997\r\n",
                "GROUP BY c.CategoryName, MONTH(o.OrderDate)\r\n",
                "ORDER BY ROUND(SUM(od.Quantity*od.UnitPrice*(1-od.Discount)),2)"
            ],
            "metadata": {
                "azdata_cell_guid": "fc88f842-afa9-43ad-bae6-a59955c41498",
                "language": "sql",
                "tags": []
            },
            "outputs": [],
            "execution_count": null
        },
        {
            "cell_type": "code",
            "source": [
                "-- a w 2 wyswietlic wszystkiee tytuly ksiazek ktore byly wypozyczone wiecej niz 1 raz, i dla tych uzytkownikow ktorzy nie sa dziecmi\r\n",
                "USE library;\r\n",
                "SELECT t.title\r\n",
                "FROM loanhist lh\r\n",
                "JOIN title t ON t.title_no=lh.title_no\r\n",
                "WHERE member_no in (SELECT member_no\r\n",
                "                    FROM adult)\r\n",
                "GROUP BY t.title\r\n",
                "HAVING COUNT(out_date)>1"
            ],
            "metadata": {
                "azdata_cell_guid": "1494d510-c754-4ab6-9799-5790328f52b4",
                "language": "sql",
                "tags": []
            },
            "outputs": [],
            "execution_count": null
        },
        {
            "cell_type": "code",
            "source": [
                "-- -- podaj listę dzieci będących członkami biblioteki które w dniu 2001-12-14 zwróciły do biblioteki książkę o tytule Walking\r\n",
                "USE library;\r\n",
                "\r\n",
                "SELECT member_no\r\n",
                "FROM juvenile\r\n",
                "WHERE member_no IN (SELECT lh.member_no \r\n",
                "                    FROM loanhist lh\r\n",
                "                    JOIN title t ON lh.title_no=t.title_no\r\n",
                "                    WHERE YEAR(lh.in_date)=2001 AND\r\n",
                "                          MONTH(lh.in_date)=12 AND \r\n",
                "                          DAY(lh.in_date)=14 AND \r\n",
                "                          t.title LIKE '%Walking%')"
            ],
            "metadata": {
                "language": "sql",
                "azdata_cell_guid": "5fe3a6d1-8a28-4076-8cd3-d97710c777f3",
                "tags": []
            },
            "outputs": [],
            "execution_count": null
        },
        {
            "cell_type": "code",
            "source": [
                "-- 3 wyswietlic pracownika ktory obsluzyl zamowienia o najwiekszej wartosci w 1997 roku\r\n",
                "USE Northwind;\r\n",
                "SELECT TOP 1 o.EmployeeID, COUNT(o.OrderID), SUM(od.Quantity*od.UnitPrice*(1-od.Discount))\r\n",
                "FROM Orders o \r\n",
                "JOIN [Order Details] od ON o.OrderID=od.OrderID\r\n",
                "WHERE YEAR(o.OrderDate)=1997\r\n",
                "GROUP BY o.EmployeeID\r\n",
                "ORDER BY SUM(od.Quantity*od.UnitPrice*(1-od.Discount)) DESC"
            ],
            "metadata": {
                "azdata_cell_guid": "00731a86-c8ca-4e17-af2a-4ba6dc265112",
                "language": "sql"
            },
            "outputs": [],
            "execution_count": null
        },
        {
            "cell_type": "code",
            "source": [
                "-- trzeba wysiwetlic sume oplat za przewozy dla poszcegolnych przewoznikow z podzialem na miesiace i lata\r\n",
                "USE Northwind;\r\n",
                "SELECT YEAR(o.OrderDate), s.CompanyName, MONTH(o.OrderDate), SUM(o.Freight)\r\n",
                "FROM Orders o \r\n",
                "JOIN Shippers s ON s.ShipperID=o.ShipVia\r\n",
                "GROUP BY YEAR(o.OrderDate), s.CompanyName, MONTH(o.OrderDate)"
            ],
            "metadata": {
                "language": "sql",
                "azdata_cell_guid": "4c4bfee2-ae57-42fe-937f-326f95a7ca58"
            },
            "outputs": [],
            "execution_count": null
        }
    ]
}
