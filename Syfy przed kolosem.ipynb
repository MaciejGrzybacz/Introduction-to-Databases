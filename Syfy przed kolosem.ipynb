{
    "metadata": {
        "kernelspec": {
            "name": "SQL",
            "display_name": "SQL",
            "language": "sql"
        },
        "language_info": {
            "name": "sql",
            "version": ""
        }
    },
    "nbformat_minor": 2,
    "nbformat": 4,
    "cells": [
        {
            "cell_type": "code",
            "source": [
                "-- Dla każdego klienta podaj imię i nazwisko pracownika, który w 1997r obsłużył\r\n",
                "-- najwięcej jego zamówień, podaj także liczbę tych zamówień (jeśli jest kilku takich\r\n",
                "-- pracownikow to wystarczy podać imię nazwisko jednego nich). Za datę obsłużenia\r\n",
                "-- zamówienia należy przyjąć orderdate. Zbiór wynikowy powinien zawierać nazwę\r\n",
                "-- klienta, imię i nazwisko pracownika oraz liczbę obsłużonych zamówień. (baza\r\n",
                "-- northwind)\r\n",
                "USE Northwind;\r\n",
                "SELECT c.CompanyName, e.FirstName, e.LastName, COUNT(*)\r\n",
                "FROM Orders o\r\n",
                "JOIN Customers c ON c.CustomerID=o.CustomerID\r\n",
                "JOIN Employees e ON e.EmployeeID=o.EmployeeID\r\n",
                "GROUP BY c.CompanyName, e.FirstName, e.LastName\r\n",
                "HAVING COUNT(*) = (SELECT MAX(temp.count)\r\n",
                "                    FROM (SELECT c.CompanyName AS comnam, e.FirstName AS firnam, e.LastName AS lasnam, COUNT(*) AS count\r\n",
                "                            FROM Orders o\r\n",
                "                            JOIN Customers c ON c.CustomerID=o.CustomerID\r\n",
                "                            JOIN Employees e ON e.EmployeeID=o.EmployeeID\r\n",
                "                            WHERE YEAR(o.OrderDate)=1997\r\n",
                "                            GROUP BY c.CompanyName, e.FirstName, e.LastName) temp\r\n",
                "                    WHERE temp.comnam=c.CompanyName)\r\n",
                ""
            ],
            "metadata": {
                "azdata_cell_guid": "1e020bde-2b13-49c6-a0e3-bb25d00bba51",
                "language": "sql",
                "tags": []
            },
            "outputs": [],
            "execution_count": null
        },
        {
            "cell_type": "code",
            "source": [
                "-- Podaj liczbę̨ zamówień oraz wartość zamówień (bez opłaty za przesyłkę)\r\n",
                "-- obsłużonych przez każdego pracownika w marcu 1997. Za datę obsłużenia\r\n",
                "-- zamówienia należy uznać datę jego złożenia (orderdate). Jeśli pracownik nie\r\n",
                "-- obsłużył w tym okresie żadnego zamówienia, to też powinien pojawić się na liście\r\n",
                "-- (liczba obsłużonych zamówień oraz ich wartość jest w takim przypadku równa 0).\r\n",
                "-- Zbiór wynikowy powinien zawierać: imię i nazwisko pracownika, liczbę obsłużonych\r\n",
                "-- zamówień, wartość obsłużonych zamówień, oraz datę najpóźniejszego zamówienia\r\n",
                "-- (w badanym okresie). (baza northwind)\r\n",
                "\r\n",
                "SELECT\r\n",
                "    e.FirstName,\r\n",
                "    e.LastName,\r\n",
                "    COALESCE(COUNT(o.OrderID), 0) AS NumOrders,\r\n",
                "    COALESCE(SUM(od.Quantity * od.UnitPrice * (1 - od.Discount)), 0) AS TotalOrderValue,\r\n",
                "    COALESCE(MAX(o.OrderDate), NULL) AS LatestOrderDate\r\n",
                "FROM\r\n",
                "    Employees e\r\n",
                "LEFT OUTER JOIN\r\n",
                "    Orders o ON o.EmployeeID = e.EmployeeID\r\n",
                "           AND YEAR(o.OrderDate) = 1997\r\n",
                "           AND MONTH(o.OrderDate) = 1\r\n",
                "LEFT OUTER JOIN\r\n",
                "    [Order Details] od ON od.OrderID = o.OrderID\r\n",
                "GROUP BY\r\n",
                "    e.FirstName, e.LastName;\r\n",
                ""
            ],
            "metadata": {
                "azdata_cell_guid": "cb6da73f-5a3b-48ff-9e61-48b7f59b7da5",
                "language": "sql",
                "tags": [
                    "hide_input"
                ]
            },
            "outputs": [],
            "execution_count": null
        },
        {
            "cell_type": "code",
            "source": [
                ""
            ],
            "metadata": {
                "azdata_cell_guid": "449feb81-4c74-44d4-821b-883ded146ba2",
                "language": "sql"
            },
            "outputs": [],
            "execution_count": null
        },
        {
            "cell_type": "code",
            "source": [
                "-- Podaj liczbę̨ zamówień oraz wartość zamówień (uwzględnij opłatę za przesyłkę)\r\n",
                "-- obsłużonych przez każdego pracownika w lutym 1997. Za datę obsłużenia\r\n",
                "-- zamówienia należy uznać datę jego złożenia (orderdate). Jeśli pracownik nie\r\n",
                "-- obsłużył w tym okresie żadnego zamówienia, to też powinien pojawić się na liście\r\n",
                "-- (liczba obsłużonych zamówień oraz ich wartość jest w takim przypadku równa 0).\r\n",
                "-- Zbiór wynikowy powinien zawierać: imię i nazwisko pracownika, liczbę obsłużonych\r\n",
                "-- zamówień, wartość obsłużonych zamówień. (baza northwind)\r\n",
                "\r\n",
                "SELECT e.FirstName, e.LastName, COUNT(*), CASE WHEN SUM(od.Quantity*od.UnitPrice+o.Freight)>0 THEN SUM(od.Quantity*od.UnitPrice+o.Freight) ELSE 0 END\r\n",
                "FROM Employees e \r\n",
                "JOIN Orders o ON e.EmployeeID=o.EmployeeID\r\n",
                "JOIN [Order Details] od ON o.OrderID=od.OrderID\r\n",
                "WHERE MONTH(o.OrderDate)=2 AND YEAR(o.OrderDate)=1997\r\n",
                "GROUP BY e.FirstName, e.LastName"
            ],
            "metadata": {
                "azdata_cell_guid": "f7a36980-a0cc-428d-adc1-ddc55937968a",
                "language": "sql",
                "tags": [
                    "hide_input"
                ]
            },
            "outputs": [],
            "execution_count": null
        },
        {
            "cell_type": "code",
            "source": [
                "-- Podaj listę dzieci będących członkami biblioteki, które w dniu '2001-12-14'\r\n",
                "-- zwróciły do biblioteki książkę o tytule 'Walking'. Zbiór wynikowy powinien zawierać\r\n",
                "-- imię i nazwisko oraz dane adresowe dziecka. (baza library)\r\n",
                "\r\n",
                "USE library;\r\n",
                "\r\n",
                "SELECT j.member_no, l.in_date\r\n",
                "FROM juvenile j\r\n",
                "JOIN loanhist l ON j.member_no = l.member_no\r\n",
                "WHERE l.title_no IN (\r\n",
                "    SELECT t.title_no\r\n",
                "    FROM title t\r\n",
                "    WHERE t.title LIKE '%Walking%'\r\n",
                ")  AND l.in_date LIKE '%2001-12-14%';\r\n",
                "\r\n",
                ""
            ],
            "metadata": {
                "azdata_cell_guid": "92b5ef40-970b-4762-b8bf-540fb6246c60",
                "language": "sql",
                "tags": [
                    "hide_input"
                ]
            },
            "outputs": [],
            "execution_count": null
        },
        {
            "cell_type": "code",
            "source": [
                "-- Podaj listę dzieci będących członkami biblioteki, które w dniu '2001-12-14' nie\r\n",
                "-- zwróciły do biblioteki książki o tytule 'Walking'. Zbiór wynikowy powinien zawierać\r\n",
                "-- imię i nazwisko oraz dane adresowe dziecka.\r\n",
                "\r\n",
                "USE library;\r\n",
                "\r\n",
                "SELECT m.firstname, m.lastname, a.addres\r\n",
                "FROM juvenile j\r\n",
                "JOIN member m ON j.member_no = m.member_no \r\n",
                "JOIN (\r\n",
                "    SELECT member_no AS amn, CONCAT(street, ', ', city, ', ', state) AS addres\r\n",
                "    FROM adult\r\n",
                ") a ON a.amn=j.adult_member_no\r\n",
                "WHERE\r\n",
                "    m.member_no NOT IN (\r\n",
                "        SELECT j.member_no\r\n",
                "        FROM juvenile j\r\n",
                "        JOIN loan l ON l.member_no = j.member_no\r\n",
                "        JOIN title t ON t.title_no = l.title_no\r\n",
                "        JOIN loanhist lh ON l.copy_no = lh.copy_no\r\n",
                "        WHERE YEAR(lh.in_date) = 2001 AND MONTH(lh.in_date) = 12 AND DAY(lh.in_date) = 14\r\n",
                "        GROUP BY j.member_no\r\n",
                "    );"
            ],
            "metadata": {
                "azdata_cell_guid": "4e4735d6-e137-474a-83ef-f4df524b0b09",
                "language": "sql",
                "tags": [
                    "hide_input"
                ]
            },
            "outputs": [],
            "execution_count": null
        },
        {
            "cell_type": "code",
            "source": [
                "-- Podaj tytuły książek zarezerwowanych przez dorosłych członków biblioteki\r\n",
                "-- mieszkających w Arizonie (AZ). Zbiór wynikowy powinien zawierać imię i nazwisko\r\n",
                "-- członka biblioteki, jego adres oraz tytuł zarezerwowanej książki. Jeśli jakaś osoba\r\n",
                "-- dorosła mieszkająca w Arizonie nie ma zarezerwowanej żadnej książki to też\r\n",
                "-- powinna znaleźć się na liście, a w polu przeznaczonym na tytuł książki powinien\r\n",
                "-- pojawić się napis BRAK. (baza library)\r\n",
                "\r\n",
                "USE library;\r\n",
                "\r\n",
                "SELECT\r\n",
                "    m.firstname,\r\n",
                "    m.lastname,\r\n",
                "    COALESCE(t.title, 'BRAK') AS reserved_title,\r\n",
                "    a.street\r\n",
                "FROM\r\n",
                "    member m\r\n",
                "JOIN\r\n",
                "    adult a ON m.member_no = a.member_no\r\n",
                "LEFT OUTER JOIN\r\n",
                "    loan l ON a.member_no = l.member_no\r\n",
                "LEFT OUTER JOIN\r\n",
                "    title t ON l.title_no = t.title_no\r\n",
                "WHERE\r\n",
                "    a.state = 'AZ';"
            ],
            "metadata": {
                "azdata_cell_guid": "167ca5a6-d41f-4b0a-ab6d-0b416e0e5555",
                "language": "sql",
                "tags": [
                    "hide_input"
                ]
            },
            "outputs": [],
            "execution_count": null
        },
        {
            "cell_type": "code",
            "source": [
                "-- Zad.3. Wyświetl podsumowanie zamówień (całkowita cena + fracht) obsłużonych\r\n",
                "-- przez pracowników w lutym 1997 roku, uwzględnij wszystkich, nawet jeśli suma\r\n",
                "-- wyniosła 0.\r\n",
                "\r\n",
                "SELECT e.FirstName, e.LastName, COALESCE(COUNT(o.OrderDate), 0) ordercount, COALESCE(SUM(od.Quantity*od.UnitPrice*(1-od.Discount)+o.Freight),0) valuesum\r\n",
                "FROM Employees e\r\n",
                "LEFT OUTER JOIN Orders o ON e.EmployeeID=o.EmployeeID  AND YEAR(o.OrderDate)=1997 AND MONTH(o.OrderDate)=2\r\n",
                "LEFT OUTER JOIN [Order Details] od ON o.OrderID=od.OrderID\r\n",
                "GROUP BY e.FirstName, e.LastName\r\n",
                "ORDER BY ordercount DESC"
            ],
            "metadata": {
                "azdata_cell_guid": "96d8703e-626f-4b0d-88fa-01896b6b5644",
                "language": "sql",
                "tags": [
                    "hide_input"
                ]
            },
            "outputs": [],
            "execution_count": null
        },
        {
            "cell_type": "code",
            "source": [
                "-- Wybierz nazwy i numery telefonów klientów, którzy nie kupowali produktów z kategorii Confections.\r\n",
                "\r\n",
                "SELECT CompanyName, Phone\r\n",
                "FROM Customers \r\n",
                "WHERE CustomerID NOT IN (SELECT CustomerID\r\n",
                "    FROM Orders\r\n",
                "    WHERE OrderID IN ( SELECT OrderID\r\n",
                "        FROM [Order Details]\r\n",
                "        WHERE ProductID IN (SELECT ProductID\r\n",
                "            FROM Products\r\n",
                "            WHERE CategoryID IN (SELECT CategoryID\r\n",
                "                FROM Categories\r\n",
                "                WHERE CategoryName LIKE 'Confections'))))\r\n",
                ""
            ],
            "metadata": {
                "azdata_cell_guid": "ff244173-06da-401b-b11c-0f981886bab8",
                "language": "sql",
                "tags": [
                    "hide_input"
                ]
            },
            "outputs": [],
            "execution_count": null
        },
        {
            "cell_type": "code",
            "source": [
                "--Podaj listę dzieci będących członkami biblioteki, które w dniu '2001-12-14'\r\n",
                "--zwróciły do biblioteki książkę o tytule 'Walking'. Zbiór wynikowy powinien zawierać\r\n",
                "--imię i nazwisko oraz dane adresowe dziecka. (baza library\r\n",
                "\r\n",
                "USE library;\r\n",
                "\r\n",
                "SELECT m.firstname, m.lastname, CONCAT(a.street,',', a.city, ', ', a.state) as adress\r\n",
                "FROM juvenile j\r\n",
                "JOIN member m ON m.member_no=j.member_no\r\n",
                "JOIN adult a ON j.adult_member_no=a.member_no\r\n",
                "WHERE j.member_no IN ( SELECT DISTINCT lh.member_no \r\n",
                "                        FROM loanhist lh\r\n",
                "                        JOIN title t ON t.title_no=lh.title_no\r\n",
                "                        WHERE YEAR(in_date) =2001 AND MONTH(in_date) =12 AND DAY(in_date) =14 AND t.title='Walking')"
            ],
            "metadata": {
                "azdata_cell_guid": "4674c9da-7e36-4ce7-a38c-7e8507290854",
                "language": "sql",
                "tags": [
                    "hide_input"
                ]
            },
            "outputs": [],
            "execution_count": null
        },
        {
            "cell_type": "code",
            "source": [
                "-- Zad.2. Wyświetl wszystkich członków biblioteki (imię i nazwisko, adres) \r\n",
                "-- rozróżniając dorosłych i dzieci (dla dorosłych podaj liczbę dzieci),\r\n",
                "-- którzy nigdy nie wypożyczyli książki\r\n",
                "USE library;\r\n",
                "\r\n",
                "SELECT m.member_no, a.member_no\r\n",
                "FROM member m \r\n",
                "CROSS JOIN adult a"
            ],
            "metadata": {
                "azdata_cell_guid": "27228d3a-be08-4362-9ba5-ce26e1f62330",
                "language": "sql",
                "tags": [
                    "hide_input"
                ]
            },
            "outputs": [],
            "execution_count": null
        },
        {
            "cell_type": "code",
            "source": [
                "--Zadanko dla Kamilka\r\n",
                "\r\n",
                "USE Northwind;\r\n",
                "SELECT o.CustomerID customerid, c.CategoryName categoryname, COUNT(c.CategoryID) \r\n",
                "FROM Orders o \r\n",
                "JOIN [Order Details] od ON o.OrderID = od.OrderId\r\n",
                "JOIN Products p ON od.ProductID=p.ProductID\r\n",
                "JOIN Categories c ON p.CategoryID=c.CategoryID\r\n",
                "GROUP BY o.CustomerID, c.CategoryName\r\n",
                "HAVING COUNT(c.CategoryID) = (SELECT MAX(cnt)\r\n",
                "                FROM ( SELECT o.CustomerID id, c.CategoryName catname, COUNT(c.CategoryID) cnt\r\n",
                "                    FROM Orders o \r\n",
                "                    JOIN [Order Details] od ON o.OrderID = od.OrderId\r\n",
                "                    JOIN Products p ON od.ProductID=p.ProductID\r\n",
                "                    JOIN Categories c ON p.CategoryID=c.CategoryID\r\n",
                "                    GROUP BY o.CustomerID, c.CategoryName) tmp\r\n",
                "                 WHERE customerid=tmp.id)\r\n",
                "ORDER BY customerid, categoryname, COUNT(c.CategoryID) \r\n",
                "\r\n",
                ""
            ],
            "metadata": {
                "azdata_cell_guid": "f6ba7eee-e5db-4ed8-b21d-76753e2955a2",
                "language": "sql",
                "tags": [
                    "hide_input"
                ]
            },
            "outputs": [],
            "execution_count": null
        },
        {
            "cell_type": "code",
            "source": [
                "-- Podaj tytuły książek zarezerwowanych przez dorosłych członków biblioteki\r\n",
                "-- mieszkających w Arizonie (AZ). Zbiór wynikowy powinien zawierać imię i nazwisko\r\n",
                "-- członka biblioteki, jego adres oraz tytuł zarezerwowanej książki. Jeśli jakaś osoba\r\n",
                "-- dorosła mieszkająca w Arizonie nie ma zarezerwowanej żadnej książki to też\r\n",
                "-- powinna znaleźć się na liście, a w polu przeznaczonym na tytuł książki powinien\r\n",
                "-- pojawić się napis BRAK. (baza library)\r\n",
                "\r\n",
                "USE library;\r\n",
                "\r\n",
                "SELECT m.firstname, m.lastname, COALESCE(t.title,'BRAK') titles\r\n",
                "FROM adult a\r\n",
                "JOIN member m ON a.member_no=m.member_no\r\n",
                "LEFT OUTER JOIN loan l ON l.member_no=a.member_no\r\n",
                "LEFT OUTER JOIN title t ON t.title_no=l.title_no\r\n",
                "WHERE a.state = 'AZ'\r\n",
                ""
            ],
            "metadata": {
                "azdata_cell_guid": "0baec0d9-a7cb-4a02-8a1c-ae6e01b180f5",
                "language": "sql",
                "tags": [
                    "hide_input"
                ]
            },
            "outputs": [],
            "execution_count": null
        },
        {
            "cell_type": "code",
            "source": [
                "-- Pokaż nazwy produktów, kategorii 'Beverages' które nie były kupowane w okresie\r\n",
                "-- od '1997.02.20' do '1997.02.25' Dla każdego takiego produktu podaj jego nazwę,\r\n",
                "-- nazwę dostawcy (supplier), oraz nazwę kategorii. Zbiór wynikowy powinien\r\n",
                "-- zawierać nazwę produktu, nazwę dostawcy oraz nazwę kategorii. (baza northwind)\r\n",
                "USE Northwind;\r\n",
                "SELECT p.ProductName, s.CompanyName, c.CategoryName\r\n",
                "FROM Products p\r\n",
                "JOIN Suppliers s ON p.SupplierID=s.SupplierID\r\n",
                "JOIN Categories c ON c.CategoryID=p.CategoryID\r\n",
                "WHERE c.CategoryName LIKE 'Beverages' AND p.ProductID NOT IN (SELECT od.ProductID\r\n",
                "                                                            FROM Orders o\r\n",
                "                                                            JOIN [Order Details] od ON o.OrderID=od.OrderID\r\n",
                "                                                            WHERE o.OrderDate BETWEEN '1997.02.20' AND '1997.02.25')"
            ],
            "metadata": {
                "azdata_cell_guid": "535aae53-6070-4f35-94f2-6890f815fa80",
                "language": "sql",
                "tags": [
                    "hide_input"
                ]
            },
            "outputs": [],
            "execution_count": null
        },
        {
            "cell_type": "code",
            "source": [
                "-- Dla każdego pracownika podaj nazwę klienta, dla którego dany pracownik w 1997r\r\n",
                "-- obsłużył najwięcej zamówień, podaj także liczbę tych zamówień (jeśli jest kilku\r\n",
                "-- takich klientów to wystarczy podać nazwę jednego nich). Za datę obsłużenia\r\n",
                "-- zamówienia należy przyjąć orderdate. Zbiór wynikowy powinien zawierać imię i\r\n",
                "-- nazwisko pracownika, nazwę klienta, oraz liczbę obsłużonych zamówień. (baza\r\n",
                "-- northwind)\r\n",
                "\r\n",
                "USE Northwind;\r\n",
                "\r\n",
                "SELECT CONCAT(e.FirstName,' ', e.LastName) fullname, c.CompanyName,  COALESCE(COUNT(*),0) number_of_orders\r\n",
                "FROM Employees e \r\n",
                "LEFT OUTER JOIN Orders o ON e.EmployeeID=o.EmployeeID AND YEAR(o.OrderDate) =1997\r\n",
                "LEFT OUTER JOIN Customers c ON o.CustomerID=c.CustomerID\r\n",
                "GROUP BY CONCAT(e.FirstName,' ', e.LastName), c.CompanyName\r\n",
                "HAVING COUNT(*) = ( SELECT MAX(no_orders)\r\n",
                "                            FROM (SELECT CONCAT(Employees.FirstName,' ', Employees.LastName) empname, Orders.CustomerID custid,  COUNT(*) no_orders\r\n",
                "                                    FROM Employees \r\n",
                "                                    LEFT OUTER JOIN Orders ON Employees.EmployeeID=Orders.EmployeeID AND YEAR(Orders.OrderDate) =1997\r\n",
                "                                    GROUP BY Employees.EmployeeID, Orders.CustomerID) tmp\r\n",
                "                            WHERE CONCAT(e.FirstName,' ', e.LastName)=tmp.empname)\r\n",
                "\r\n",
                ""
            ],
            "metadata": {
                "azdata_cell_guid": "f9fd03db-6802-42a0-a760-b0a1efd37369",
                "language": "sql",
                "tags": []
            },
            "outputs": [
                {
                    "output_type": "error",
                    "evalue": "Msg 8120, Level 16, State 1, Line 16\r\nColumn 'Employees.FirstName' is invalid in the select list because it is not contained in either an aggregate function or the GROUP BY clause.",
                    "ename": "",
                    "traceback": []
                },
                {
                    "output_type": "error",
                    "evalue": "Msg 8120, Level 16, State 1, Line 16\r\nColumn 'Employees.LastName' is invalid in the select list because it is not contained in either an aggregate function or the GROUP BY clause.",
                    "ename": "",
                    "traceback": []
                },
                {
                    "output_type": "display_data",
                    "data": {
                        "text/html": "Total execution time: 00:00:00.011"
                    },
                    "metadata": {}
                }
            ],
            "execution_count": 92
        }
    ]
}