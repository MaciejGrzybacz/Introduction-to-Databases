{
    "metadata": {
        "kernelspec": {
            "name": "SQL",
            "display_name": "SQL",
            "language": "sql"
        },
        "language_info": {
            "name": "sql",
            "version": ""
        }
    },
    "nbformat_minor": 2,
    "nbformat": 4,
    "cells": [
        {
            "cell_type": "code",
            "source": [
                "-- Podaj wartość zamówienia o numerze 10250 lub numerze mniejszym niż 9000\\r\\n\",\r\n",
                "USE Northwind\r\n",
                "SELECT Orders.OrderID, SUM(UnitPrice*Quantity*(1-Discount)) AS Val\r\n",
                "FROM Orders\r\n",
                "INNER JOIN [Order Details] ON [Order Details].OrderID = Orders.OrderID\r\n",
                "GROUP BY Orders.OrderID\r\n",
                "HAVING Orders.OrderID = 10250 OR Orders.OrderID < 9000"
            ],
            "metadata": {
                "azdata_cell_guid": "04fa6852-68c3-406f-94ce-fb951bcc217f",
                "language": "sql",
                "tags": []
            },
            "outputs": [],
            "execution_count": null
        },
        {
            "cell_type": "code",
            "source": [
                "-- Podaj maksymalną cenę zamawianego produktu dla każdego zamówienia. Posortuj zamówienia wg maksymalnej ceny produktu\r\n",
                "USE Northwind\r\n",
                "SELECT Orders.OrderID, MAX(UnitPrice) AS MaxVal\r\n",
                "FROM Orders\r\n",
                "INNER JOIN [Order Details] ON [Order Details].OrderID = Orders.OrderID\r\n",
                "GROUP BY Orders.OrderID"
            ],
            "metadata": {
                "azdata_cell_guid": "f6b36e64-5b30-4e96-9d65-39f076225fad",
                "language": "sql"
            },
            "outputs": [],
            "execution_count": null
        },
        {
            "cell_type": "code",
            "source": [
                "-- Podaj maksymalną i minimalną cenę zamawianego produktu dla każdego zamówienia.\\r\\n\",\r\n",
                "USE Northwind\r\n",
                "SELECT Orders.OrderID, MAX(UnitPrice) AS MaxVal, MIN(UnitPrice) AS MinVal\r\n",
                "FROM Orders\r\n",
                "INNER JOIN [Order Details] ON [Order Details].OrderID = Orders.OrderID\r\n",
                "GROUP BY Orders.OrderID"
            ],
            "metadata": {
                "azdata_cell_guid": "b613f95c-25ac-4f61-aecd-2226e3ea4dc8",
                "language": "sql"
            },
            "outputs": [],
            "execution_count": null
        },
        {
            "cell_type": "code",
            "source": [
                "-- Podaj średnią różnicę, pomiędzy maksymalną i minimalną ceną zamawianych produktów\\r\\n\",\r\n",
                "USE Northwind\r\n",
                "SELECT AVG(MaxPrice - MinPrice) AS AverageDifference\r\n",
                "FROM (\r\n",
                "    SELECT MAX(UnitPrice) AS MaxPrice, MIN(UnitPrice) AS MinPrice\r\n",
                "    FROM [Order Details]\r\n",
                "    GROUP BY OrderID)\r\n",
                "AS PriceDifference"
            ],
            "metadata": {
                "azdata_cell_guid": "bd9bb7e5-1014-41cc-9fd5-a1a7e13e3a84",
                "language": "sql"
            },
            "outputs": [],
            "execution_count": null
        },
        {
            "cell_type": "code",
            "source": [
                "-- Podaj liczbę zamówień dostarczanych przez poszczególnych spedytorów\\r\\n\",\r\n",
                "USE Northwind\r\n",
                "SELECT Shippers.ShipperID, COUNT(Orders.ShipVia) AS CountOfOrders\r\n",
                "FROM Shippers\r\n",
                "LEFT OUTER JOIN Orders ON Shippers.ShipperID=Orders.ShipVia \r\n",
                "GROUP BY Shippers.ShipperID"
            ],
            "metadata": {
                "azdata_cell_guid": "45796b3b-052c-4dc7-a859-5df99b074c57",
                "language": "sql",
                "tags": []
            },
            "outputs": [],
            "execution_count": null
        },
        {
            "cell_type": "code",
            "source": [
                "-- Który ze spedytorów był najaktywniejszy w 1997 roku? A który pomiędzy 1990 i 1995 lub 1997 i 2000?\r\n",
                "USE Northwind\r\n",
                "SELECT TOP 1 ShipVia, COUNT(OrderID) AS OrdersNumber, YEAR(ShippedDate) AS OrderYear\r\n",
                "FROM Orders\r\n",
                "WHERE YEAR(ShippedDate) = '1997' -- żeby uzyskać podobne zestawienie ale z zakresu lat należałoby zmienić warunek where i usunąć YEAR(ShippedDate)\r\n",
                "GROUP BY ShipVIa, YEAR(ShippedDate)\r\n",
                "ORDER BY OrdersNumber DESC;"
            ],
            "metadata": {
                "azdata_cell_guid": "b857373c-e7ac-439f-ab7b-ce08a87e8900",
                "language": "sql"
            },
            "outputs": [],
            "execution_count": null
        },
        {
            "cell_type": "code",
            "source": [
                " -- Wyświetl zamówienia dla których liczba pozycji w zamówieniu jest większa niż 5,\r\n",
                "USE Northwind\r\n",
                "SELECT OrderID, SUM(Quantity)\r\n",
                "FROM [Order Details]\r\n",
                "GROUP BY OrderID\r\n",
                "HAVING SUM(Quantity)>5 --jesli chodzi o liczbę różnych produktów to zamiast SUM trzeba dać COUNT"
            ],
            "metadata": {
                "azdata_cell_guid": "e8139512-8a6d-4263-975c-2c19a97b38cb",
                "language": "sql",
                "tags": []
            },
            "outputs": [],
            "execution_count": null
        },
        {
            "cell_type": "code",
            "source": [
                " -- Wyświetl klientów, dla których w 1998 roku zrealizowano więcej niż 8 zamówień (wyniki posortuj malejąco wg łącznej kwoty za dostarczenie zamówień dla każdego z klientów)\\r\\n\",\r\n",
                "USE Northwind\r\n",
                "SELECT CustomerID, YEAR(OrderDate), COUNT(Orders.OrderID) AS number_of_orders, SUM(UnitPrice*Quantity*(1-Discount)) AS val\r\n",
                "FROM Orders\r\n",
                "JOIN [Order Details] ON Orders.OrderID = [Order Details].OrderID\r\n",
                "WHERE YEAR(OrderDate) = '1998' \r\n",
                "GROUP BY CustomerID, YEAR(OrderDate)\r\n",
                "HAVING COUNT(Orders.OrderID)>8\r\n",
                "ORDER BY SUM(UnitPrice*Quantity*(1-Discount)) DESC\r\n",
                ""
            ],
            "metadata": {
                "azdata_cell_guid": "4dd3f860-1da9-46cb-b8b6-b39c0b386861",
                "language": "sql"
            },
            "outputs": [
                {
                    "output_type": "display_data",
                    "data": {
                        "text/html": "(28 rows affected)"
                    },
                    "metadata": {}
                },
                {
                    "output_type": "display_data",
                    "data": {
                        "text/html": "Total execution time: 00:00:00.036"
                    },
                    "metadata": {}
                },
                {
                    "output_type": "execute_result",
                    "metadata": {},
                    "execution_count": 4,
                    "data": {
                        "application/vnd.dataresource+json": {
                            "schema": {
                                "fields": [
                                    {
                                        "name": "CustomerID"
                                    },
                                    {
                                        "name": "(No column name)"
                                    },
                                    {
                                        "name": "number_of_orders"
                                    },
                                    {
                                        "name": "val"
                                    }
                                ]
                            },
                            "data": [
                                {
                                    "CustomerID": "ERNSH",
                                    "(No column name)": "1998",
                                    "number_of_orders": "34",
                                    "val": "41210,65002441406"
                                },
                                {
                                    "CustomerID": "QUICK",
                                    "(No column name)": "1998",
                                    "number_of_orders": "26",
                                    "val": "37217,315002441406"
                                },
                                {
                                    "CustomerID": "SAVEA",
                                    "(No column name)": "1998",
                                    "number_of_orders": "40",
                                    "val": "36310,10977935791"
                                },
                                {
                                    "CustomerID": "HANAR",
                                    "(No column name)": "1998",
                                    "number_of_orders": "15",
                                    "val": "23821,199989318848"
                                },
                                {
                                    "CustomerID": "RATTC",
                                    "(No column name)": "1998",
                                    "number_of_orders": "36",
                                    "val": "21238,270441055298"
                                },
                                {
                                    "CustomerID": "HUNGO",
                                    "(No column name)": "1998",
                                    "number_of_orders": "10",
                                    "val": "20402,11993408203"
                                },
                                {
                                    "CustomerID": "KOENE",
                                    "(No column name)": "1998",
                                    "number_of_orders": "13",
                                    "val": "19582,773986816406"
                                },
                                {
                                    "CustomerID": "WHITC",
                                    "(No column name)": "1998",
                                    "number_of_orders": "13",
                                    "val": "15278,89998626709"
                                },
                                {
                                    "CustomerID": "FOLKO",
                                    "(No column name)": "1998",
                                    "number_of_orders": "20",
                                    "val": "13644,067497253418"
                                },
                                {
                                    "CustomerID": "SUPRD",
                                    "(No column name)": "1998",
                                    "number_of_orders": "22",
                                    "val": "11644,599998474121"
                                },
                                {
                                    "CustomerID": "BOTTM",
                                    "(No column name)": "1998",
                                    "number_of_orders": "18",
                                    "val": "11338,550048828125"
                                },
                                {
                                    "CustomerID": "EASTC",
                                    "(No column name)": "1998",
                                    "number_of_orders": "12",
                                    "val": "9296,684997558594"
                                },
                                {
                                    "CustomerID": "LINOD",
                                    "(No column name)": "1998",
                                    "number_of_orders": "20",
                                    "val": "9117,090065002441"
                                },
                                {
                                    "CustomerID": "RICAR",
                                    "(No column name)": "1998",
                                    "number_of_orders": "11",
                                    "val": "6998,525009155273"
                                },
                                {
                                    "CustomerID": "GODOS",
                                    "(No column name)": "1998",
                                    "number_of_orders": "17",
                                    "val": "6870,209991455078"
                                },
                                {
                                    "CustomerID": "BERGS",
                                    "(No column name)": "1998",
                                    "number_of_orders": "16",
                                    "val": "6754,1624755859375"
                                },
                                {
                                    "CustomerID": "BONAP",
                                    "(No column name)": "1998",
                                    "number_of_orders": "16",
                                    "val": "6680,609954833984"
                                },
                                {
                                    "CustomerID": "QUEEN",
                                    "(No column name)": "1998",
                                    "number_of_orders": "12",
                                    "val": "6373,830051422119"
                                },
                                {
                                    "CustomerID": "HILAA",
                                    "(No column name)": "1998",
                                    "number_of_orders": "14",
                                    "val": "6043,20002746582"
                                },
                                {
                                    "CustomerID": "LILAS",
                                    "(No column name)": "1998",
                                    "number_of_orders": "12",
                                    "val": "5507,319999694824"
                                },
                                {
                                    "CustomerID": "FRANK",
                                    "(No column name)": "1998",
                                    "number_of_orders": "9",
                                    "val": "5078,7374267578125"
                                },
                                {
                                    "CustomerID": "OLDWO",
                                    "(No column name)": "1998",
                                    "number_of_orders": "10",
                                    "val": "5026,287506103516"
                                },
                                {
                                    "CustomerID": "RICSU",
                                    "(No column name)": "1998",
                                    "number_of_orders": "10",
                                    "val": "4988,854940414429"
                                },
                                {
                                    "CustomerID": "MAISD",
                                    "(No column name)": "1998",
                                    "number_of_orders": "9",
                                    "val": "4439,075004577637"
                                },
                                {
                                    "CustomerID": "SANTG",
                                    "(No column name)": "1998",
                                    "number_of_orders": "9",
                                    "val": "3976,750005722046"
                                },
                                {
                                    "CustomerID": "REGGC",
                                    "(No column name)": "1998",
                                    "number_of_orders": "10",
                                    "val": "3967,299919128418"
                                },
                                {
                                    "CustomerID": "LACOR",
                                    "(No column name)": "1998",
                                    "number_of_orders": "11",
                                    "val": "1992,0499954223633"
                                },
                                {
                                    "CustomerID": "WILMK",
                                    "(No column name)": "1998",
                                    "number_of_orders": "10",
                                    "val": "1987,0000076293945"
                                }
                            ]
                        },
                        "text/html": [
                            "<table>",
                            "<tr><th>CustomerID</th><th>(No column name)</th><th>number_of_orders</th><th>val</th></tr>",
                            "<tr><td>ERNSH</td><td>1998</td><td>34</td><td>41210,65002441406</td></tr>",
                            "<tr><td>QUICK</td><td>1998</td><td>26</td><td>37217,315002441406</td></tr>",
                            "<tr><td>SAVEA</td><td>1998</td><td>40</td><td>36310,10977935791</td></tr>",
                            "<tr><td>HANAR</td><td>1998</td><td>15</td><td>23821,199989318848</td></tr>",
                            "<tr><td>RATTC</td><td>1998</td><td>36</td><td>21238,270441055298</td></tr>",
                            "<tr><td>HUNGO</td><td>1998</td><td>10</td><td>20402,11993408203</td></tr>",
                            "<tr><td>KOENE</td><td>1998</td><td>13</td><td>19582,773986816406</td></tr>",
                            "<tr><td>WHITC</td><td>1998</td><td>13</td><td>15278,89998626709</td></tr>",
                            "<tr><td>FOLKO</td><td>1998</td><td>20</td><td>13644,067497253418</td></tr>",
                            "<tr><td>SUPRD</td><td>1998</td><td>22</td><td>11644,599998474121</td></tr>",
                            "<tr><td>BOTTM</td><td>1998</td><td>18</td><td>11338,550048828125</td></tr>",
                            "<tr><td>EASTC</td><td>1998</td><td>12</td><td>9296,684997558594</td></tr>",
                            "<tr><td>LINOD</td><td>1998</td><td>20</td><td>9117,090065002441</td></tr>",
                            "<tr><td>RICAR</td><td>1998</td><td>11</td><td>6998,525009155273</td></tr>",
                            "<tr><td>GODOS</td><td>1998</td><td>17</td><td>6870,209991455078</td></tr>",
                            "<tr><td>BERGS</td><td>1998</td><td>16</td><td>6754,1624755859375</td></tr>",
                            "<tr><td>BONAP</td><td>1998</td><td>16</td><td>6680,609954833984</td></tr>",
                            "<tr><td>QUEEN</td><td>1998</td><td>12</td><td>6373,830051422119</td></tr>",
                            "<tr><td>HILAA</td><td>1998</td><td>14</td><td>6043,20002746582</td></tr>",
                            "<tr><td>LILAS</td><td>1998</td><td>12</td><td>5507,319999694824</td></tr>",
                            "<tr><td>FRANK</td><td>1998</td><td>9</td><td>5078,7374267578125</td></tr>",
                            "<tr><td>OLDWO</td><td>1998</td><td>10</td><td>5026,287506103516</td></tr>",
                            "<tr><td>RICSU</td><td>1998</td><td>10</td><td>4988,854940414429</td></tr>",
                            "<tr><td>MAISD</td><td>1998</td><td>9</td><td>4439,075004577637</td></tr>",
                            "<tr><td>SANTG</td><td>1998</td><td>9</td><td>3976,750005722046</td></tr>",
                            "<tr><td>REGGC</td><td>1998</td><td>10</td><td>3967,299919128418</td></tr>",
                            "<tr><td>LACOR</td><td>1998</td><td>11</td><td>1992,0499954223633</td></tr>",
                            "<tr><td>WILMK</td><td>1998</td><td>10</td><td>1987,0000076293945</td></tr>",
                            "</table>"
                        ]
                    }
                }
            ],
            "execution_count": 4
        }
    ]
}