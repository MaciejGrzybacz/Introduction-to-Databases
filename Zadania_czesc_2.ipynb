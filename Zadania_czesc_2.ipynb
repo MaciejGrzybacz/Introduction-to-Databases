{
    "metadata": {
        "kernelspec": {
            "name": "SQL",
            "display_name": "SQL",
            "language": "sql"
        },
        "language_info": {
            "name": "sql",
            "version": ""
        }
    },
    "nbformat_minor": 2,
    "nbformat": 4,
    "cells": [
        {
            "cell_type": "code",
            "source": [
                "-- Podaj ilu jest pracowników płci męskiej, którzy urodzili się pomiędzy latami 1950-1960 (z wyłączeniem roku 1955), mieszkają w USA i w adresie mają frazę ‘Rd.’\r\n",
                "\r\n",
                "SELECT COUNT(EmployeeID)\r\n",
                "FROM Employees\r\n",
                "WHERE (YEAR(BirthDate) BETWEEN 1950 AND 1954) OR (YEAR(BirthDate) BETWEEN 1956 AND 1960) AND Country LIKE 'USA' AND Address LIKE '%Rd.%'"
            ],
            "metadata": {
                "azdata_cell_guid": "5d960f5b-b421-47d9-955b-595f500b2e8d",
                "language": "sql",
                "tags": [
                    "hide_input"
                ]
            },
            "outputs": [],
            "execution_count": null
        },
        {
            "cell_type": "code",
            "source": [
                "-- Wyświetl dane klientów (id, nazwy, adresy) którzy byli obsługiwani przez co najmniej dwóch pracowników i podaj dane tych pracowników.\r\n",
                "-- Wykaz danych klientów uporządkuj rosnąco względem daty urodzenia\r\n",
                "\r\n",
                "SELECT Customers.CustomerID, Customers.CompanyName, Customers.Address, Employees.EmployeeID\r\n",
                "FROM Customers\r\n",
                "JOIN Orders ON Orders.CustomerID= Customers.CustomerID\r\n",
                "JOIN Employees ON Employees.EmployeeID=Orders.EmployeeID\r\n",
                "GROUP BY Customers.CustomerID, Customers.CompanyName, Customers.Address, Employees.EmployeeID\r\n",
                "HAVING COUNT(Orders.EmployeeID)>1\r\n",
                "ORDER BY Customers.CustomerID\r\n",
                ""
            ],
            "metadata": {
                "azdata_cell_guid": "ade660ce-f6db-4b28-b761-70ab2f8cf911",
                "language": "sql",
                "tags": [
                    "hide_input"
                ]
            },
            "outputs": [],
            "execution_count": null
        },
        {
            "cell_type": "code",
            "source": [
                "-- Wyświetl wykaz zamówień, dla których opłata za przesyłkę mieściła się w przedziale 40%-60% \r\n",
                "-- średniej opłaty za przesyłkę wszystkich zamówień złożonych w miesiącach styczeń-marzec-maj.\r\n",
                "\r\n",
                "SELECT OrderID\r\n",
                "FROM Orders\r\n",
                "WHERE Freight BETWEEN 0.4*(SELECT AVG(Freight)\r\n",
                "                            FROM Orders\r\n",
                "                            WHERE MONTH(OrderDate)=1 OR MONTH(OrderDate)=3 OR MONTH(OrderDate)=5) AND  0.6*(SELECT AVG(Freight)\r\n",
                "                            FROM Orders\r\n",
                "                            WHERE MONTH(OrderDate)=1 OR MONTH(OrderDate)=3 OR MONTH(OrderDate)=5)\r\n",
                "\r\n",
                ""
            ],
            "metadata": {
                "azdata_cell_guid": "1957f23e-2562-46b5-bf10-eb18fc09c2d7",
                "language": "sql",
                "tags": []
            },
            "outputs": [],
            "execution_count": null
        },
        {
            "cell_type": "code",
            "source": [
                "-- Podaj ilu jest pracowników, którzy urodzili się pomiędzy latami 1950-1953 lub 1955-1957 lub 1959-1962 i mieszkają w Londynie lub Seattle.\r\n",
                "SELECT COUNT(EmployeeID)\r\n",
                "FROM Employees\r\n",
                "WHERE (YEAR(BirthDate) BETWEEN 1950 AND 1953) OR (YEAR(BirthDate) BETWEEN 1955 AND 1957) AND (City LIKE 'London' OR City LIKE 'Seattle')"
            ],
            "metadata": {
                "azdata_cell_guid": "d4c61150-befd-4270-ad53-26087d53928f",
                "language": "sql",
                "tags": [
                    "hide_input"
                ]
            },
            "outputs": [],
            "execution_count": null
        },
        {
            "cell_type": "code",
            "source": [
                "-- Wyświetl raport roczny sprzedaży w roku 1996 z podziałem na kwartały\r\n",
                "-- (łączne kwoty, łączna liczba sztuk), uwzględniający zamówienia, dla których zanotowano liczbę sztuk powyżej średniej liczby sztuk w roku 1996\r\n",
                "-- oraz wartość zamówienia powyżej średniej wartości zamówienia w roku 1996.\r\n",
                "\r\n",
                "SELECT DATEPART(QUARTER, Orders.OrderDate) AS Quarters, SUM([Order Details].UnitPrice * [Order Details].Quantity*(1-[Order Details].Discount)), SUM(Quantity)\r\n",
                "FROM Orders\r\n",
                "JOIN [Order Details] ON [Order Details].OrderID = Orders.OrderID\r\n",
                "WHERE YEAR(Orders.OrderDate) = 1996 AND [Order Details].Quantity> (SELECT AVG(Quantity)\r\n",
                "                                                                    FROM [Order Details]\r\n",
                "                                                                    JOIN Orders ON [Order Details].OrderID = Orders.OrderID\r\n",
                "                                                                    WHERE YEAR(Orders.OrderDate) = 1996) AND [Order Details].UnitPrice * [Order Details].Quantity*(1-[Order Details].Discount)> (SELECT AVG([Order Details].UnitPrice * [Order Details].Quantity*(1-[Order Details].Discount))\r\n",
                "                                                                    FROM [Order Details]\r\n",
                "                                                                    JOIN Orders ON [Order Details].OrderID = Orders.OrderID\r\n",
                "                                                                    WHERE YEAR(Orders.OrderDate) = 1996)\r\n",
                "GROUP BY DATEPART(QUARTER, Orders.OrderDate)\r\n",
                ""
            ],
            "metadata": {
                "azdata_cell_guid": "89e053a0-a3a8-484d-877c-b3777f472d60",
                "language": "sql",
                "tags": [
                    "hide_input"
                ]
            },
            "outputs": [],
            "execution_count": null
        },
        {
            "cell_type": "code",
            "source": [
                "-- Wyświetl raport sprzedaży trzeciego kwartału roku 1998 z podziałem na miesiące (łączne kwoty, łączna liczba sztuk),\r\n",
                "-- uwzględniający zamówienia, dla których zanotowano liczbę sztuk powyżej 30% średniej liczby sztuk w roku 1998 oraz\r\n",
                "-- wartość zamówienia powyżej średniej wartości zamówienia w drugiej połowie roku 1998\r\n",
                "SELECT MONTH(Orders.OrderDate) AS Mont, SUM([Order Details].UnitPrice * [Order Details].Quantity*(1-[Order Details].Discount)) AS TotalPrice, SUM([Order Details].Quantity) AS TotalQuantity\r\n",
                "FROM Orders\r\n",
                "LEFT OUTER JOIN [Order Details] ON [Order Details].OrderID=Orders.OrderID\r\n",
                "WHERE  [Order Details].Quantity > 0.3*( SELECT AVG([Order Details].Quantity)\r\n",
                "                                        FROM [Order Details]\r\n",
                "                                        JOIN Orders ON Orders.OrderID=[Order Details].OrderID\r\n",
                "                                        WHERE YEAR(Orders.OrderDate) = 1998)\r\n",
                "        AND [Order Details].UnitPrice * [Order Details].Quantity*(1-[Order Details].Discount)>\r\n",
                "                                      ( SELECT AVG([Order Details].UnitPrice * [Order Details].Quantity*(1-[Order Details].Discount))\r\n",
                "                                        FROM [Order Details]\r\n",
                "                                        JOIN Orders ON Orders.OrderID=[Order Details].OrderID\r\n",
                "                                        WHERE YEAR(Orders.OrderDate) = 1998 AND MONTH(Orders.OrderDate) BETWEEN 7 AND 12 )\r\n",
                "GROUP BY MONTH(Orders.OrderDate)\r\n",
                "HAVING MONTH(Orders.OrderDate) BETWEEN 7 AND 9"
            ],
            "metadata": {
                "azdata_cell_guid": "c0608ed0-a114-4bd1-89fe-3538aaa99443",
                "language": "sql",
                "tags": [
                    "hide_input"
                ]
            },
            "outputs": [],
            "execution_count": null
        },
        {
            "cell_type": "code",
            "source": [
                "-- Wyświetl dane klientów (id, nazwy, adresy) klientów którzy byli obsługiwani tylko przez jednego pracownika lub dwóch pracowników. \r\n",
                "-- Podaj dane tych pracowników. Wykaz danych klientów uporządkuj alfabetycznie (rosnąco).\r\n",
                "\r\n",
                "SELECT Customers.CustomerID, Customers.CompanyName, Customers.Address, Employees.EmployeeID\r\n",
                "FROM Customers\r\n",
                "JOIN Orders ON Orders.CustomerID= Customers.CustomerID\r\n",
                "JOIN Employees ON Employees.EmployeeID=Orders.EmployeeID\r\n",
                "GROUP BY Customers.CustomerID, Customers.CompanyName, Customers.Address, Employees.EmployeeID\r\n",
                "HAVING COUNT(Orders.EmployeeID)<3\r\n",
                "ORDER BY Customers.CustomerID"
            ],
            "metadata": {
                "azdata_cell_guid": "274ee1a9-5de9-4cb0-9b51-8c7e6a067a6e",
                "language": "sql",
                "tags": [
                    "hide_input"
                ]
            },
            "outputs": [],
            "execution_count": null
        },
        {
            "cell_type": "code",
            "source": [
                "-- Wyświetl wykaz zamówień (numer zamówienia, nazwa klienta, nazwa przewoźnika, freight), \r\n",
                "-- dla których opłata za przesyłkę była mniejsza niż 70% średniej opłaty za przesyłkę wszystkich zamówień złożonych w miesiącach styczeń-luty-marzec.\r\n",
                "-- Wykaz posortuj po nazwie przewoźnika\r\n",
                "\r\n",
                "\r\n",
                "SELECT Orders.OrderID, Customers.CompanyName, Shippers.CompanyName, Orders.Freight\r\n",
                "FROM Orders\r\n",
                "JOIN Customers ON Customers.CustomerID = Orders.CustomerID\r\n",
                "JOIN Shippers ON Shippers.ShipperID = Orders.ShipVia\r\n",
                "WHERE Orders.Freight < 0.7*(SELECT AVG(Freight)\r\n",
                "                            FROM Orders\r\n",
                "                            WHERE MONTH(OrderDate)=1 OR MONTH(OrderDate)=3 OR MONTH(OrderDate)=5) "
            ],
            "metadata": {
                "azdata_cell_guid": "60e81f46-f56f-431a-aae9-cd1321acd6fe",
                "language": "sql"
            },
            "outputs": [],
            "execution_count": 34
        }
    ]
}