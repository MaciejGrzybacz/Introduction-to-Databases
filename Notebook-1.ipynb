{
    "metadata": {
        "kernelspec": {
            "name": "SQL",
            "display_name": "SQL",
            "language": "sql"
        },
        "language_info": {
            "name": "sql",
            "version": ""
        }
    },
    "nbformat_minor": 2,
    "nbformat": 4,
    "cells": [
        {
            "cell_type": "code",
            "source": [
                "-- Wybierz nazwy i ceny produktów o cenie jednostkowej pomiędzy 20 a 30, dla każdego produktu podaj dane adresowe dostawcy"
            ],
            "metadata": {
                "azdata_cell_guid": "bc8edb56-2334-4659-bd00-dc0f40930c89",
                "language": "sql"
            },
            "outputs": [],
            "execution_count": null
        },
        {
            "cell_type": "code",
            "source": [
                "-- Wybierz nazwy produktów oraz informacje o stanie magazynu dla produktów dostarczanych przez firmę ‘Tokyo Traders'"
            ],
            "metadata": {
                "azdata_cell_guid": "87edb8bc-3bcd-4369-b8bc-aafdbdf223ce",
                "language": "sql"
            },
            "outputs": [],
            "execution_count": null
        },
        {
            "cell_type": "code",
            "source": [
                "-- Czy są jacyś klienci którzy nie złożyli żadnego zamówienia w 1997 roku, jeśli tak to pokaż ich dane adresowe"
            ],
            "metadata": {
                "azdata_cell_guid": "550675bf-a5cc-492c-8514-f01f4c0ea1c2",
                "language": "sql"
            },
            "outputs": [],
            "execution_count": null
        },
        {
            "cell_type": "code",
            "source": [
                "-- Wybierz nazwy i numery telefonów dostawców, dostarczających produkty, których aktualnie nie ma w magazynie"
            ],
            "metadata": {
                "azdata_cell_guid": "8fb95b9e-5ea1-4156-9b41-7869b96a3a10",
                "language": "sql"
            },
            "outputs": [],
            "execution_count": null
        },
        {
            "cell_type": "code",
            "source": [
                "-- Wybierz nazwy i ceny produktów (baza northwind) o cenie jednostkowej pomiędzy 20 a 30, dla każdego produktu podaj dane adresowe dostawcy, interesują nas tylko produkty z kategorii ‘Meat/Poultry’"
            ],
            "metadata": {
                "azdata_cell_guid": "43d28e68-1393-4927-8612-a6ca189a3f2c",
                "language": "sql"
            },
            "outputs": [],
            "execution_count": null
        },
        {
            "cell_type": "code",
            "source": [
                "-- Wybierz nazwy i ceny produktów z kategorii ‘Confections’ dla każdego produktu podaj nazwę dostawcy."
            ],
            "metadata": {
                "azdata_cell_guid": "94446673-54e3-4e60-b00a-b379df7743cf",
                "language": "sql"
            },
            "outputs": [],
            "execution_count": null
        },
        {
            "cell_type": "code",
            "source": [
                "-- Wybierz nazwy i numery telefonów klientów , którym w 1997 roku przesyłki dostarczała firma ‘United Package’"
            ],
            "metadata": {
                "azdata_cell_guid": "25e094c7-9346-4f6d-8921-c7696041ef54",
                "language": "sql"
            },
            "outputs": [],
            "execution_count": null
        },
        {
            "cell_type": "code",
            "source": [
                "-- Wybierz nazwy i numery telefonów klientów, którzy kupowali produkty z kategorii ‘Confections’"
            ],
            "metadata": {
                "azdata_cell_guid": "85222481-4df5-423b-b07b-178350556948",
                "language": "sql"
            },
            "outputs": [],
            "execution_count": null
        }
    ]
}