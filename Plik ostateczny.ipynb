{
    "metadata": {
        "kernelspec": {
            "name": "SQL",
            "display_name": "SQL",
            "language": "sql"
        },
        "language_info": {
            "name": "sql",
            "version": ""
        }
    },
    "nbformat_minor": 2,
    "nbformat": 4,
    "cells": [
        {
            "cell_type": "code",
            "source": [
                "-- Wypisz wszystkich członków biblioteki z adresami i info czy jest dzieckiem czy nie i\r\n",
                "-- ilość wypożyczeń w poszczególnych latach i miesiącach.\r\n",
                "USE library;\r\n",
                "\r\n",
                "SELECT adult.member_no,adult.street,adult.city,adult.state, YEAR(loan.out_date), MONTH(loan.out_date), COUNT(loan.out_date), 'adult'\r\n",
                "FROM adult \r\n",
                "JOIN loan ON loan.member_no=adult.member_no\r\n",
                "GROUP BY adult.member_no,adult.street,adult.city,adult.state, YEAR(loan.out_date), MONTH(loan.out_date)\r\n",
                "UNION\r\n",
                "SELECT juvenile.member_no,adult.street,adult.city,adult.state, YEAR(loan.out_date), MONTH(loan.out_date), COUNT(loan.out_date), 'child'\r\n",
                "FROM juvenile\r\n",
                "JOIN adult ON juvenile.adult_member_no=adult.member_no\r\n",
                "JOIN loan ON loan.member_no=adult.member_no\r\n",
                "GROUP BY juvenile.member_no,adult.street,adult.city,adult.state, YEAR(loan.out_date), MONTH(loan.out_date)\r\n",
                ""
            ],
            "metadata": {
                "azdata_cell_guid": "df2093e4-2397-4ae9-88bd-7c0b91502ac5",
                "language": "sql",
                "tags": [
                    "hide_input"
                ]
            },
            "outputs": [],
            "execution_count": null
        },
        {
            "cell_type": "code",
            "source": [
                "-- Zamówienia z Freight większym niż AVG danego roku.\r\n",
                "USE Northwind;\r\n",
                "SELECT o.OrderID, o.Freight\r\n",
                "FROM Orders o\r\n",
                "WHERE o.Freight > (SELECT AVG(Freight)\r\n",
                "                FROM Orders \r\n",
                "                WHERE YEAR(OrderDate)=YEAR(o.OrderDate))\r\n",
                ""
            ],
            "metadata": {
                "azdata_cell_guid": "9313e326-3a71-484b-a2f5-75d8d61156d1",
                "language": "sql",
                "tags": [
                    "hide_input"
                ]
            },
            "outputs": [],
            "execution_count": null
        },
        {
            "cell_type": "code",
            "source": [
                "-- Klienci, którzy nie zamówili nigdy nic z kategorii 'Seafood' \r\n",
                "USE Northwind;\r\n",
                "SELECT DISTINCT CustomerID \r\n",
                "FROM Orders\r\n",
                "WHERE CustomerID IN (SELECT o.CustomerID\r\n",
                "                    FROM Orders o\r\n",
                "                    JOIN [Order Details] od ON o.OrderID=od.OrderID\r\n",
                "                    JOIN Products p ON od.ProductID=p.ProductID\r\n",
                "                    JOIN Categories c ON p.CategoryID=c.CategoryID\r\n",
                "                    WHERE c.CategoryName LIKE 'Seafood')\r\n",
                ""
            ],
            "metadata": {
                "azdata_cell_guid": "521163ab-f4e3-42ba-92b1-28d7bbf38a95",
                "language": "sql",
                "tags": [
                    "hide_input"
                ]
            },
            "outputs": [],
            "execution_count": null
        },
        {
            "cell_type": "code",
            "source": [
                "-- Dla każdego klienta najczęściej zamawianą kategorię (liczba sztuk)\r\n",
                "\r\n",
                "SELECT oo.CustomerID, pp.CategoryID, SUM(odd.Quantity)\r\n",
                "FROM Orders oo\r\n",
                "JOIN [Order Details] odd ON oo.OrderID=odd.OrderID\r\n",
                "JOIN Products pp ON odd.ProductID=pp.ProductID\r\n",
                "GROUP BY oo.CustomerID, pp.CategoryID\r\n",
                "HAVING SUM(odd.Quantity)=(SELECT MAX(q)\r\n",
                "        FROM (SELECT o.CustomerID, p.CategoryID, SUM(od.Quantity) q\r\n",
                "                FROM Orders o\r\n",
                "                JOIN [Order Details] od ON o.OrderID=od.OrderID\r\n",
                "                JOIN Products p ON od.ProductID=p.ProductID\r\n",
                "                GROUP BY o.CustomerID, p.CategoryID) tmp\r\n",
                "        WHERE tmp.CustomerID=oo.CustomerID)\r\n",
                ""
            ],
            "metadata": {
                "azdata_cell_guid": "489b9a38-1b9f-4d75-b6ac-4d2acae1b141",
                "language": "sql",
                "tags": [
                    "hide_input"
                ]
            },
            "outputs": [],
            "execution_count": null
        },
        {
            "cell_type": "code",
            "source": [
                "-- Podział na company, year month i suma freight \r\n",
                "USE Northwind;\r\n",
                "\r\n",
                "SELECT CustomerID, YEAR(OrderDate), MONTH(OrderDate), SUM(Freight)\r\n",
                "FROM Orders\r\n",
                "GROUP BY CustomerID, YEAR(OrderDate), MONTH(OrderDate)"
            ],
            "metadata": {
                "azdata_cell_guid": "a8fb5d4c-acfa-4c85-82c7-d57dcfcc3b9f",
                "language": "sql",
                "tags": [
                    "hide_input"
                ]
            },
            "outputs": [],
            "execution_count": null
        },
        {
            "cell_type": "code",
            "source": [
                "-- Wypisać wszystkich czytelników, którzy nigdy nie wypożyczyli książki dane\r\n",
                "-- adresowe i podział czy ta osoba jest dzieckiem\r\n",
                "USE library;\r\n",
                "SELECT DISTINCT member_no, street, city, zip, 'adult'\r\n",
                "FROM adult\r\n",
                "WHERE member_no NOT IN (SELECT DISTINCT member_no \r\n",
                "FROM loan)\r\n",
                "UNION \r\n",
                "SELECT DISTINCT j.member_no, a.street, a.city, a.zip, 'child'\r\n",
                "FROM juvenile j\r\n",
                "JOIN adult a ON j.adult_member_no=a.member_no \r\n",
                "WHERE j.member_no NOT IN (SELECT DISTINCT member_no \r\n",
                "FROM loan)"
            ],
            "metadata": {
                "azdata_cell_guid": "89c3feb6-02b5-4bbe-a247-911ae8d68dfb",
                "language": "sql",
                "tags": [
                    "hide_input"
                ]
            },
            "outputs": [],
            "execution_count": null
        },
        {
            "cell_type": "code",
            "source": [
                "-- Najczęściej wybierana kategoria w 1997 dla każdego klienta\r\n",
                "USE Northwind;\r\n",
                "SELECT Orders.CustomerID, Products.CategoryID\r\n",
                "FROM Orders \r\n",
                "JOIN [Order Details] ON [Order Details].OrderID=Orders.OrderID\r\n",
                "JOIN Products ON [Order Details].ProductID=Products.ProductID \r\n",
                "WHERE YEAR(Orders.OrderDate)=1997\r\n",
                "GROUP BY Orders.CustomerID, Products.CategoryID \r\n",
                "HAVING  COUNT(Orders.OrderID) = (SELECT MAX(cnt)\r\n",
                "                                  FROM (SELECT o.CustomerID cusid, p.CategoryID catid, COUNT(*) cnt\r\n",
                "                                        FROM Orders o \r\n",
                "                                        JOIN [Order Details] od ON o.OrderID=od.OrderID\r\n",
                "                                        JOIN Products p ON od.ProductID=p.ProductID \r\n",
                "                                        WHERE YEAR(o.OrderDate)=1997 \r\n",
                "                                        GROUP BY o.CustomerID, p.CategoryID) tmp\r\n",
                "                                   WHERE tmp.cusid=Orders.CustomerID)\r\n",
                ""
            ],
            "metadata": {
                "azdata_cell_guid": "6021fa6c-1230-4ce1-ae53-129cee3703e8",
                "language": "sql",
                "tags": [
                    "hide_input"
                ]
            },
            "outputs": [],
            "execution_count": null
        },
        {
            "cell_type": "code",
            "source": [
                "-- Dla każdego czytelnika imię nazwisko, suma książek wypożyczony przez tą osobę i\r\n",
                "-- jej dzieci, który żyje w Arizona ma mieć więcej niż 2 dzieci lub kto żyje w Kalifornii\r\n",
                "-- ma mieć więcej niż 3 dzieci\r\n",
                "USE library;\r\n",
                "SELECT a.member_no, m.firstname, m.lastname, COUNT(l.member_no)+ --nie chce mi sie tego dopisywać naprawde zeby tez dzieci dodawac\r\n",
                "FROM adult a \r\n",
                "LEFT OUTER JOIN member m ON a.member_no=m.member_no\r\n",
                "LEFT OUTER JOIN loan l ON a.member_no=l.member_no\r\n",
                "WHERE (a.state='AZ' AND (SELECT COUNT(adult_member_no)\r\n",
                "        FROM juvenile\r\n",
                "        WHERE a.member_no=adult_member_no)>2 )OR (a.state='CA' AND (SELECT COUNT(adult_member_no)\r\n",
                "        FROM juvenile\r\n",
                "        WHERE a.member_no=adult_member_no)>3)\r\n",
                "GROUP BY a.member_no, m.firstname, m.lastname\r\n",
                ""
            ],
            "metadata": {
                "azdata_cell_guid": "dde95db4-7c3d-4e3a-b8c5-6c2553dae2c4",
                "language": "sql",
                "tags": []
            },
            "outputs": [],
            "execution_count": null
        }
    ]
}