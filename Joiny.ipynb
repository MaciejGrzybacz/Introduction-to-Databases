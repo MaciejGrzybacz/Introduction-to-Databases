{
    "metadata": {
        "kernelspec": {
            "name": "SQL",
            "display_name": "SQL",
            "language": "sql"
        },
        "language_info": {
            "name": "sql",
            "version": ""
        }
    },
    "nbformat_minor": 2,
    "nbformat": 4,
    "cells": [
        {
            "cell_type": "code",
            "source": [
                "-- zadanie 1\n",
                "-- Napisz polecenie zwracające nazwy produktów i firmy je dostarczające (baza northwind)\n",
                "-- tak aby produkty bez „dostarczycieli” i „dostarczyciele” bez produktów nie pojawiali się w wyniku\n",
                "\n",
                "SELECT Products.ProductName, Suppliers.CompanyName\n",
                "FROM Products\n",
                "INNER JOIN Suppliers ON Products.SupplierID=Suppliers.SupplierID\n",
                ""
            ],
            "metadata": {
                "azdata_cell_guid": "b2225edd-cda8-4ddc-a4a3-00eceae3abc9",
                "language": "sql",
                "tags": [
                    "hide_input"
                ]
            },
            "outputs": [],
            "execution_count": null
        },
        {
            "cell_type": "code",
            "source": [
                "-- zadanie 2\r\n",
                "-- Napisz polecenie zwracające jako wynik nazwy klientów, którzy złożyli zamówienia po 01 marca 1998 (baza northwind)\r\n",
                "\r\n",
                "SELECT Customers.CustomerID, Orders.OrderDate\r\n",
                "FROM Customers\r\n",
                "INNER JOIN Orders ON Customers.CustomerID=Orders.CustomerID\r\n",
                "WHERE Orders.OrderDate>'1998-03-01'\r\n",
                "ORDER BY Orders.OrderDate"
            ],
            "metadata": {
                "azdata_cell_guid": "16eb6172-89c7-4c38-807a-05d24c5d2503",
                "language": "sql",
                "tags": [
                    "hide_input"
                ]
            },
            "outputs": [],
            "execution_count": null
        },
        {
            "cell_type": "code",
            "source": [
                "-- zadanie 3\r\n",
                "-- Napisz polecenie zwracające wszystkich klientów z datami zamówień (baza northwind).\r\n",
                "SELECT Customers.CustomerID, Orders.OrderDate\r\n",
                "FROM Customers\r\n",
                "LEFT OUTER JOIN Orders ON Customers.CustomerID = Orders.CustomerID\r\n",
                ""
            ],
            "metadata": {
                "azdata_cell_guid": "17e7a74a-f79b-4897-98ba-ef069896e6d0",
                "language": "sql",
                "tags": [
                    "hide_input"
                ]
            },
            "outputs": [],
            "execution_count": null
        },
        {
            "cell_type": "code",
            "source": [
                "-- zadanie 4\r\n",
                "-- Wybierz nazwy i ceny produktów (baza northwind) o cenie jednostkowej pomiędzy 20.00 a 30.00, dla każdego produktu podaj dane adresowe dostawcy\r\n",
                "SELECT Products.ProductName, Products.UnitPrice, Suppliers.Address\r\n",
                "FROM Products\r\n",
                "LEFT OUTER JOIN Suppliers ON Products.SupplierID=Suppliers.SupplierID\r\n",
                "WHERE Products.UnitPrice BETWEEN 20 AND 30"
            ],
            "metadata": {
                "azdata_cell_guid": "e084ea81-dbc9-4804-ac22-3fd7a545b756",
                "language": "sql",
                "tags": [
                    "hide_input"
                ]
            },
            "outputs": [],
            "execution_count": null
        },
        {
            "cell_type": "code",
            "source": [
                "-- zadanie 4\r\n",
                "-- Wybierz nazwy produktów oraz inf. o stanie magazynu dla produktów dostarczanych przez firmę ‘Tokyo Traders’\r\n",
                "SELECT ProductName, UnitsInStock, CompanyName\r\n",
                "FROM Products\r\n",
                "LEFT OUTER JOIN Suppliers ON Products.SupplierID=Suppliers.SupplierID\r\n",
                "WHERE CompanyName LIKE 'Tokyo Traders'\r\n",
                ""
            ],
            "metadata": {
                "azdata_cell_guid": "2ed2cce2-c0ed-407b-a938-7f3ba8926c6c",
                "language": "sql",
                "tags": [
                    "hide_input"
                ]
            },
            "outputs": [],
            "execution_count": null
        },
        {
            "cell_type": "code",
            "source": [
                "-- zadanie 5\r\n",
                "-- Czy są jacyś klienci którzy nie złożyli żadnego zamówienia w 1997 roku, jeśli tak to pokaż ich dane adresowe\r\n",
                "SELECT Customers.CompanyName, Orders.OrderDate\r\n",
                "FROM Customers \r\n",
                "LEFT OUTER JOIN Orders on Customers.CustomerID= Orders.CustomerID\r\n",
                "WHERE Customers.CustomerID NOT IN (SELECT CustomerID FROM Orders WHERE OrderDate LIKE '%1997%')\r\n",
                "ORDER BY Customers.CompanyName"
            ],
            "metadata": {
                "azdata_cell_guid": "39230e32-ea22-4646-a035-c4e4c0a8db68",
                "language": "sql",
                "tags": [
                    "hide_input"
                ]
            },
            "outputs": [],
            "execution_count": null
        },
        {
            "cell_type": "code",
            "source": [
                "-- zadanie 6\r\n",
                "-- Wybierz nazwy i numery telefonów dostawców, dostarczających produkty, których aktualnie nie  ma w magazynie\r\n",
                "\r\n",
                "SELECT Suppliers.CompanyName, Suppliers.Phone, Products.UnitsInStock\r\n",
                "FROM Suppliers\r\n",
                "LEFT OUTER JOIN Products ON Suppliers.SupplierID = Products.SupplierID\r\n",
                "WHERE Products.UnitsInStock = 0\r\n",
                ""
            ],
            "metadata": {
                "language": "sql",
                "azdata_cell_guid": "d95a9d74-0fcc-4752-972d-3ed907ec69f4",
                "tags": [
                    "hide_input"
                ]
            },
            "outputs": [],
            "execution_count": null
        },
        {
            "cell_type": "code",
            "source": [
                "-- zadanie 7\r\n",
                "-- Napisz polecenie, wyświetlające CROSS JOIN  między shippers i suppliers. użyteczne dla listowania wszystkich możliwych sposobów w jaki dostawcy mogą dostarczać swoje produkty\r\n",
                "SELECT * \r\n",
                "FROM shippers \r\n",
                "CROSS JOIN suppliers;"
            ],
            "metadata": {
                "language": "sql",
                "azdata_cell_guid": "2a706ab7-aa72-4d95-ae29-42c16d613817",
                "tags": [
                    "hide_input"
                ]
            },
            "outputs": [],
            "execution_count": null
        },
        {
            "cell_type": "code",
            "source": [
                "-- zadanie 8\r\n",
                "-- Napisz polecenie zwracające listę produktów zamawianych w dniu 1996-07-08\r\n",
                "-- nie wiem dlaczego LIKE nie działa no ale jebie mnie to po całośći\r\n",
                "SELECT Products.ProductName, Orders.OrderDate\r\n",
                "FROM Orders\r\n",
                "JOIN [Order Details] ON Orders.OrderID = [Order Details].OrderID\r\n",
                "JOIN Products ON [Order Details].ProductID = Products.ProductID\r\n",
                "WHERE Orders.OrderDate = '1996-07-08'\r\n",
                ""
            ],
            "metadata": {
                "language": "sql",
                "azdata_cell_guid": "0be75791-fe53-4516-8a49-850461424fb3",
                "tags": [
                    "hide_input"
                ]
            },
            "outputs": [],
            "execution_count": null
        },
        {
            "cell_type": "code",
            "source": [
                "-- zadanie 9\r\n",
                "-- Wybierz nazwy i ceny produktów (baza northwind) o cenie jednostkowej pomiędzy 20.00 a 30.00, \r\n",
                "-- dla każdego produktu podaj dane adresowe dostawcy, interesują nas tylko produkty z kategorii ‘Meat/Poultry’\r\n",
                "SELECT Products.ProductName, Products.UnitPrice, Suppliers.CompanyName\r\n",
                "FROM Products\r\n",
                "LEFT OUTER JOIN Suppliers ON Products.SupplierID=Suppliers.SupplierID\r\n",
                "LEFT OUTER JOIN Categories ON Products.CategoryID = Categories.CategoryID\r\n",
                "WHERE Products.UnitPrice BETWEEN 20 AND 30 AND Categories.CategoryName LIKE '%Meat/Poultry%'\r\n",
                ""
            ],
            "metadata": {
                "language": "sql",
                "azdata_cell_guid": "af098a90-e131-4cf6-8564-ef841bb5b171",
                "tags": [
                    "hide_input"
                ]
            },
            "outputs": [],
            "execution_count": null
        },
        {
            "cell_type": "code",
            "source": [
                "-- zadanie 10\r\n",
                "-- Wybierz nazwy i ceny produktów z kategorii ‘Confections’ dla każdego produktu podaj nazwę dostawcy.\r\n",
                "\r\n",
                "SELECT Products.ProductName, Products.UnitPrice, Suppliers.CompanyName, Categories.CategoryName\r\n",
                "FROM Products\r\n",
                "LEFT OUTER JOIN Suppliers ON Products.SupplierID=Suppliers.SupplierID\r\n",
                "LEFT OUTER JOIN Categories ON Products.CategoryID = Categories.CategoryID\r\n",
                "WHERE Categories.CategoryName LIKE '%Confections%'"
            ],
            "metadata": {
                "language": "sql",
                "azdata_cell_guid": "01fb2747-f5ab-4a5a-a75b-14a02693c5ad",
                "tags": [
                    "hide_input"
                ]
            },
            "outputs": [],
            "execution_count": null
        },
        {
            "cell_type": "code",
            "source": [
                "-- zadanie 11\r\n",
                "-- Wybierz nazwy i numery telefonów klientów , którym w 1997 roku przesyłki dostarczała firma ‘United Package’\r\n",
                "\r\n",
                "SELECT Customers.CompanyName, Customers.Phone , Orders.OrderDate, Orders.ShipName\r\n",
                "FROM Orders\r\n",
                "LEFT OUTER JOIN Customers ON Customers.CustomerID= Orders.CustomerID\r\n",
                "LEFT OUTER JOIN Shippers ON Shippers.ShipperID= Orders.ShipVia\r\n",
                "WHERE Shippers.CompanyName = 'United Package' AND Orders.OrderDate LIKE '%1997%'\r\n",
                "\r\n",
                "\r\n",
                ""
            ],
            "metadata": {
                "language": "sql",
                "azdata_cell_guid": "7794bbc0-1041-4c83-825e-986985bc076a",
                "tags": [
                    "hide_input"
                ]
            },
            "outputs": [],
            "execution_count": null
        },
        {
            "cell_type": "code",
            "source": [
                "-- tu sie jeszcze wyjebalem zadanie 12\r\n",
                "-- Wybierz nazwy i numery telefonów klientów, którzy kupowali produkty  z kategorii ‘Confections’\r\n",
                "USE Northwind;\r\n",
                "SELECT Customers.CompanyName, Customers.Phone\r\n",
                "FROM Orders\r\n",
                "JOIN Customers ON Customers.CustomerID=Orders.CustomerID\r\n",
                "JOIN [Order Details] ON [Order Details].OrderID = Orders.OrderID\r\n",
                "JOIN Products ON Products.ProductID=[Order Details].ProductID\r\n",
                "JOIN Categories ON Products.CategoryID=Categories.CategoryID\r\n",
                "WHERE Categories.CategoryName LIKE 'Confections'\r\n",
                "GROUP BY Customers.CompanyName,  Customers.Phone --żeby ładniej wyglądało\r\n",
                "\r\n",
                ""
            ],
            "metadata": {
                "language": "sql",
                "azdata_cell_guid": "925862f7-d1de-4955-bee2-01c98bfb4ac4",
                "tags": []
            },
            "outputs": [
                {
                    "output_type": "display_data",
                    "data": {
                        "text/html": "(80 rows affected)"
                    },
                    "metadata": {}
                },
                {
                    "output_type": "display_data",
                    "data": {
                        "text/html": "Total execution time: 00:00:00.031"
                    },
                    "metadata": {}
                },
                {
                    "output_type": "execute_result",
                    "metadata": {},
                    "execution_count": 5,
                    "data": {
                        "application/vnd.dataresource+json": {
                            "schema": {
                                "fields": [
                                    {
                                        "name": "CompanyName"
                                    },
                                    {
                                        "name": "Phone"
                                    }
                                ]
                            },
                            "data": [
                                {
                                    "CompanyName": "Ana Trujillo Emparedados y helados",
                                    "Phone": "(5) 555-4729"
                                },
                                {
                                    "CompanyName": "Antonio Moreno Taquería",
                                    "Phone": "(5) 555-3932"
                                },
                                {
                                    "CompanyName": "Around the Horn",
                                    "Phone": "(171) 555-7788"
                                },
                                {
                                    "CompanyName": "Berglunds snabbköp",
                                    "Phone": "0921-12 34 65"
                                },
                                {
                                    "CompanyName": "Blauer See Delikatessen",
                                    "Phone": "0621-08460"
                                },
                                {
                                    "CompanyName": "Blondesddsl père et fils",
                                    "Phone": "88.60.15.31"
                                },
                                {
                                    "CompanyName": "Bon app'",
                                    "Phone": "91.24.45.40"
                                },
                                {
                                    "CompanyName": "Bottom-Dollar Markets",
                                    "Phone": "(604) 555-4729"
                                },
                                {
                                    "CompanyName": "B's Beverages",
                                    "Phone": "(171) 555-1212"
                                },
                                {
                                    "CompanyName": "Cactus Comidas para llevar",
                                    "Phone": "(1) 135-5555"
                                },
                                {
                                    "CompanyName": "Centro comercial Moctezuma",
                                    "Phone": "(5) 555-3392"
                                },
                                {
                                    "CompanyName": "Chop-suey Chinese",
                                    "Phone": "0452-076545"
                                },
                                {
                                    "CompanyName": "Comércio Mineiro",
                                    "Phone": "(11) 555-7647"
                                },
                                {
                                    "CompanyName": "Die Wandernde Kuh",
                                    "Phone": "0711-020361"
                                },
                                {
                                    "CompanyName": "Drachenblut Delikatessen",
                                    "Phone": "0241-039123"
                                },
                                {
                                    "CompanyName": "Du monde entier",
                                    "Phone": "40.67.88.88"
                                },
                                {
                                    "CompanyName": "Eastern Connection",
                                    "Phone": "(171) 555-0297"
                                },
                                {
                                    "CompanyName": "Ernst Handel",
                                    "Phone": "7675-3425"
                                },
                                {
                                    "CompanyName": "Familia Arquibaldo",
                                    "Phone": "(11) 555-9857"
                                },
                                {
                                    "CompanyName": "Folies gourmandes",
                                    "Phone": "20.16.10.16"
                                },
                                {
                                    "CompanyName": "Folk och fä HB",
                                    "Phone": "0695-34 67 21"
                                },
                                {
                                    "CompanyName": "France restauration",
                                    "Phone": "40.32.21.21"
                                },
                                {
                                    "CompanyName": "Franchi S.p.A.",
                                    "Phone": "011-4988260"
                                },
                                {
                                    "CompanyName": "Frankenversand",
                                    "Phone": "089-0877310"
                                },
                                {
                                    "CompanyName": "Furia Bacalhau e Frutos do Mar",
                                    "Phone": "(1) 354-2534"
                                },
                                {
                                    "CompanyName": "Galería del gastrónomo",
                                    "Phone": "(93) 203 4560"
                                },
                                {
                                    "CompanyName": "Godos Cocina Típica",
                                    "Phone": "(95) 555 82 82"
                                },
                                {
                                    "CompanyName": "Gourmet Lanchonetes",
                                    "Phone": "(11) 555-9482"
                                },
                                {
                                    "CompanyName": "Great Lakes Food Market",
                                    "Phone": "(503) 555-7555"
                                },
                                {
                                    "CompanyName": "Hanari Carnes",
                                    "Phone": "(21) 555-0091"
                                },
                                {
                                    "CompanyName": "HILARION-Abastos",
                                    "Phone": "(5) 555-1340"
                                },
                                {
                                    "CompanyName": "Hungry Coyote Import Store",
                                    "Phone": "(503) 555-6874"
                                },
                                {
                                    "CompanyName": "Hungry Owl All-Night Grocers",
                                    "Phone": "2967 542"
                                },
                                {
                                    "CompanyName": "Island Trading",
                                    "Phone": "(198) 555-8888"
                                },
                                {
                                    "CompanyName": "Königlich Essen",
                                    "Phone": "0555-09876"
                                },
                                {
                                    "CompanyName": "La corne d'abondance",
                                    "Phone": "30.59.84.10"
                                },
                                {
                                    "CompanyName": "La maison d'Asie",
                                    "Phone": "61.77.61.10"
                                },
                                {
                                    "CompanyName": "Laughing Bacchus Wine Cellars",
                                    "Phone": "(604) 555-3392"
                                },
                                {
                                    "CompanyName": "Lehmanns Marktstand",
                                    "Phone": "069-0245984"
                                },
                                {
                                    "CompanyName": "Let's Stop N Shop",
                                    "Phone": "(415) 555-5938"
                                },
                                {
                                    "CompanyName": "LILA-Supermercado",
                                    "Phone": "(9) 331-6954"
                                },
                                {
                                    "CompanyName": "LINO-Delicateses",
                                    "Phone": "(8) 34-56-12"
                                },
                                {
                                    "CompanyName": "Lonesome Pine Restaurant",
                                    "Phone": "(503) 555-9573"
                                },
                                {
                                    "CompanyName": "Magazzini Alimentari Riuniti",
                                    "Phone": "035-640230"
                                },
                                {
                                    "CompanyName": "Maison Dewey",
                                    "Phone": "(02) 201 24 67"
                                },
                                {
                                    "CompanyName": "Mère Paillarde",
                                    "Phone": "(514) 555-8054"
                                },
                                {
                                    "CompanyName": "Morgenstern Gesundkost",
                                    "Phone": "0342-023176"
                                },
                                {
                                    "CompanyName": "Océano Atlántico Ltda.",
                                    "Phone": "(1) 135-5333"
                                },
                                {
                                    "CompanyName": "Old World Delicatessen",
                                    "Phone": "(907) 555-7584"
                                },
                                {
                                    "CompanyName": "Ottilies Käseladen",
                                    "Phone": "0221-0644327"
                                },
                                {
                                    "CompanyName": "Piccolo und mehr",
                                    "Phone": "6562-9722"
                                },
                                {
                                    "CompanyName": "Princesa Isabel Vinhos",
                                    "Phone": "(1) 356-5634"
                                },
                                {
                                    "CompanyName": "Que Delícia",
                                    "Phone": "(21) 555-4252"
                                },
                                {
                                    "CompanyName": "Queen Cozinha",
                                    "Phone": "(11) 555-1189"
                                },
                                {
                                    "CompanyName": "QUICK-Stop",
                                    "Phone": "0372-035188"
                                },
                                {
                                    "CompanyName": "Rancho grande",
                                    "Phone": "(1) 123-5555"
                                },
                                {
                                    "CompanyName": "Rattlesnake Canyon Grocery",
                                    "Phone": "(505) 555-5939"
                                },
                                {
                                    "CompanyName": "Reggiani Caseifici",
                                    "Phone": "0522-556721"
                                },
                                {
                                    "CompanyName": "Ricardo Adocicados",
                                    "Phone": "(21) 555-3412"
                                },
                                {
                                    "CompanyName": "Richter Supermarkt",
                                    "Phone": "0897-034214"
                                },
                                {
                                    "CompanyName": "Romero y tomillo",
                                    "Phone": "(91) 745 6200"
                                },
                                {
                                    "CompanyName": "Santé Gourmet",
                                    "Phone": "07-98 92 35"
                                },
                                {
                                    "CompanyName": "Save-a-lot Markets",
                                    "Phone": "(208) 555-8097"
                                },
                                {
                                    "CompanyName": "Seven Seas Imports",
                                    "Phone": "(171) 555-1717"
                                },
                                {
                                    "CompanyName": "Simons bistro",
                                    "Phone": "31 12 34 56"
                                },
                                {
                                    "CompanyName": "Spécialités du monde",
                                    "Phone": "(1) 47.55.60.10"
                                },
                                {
                                    "CompanyName": "Split Rail Beer & Ale",
                                    "Phone": "(307) 555-4680"
                                },
                                {
                                    "CompanyName": "Suprêmes délices",
                                    "Phone": "(071) 23 67 22 20"
                                },
                                {
                                    "CompanyName": "The Big Cheese",
                                    "Phone": "(503) 555-3612"
                                },
                                {
                                    "CompanyName": "Toms Spezialitäten",
                                    "Phone": "0251-031259"
                                },
                                {
                                    "CompanyName": "Tortuga Restaurante",
                                    "Phone": "(5) 555-2933"
                                },
                                {
                                    "CompanyName": "Tradição Hipermercados",
                                    "Phone": "(11) 555-2167"
                                },
                                {
                                    "CompanyName": "Trail's Head Gourmet Provisioners",
                                    "Phone": "(206) 555-8257"
                                },
                                {
                                    "CompanyName": "Vaffeljernet",
                                    "Phone": "86 21 32 43"
                                },
                                {
                                    "CompanyName": "Victuailles en stock",
                                    "Phone": "78.32.54.86"
                                },
                                {
                                    "CompanyName": "Wartian Herkku",
                                    "Phone": "981-443655"
                                },
                                {
                                    "CompanyName": "Wellington Importadora",
                                    "Phone": "(14) 555-8122"
                                },
                                {
                                    "CompanyName": "White Clover Markets",
                                    "Phone": "(206) 555-4112"
                                },
                                {
                                    "CompanyName": "Wilman Kala",
                                    "Phone": "90-224 8858"
                                },
                                {
                                    "CompanyName": "Wolski  Zajazd",
                                    "Phone": "(26) 642-7012"
                                }
                            ]
                        },
                        "text/html": [
                            "<table>",
                            "<tr><th>CompanyName</th><th>Phone</th></tr>",
                            "<tr><td>Ana Trujillo Emparedados y helados</td><td>(5) 555-4729</td></tr>",
                            "<tr><td>Antonio Moreno Taquería</td><td>(5) 555-3932</td></tr>",
                            "<tr><td>Around the Horn</td><td>(171) 555-7788</td></tr>",
                            "<tr><td>Berglunds snabbköp</td><td>0921-12 34 65</td></tr>",
                            "<tr><td>Blauer See Delikatessen</td><td>0621-08460</td></tr>",
                            "<tr><td>Blondesddsl père et fils</td><td>88.60.15.31</td></tr>",
                            "<tr><td>Bon app&#39;</td><td>91.24.45.40</td></tr>",
                            "<tr><td>Bottom-Dollar Markets</td><td>(604) 555-4729</td></tr>",
                            "<tr><td>B&#39;s Beverages</td><td>(171) 555-1212</td></tr>",
                            "<tr><td>Cactus Comidas para llevar</td><td>(1) 135-5555</td></tr>",
                            "<tr><td>Centro comercial Moctezuma</td><td>(5) 555-3392</td></tr>",
                            "<tr><td>Chop-suey Chinese</td><td>0452-076545</td></tr>",
                            "<tr><td>Comércio Mineiro</td><td>(11) 555-7647</td></tr>",
                            "<tr><td>Die Wandernde Kuh</td><td>0711-020361</td></tr>",
                            "<tr><td>Drachenblut Delikatessen</td><td>0241-039123</td></tr>",
                            "<tr><td>Du monde entier</td><td>40.67.88.88</td></tr>",
                            "<tr><td>Eastern Connection</td><td>(171) 555-0297</td></tr>",
                            "<tr><td>Ernst Handel</td><td>7675-3425</td></tr>",
                            "<tr><td>Familia Arquibaldo</td><td>(11) 555-9857</td></tr>",
                            "<tr><td>Folies gourmandes</td><td>20.16.10.16</td></tr>",
                            "<tr><td>Folk och fä HB</td><td>0695-34 67 21</td></tr>",
                            "<tr><td>France restauration</td><td>40.32.21.21</td></tr>",
                            "<tr><td>Franchi S.p.A.</td><td>011-4988260</td></tr>",
                            "<tr><td>Frankenversand</td><td>089-0877310</td></tr>",
                            "<tr><td>Furia Bacalhau e Frutos do Mar</td><td>(1) 354-2534</td></tr>",
                            "<tr><td>Galería del gastrónomo</td><td>(93) 203 4560</td></tr>",
                            "<tr><td>Godos Cocina Típica</td><td>(95) 555 82 82</td></tr>",
                            "<tr><td>Gourmet Lanchonetes</td><td>(11) 555-9482</td></tr>",
                            "<tr><td>Great Lakes Food Market</td><td>(503) 555-7555</td></tr>",
                            "<tr><td>Hanari Carnes</td><td>(21) 555-0091</td></tr>",
                            "<tr><td>HILARION-Abastos</td><td>(5) 555-1340</td></tr>",
                            "<tr><td>Hungry Coyote Import Store</td><td>(503) 555-6874</td></tr>",
                            "<tr><td>Hungry Owl All-Night Grocers</td><td>2967 542</td></tr>",
                            "<tr><td>Island Trading</td><td>(198) 555-8888</td></tr>",
                            "<tr><td>Königlich Essen</td><td>0555-09876</td></tr>",
                            "<tr><td>La corne d&#39;abondance</td><td>30.59.84.10</td></tr>",
                            "<tr><td>La maison d&#39;Asie</td><td>61.77.61.10</td></tr>",
                            "<tr><td>Laughing Bacchus Wine Cellars</td><td>(604) 555-3392</td></tr>",
                            "<tr><td>Lehmanns Marktstand</td><td>069-0245984</td></tr>",
                            "<tr><td>Let&#39;s Stop N Shop</td><td>(415) 555-5938</td></tr>",
                            "<tr><td>LILA-Supermercado</td><td>(9) 331-6954</td></tr>",
                            "<tr><td>LINO-Delicateses</td><td>(8) 34-56-12</td></tr>",
                            "<tr><td>Lonesome Pine Restaurant</td><td>(503) 555-9573</td></tr>",
                            "<tr><td>Magazzini Alimentari Riuniti</td><td>035-640230</td></tr>",
                            "<tr><td>Maison Dewey</td><td>(02) 201 24 67</td></tr>",
                            "<tr><td>Mère Paillarde</td><td>(514) 555-8054</td></tr>",
                            "<tr><td>Morgenstern Gesundkost</td><td>0342-023176</td></tr>",
                            "<tr><td>Océano Atlántico Ltda.</td><td>(1) 135-5333</td></tr>",
                            "<tr><td>Old World Delicatessen</td><td>(907) 555-7584</td></tr>",
                            "<tr><td>Ottilies Käseladen</td><td>0221-0644327</td></tr>",
                            "<tr><td>Piccolo und mehr</td><td>6562-9722</td></tr>",
                            "<tr><td>Princesa Isabel Vinhos</td><td>(1) 356-5634</td></tr>",
                            "<tr><td>Que Delícia</td><td>(21) 555-4252</td></tr>",
                            "<tr><td>Queen Cozinha</td><td>(11) 555-1189</td></tr>",
                            "<tr><td>QUICK-Stop</td><td>0372-035188</td></tr>",
                            "<tr><td>Rancho grande</td><td>(1) 123-5555</td></tr>",
                            "<tr><td>Rattlesnake Canyon Grocery</td><td>(505) 555-5939</td></tr>",
                            "<tr><td>Reggiani Caseifici</td><td>0522-556721</td></tr>",
                            "<tr><td>Ricardo Adocicados</td><td>(21) 555-3412</td></tr>",
                            "<tr><td>Richter Supermarkt</td><td>0897-034214</td></tr>",
                            "<tr><td>Romero y tomillo</td><td>(91) 745 6200</td></tr>",
                            "<tr><td>Santé Gourmet</td><td>07-98 92 35</td></tr>",
                            "<tr><td>Save-a-lot Markets</td><td>(208) 555-8097</td></tr>",
                            "<tr><td>Seven Seas Imports</td><td>(171) 555-1717</td></tr>",
                            "<tr><td>Simons bistro</td><td>31 12 34 56</td></tr>",
                            "<tr><td>Spécialités du monde</td><td>(1) 47.55.60.10</td></tr>",
                            "<tr><td>Split Rail Beer &amp; Ale</td><td>(307) 555-4680</td></tr>",
                            "<tr><td>Suprêmes délices</td><td>(071) 23 67 22 20</td></tr>",
                            "<tr><td>The Big Cheese</td><td>(503) 555-3612</td></tr>",
                            "<tr><td>Toms Spezialitäten</td><td>0251-031259</td></tr>",
                            "<tr><td>Tortuga Restaurante</td><td>(5) 555-2933</td></tr>",
                            "<tr><td>Tradição Hipermercados</td><td>(11) 555-2167</td></tr>",
                            "<tr><td>Trail&#39;s Head Gourmet Provisioners</td><td>(206) 555-8257</td></tr>",
                            "<tr><td>Vaffeljernet</td><td>86 21 32 43</td></tr>",
                            "<tr><td>Victuailles en stock</td><td>78.32.54.86</td></tr>",
                            "<tr><td>Wartian Herkku</td><td>981-443655</td></tr>",
                            "<tr><td>Wellington Importadora</td><td>(14) 555-8122</td></tr>",
                            "<tr><td>White Clover Markets</td><td>(206) 555-4112</td></tr>",
                            "<tr><td>Wilman Kala</td><td>90-224 8858</td></tr>",
                            "<tr><td>Wolski  Zajazd</td><td>(26) 642-7012</td></tr>",
                            "</table>"
                        ]
                    }
                }
            ],
            "execution_count": 5
        },
        {
            "cell_type": "code",
            "source": [
                "-- zadanie 13\r\n",
                "-- Napisz polecenie, które wyświetla pracowników oraz ich podwładnych (baza northwind)\r\n",
                "\r\n",
                "SELECT Employees.FirstName, Employees.LastName, Employees.EmployeeID, Employees.ReportsTo, Employees_1.FirstName, Employees_1.LastName, Employees_1.EmployeeID, Employees_1.ReportsTo\r\n",
                "FROM Employees\r\n",
                "LEFT JOIN Employees AS Employees_1 ON Employees.EmployeeID = Employees_1.ReportsTo"
            ],
            "metadata": {
                "language": "sql",
                "azdata_cell_guid": "ac48bbe9-a9ec-4b6d-931a-6036c7cbe18f",
                "tags": [
                    "hide_input"
                ]
            },
            "outputs": [],
            "execution_count": null
        },
        {
            "cell_type": "code",
            "source": [
                "-- zadanie 14\r\n",
                "-- Napisz polecenie, które wyświetla pracowników, którzy nie mają podwładnych (baza northwind)\r\n",
                "SELECT * \r\n",
                "FROM Employees\r\n",
                "WHERE EmployeeID NOT IN (SELECT ReportsTo FROM EMployees WHERE ReportsTo IS NOT NULL)\r\n",
                ""
            ],
            "metadata": {
                "language": "sql",
                "azdata_cell_guid": "2e7efe11-c183-4828-88f7-f6bdd1cd2cbd",
                "tags": [
                    "hide_input"
                ]
            },
            "outputs": [],
            "execution_count": null
        },
        {
            "cell_type": "code",
            "source": [
                "-- zadanie 15\r\n",
                "-- Napisz polecenie, które wyświetla adresy  członków biblioteki, którzy mają dzieci urodzone przed 1 stycznia 1996\r\n",
                "-- jebac ta baze z biblioteka\r\n",
                "USE library;\r\n",
                "SELECT adult.street, adult.city, adult.state, adult.zip \r\n",
                "FROM adult\r\n",
                "JOIN juvenile ON adult.member_no=juvenile.adult_member_no\r\n",
                "WHERE juvenile.birth_date < '1996-01-01';"
            ],
            "metadata": {
                "language": "sql",
                "azdata_cell_guid": "706627e5-89ea-449d-9e7a-84132e2ce58c",
                "tags": [
                    "hide_input"
                ]
            },
            "outputs": [],
            "execution_count": null
        },
        {
            "cell_type": "code",
            "source": [
                "-- zadannie 16\r\n",
                "-- Napisz polecenie, które wyświetla adresy  członków biblioteki, którzy mają dzieci urodzone przed 1 stycznia 1996. \r\n",
                "-- Interesują nas tylko adresy takich członków biblioteki, którzy aktualnie nie przetrzymują książek.\r\n",
                "\r\n",
                "USE library;\r\n",
                "SELECT adult.member_no\r\n",
                "FROM adult\r\n",
                "JOIN juvenile ON adult.member_no=juvenile.adult_member_no\r\n",
                "JOIN loanhist ON adult.member_no=loanhist.member_no\r\n",
                "WHERE juvenile.birth_date < '1996-01-01' and adult.member_no NOT IN (SELECT member_no FROM loanhist WHERE due_date < '2000-10-30') --dalem starsza date bo baza jest stara i nie wiem czy due_date czy in_date \r\n",
                "GROUP BY adult.member_no\r\n",
                ""
            ],
            "metadata": {
                "language": "sql",
                "azdata_cell_guid": "a0177f7e-551e-4fbd-a307-ac98e7a5a296",
                "tags": [
                    "hide_input"
                ]
            },
            "outputs": [],
            "execution_count": null
        },
        {
            "cell_type": "code",
            "source": [
                "-- zadanie 17\r\n",
                "-- Napisz polecenie które zwraca imię i nazwisko (jako pojedynczą kolumnę – name), oraz informacje o adresie:\r\n",
                "-- ulica, miasto, stan kod (jako pojedynczą kolumnę – address)  dla wszystkich dorosłych członków biblioteki\r\n",
                "USE library;\r\n",
                "SELECT member.firstname + member.lastname AS name, adult.street+adult.city+adult.state+adult.zip AS address\r\n",
                "FROM adult\r\n",
                "LEFT OUTER JOIN member ON adult.member_no = member.member_no\r\n",
                ""
            ],
            "metadata": {
                "language": "sql",
                "azdata_cell_guid": "0b9636a5-540f-4f7b-a72a-f8707295aaf2",
                "tags": [
                    "hide_input"
                ]
            },
            "outputs": [],
            "execution_count": null
        },
        {
            "cell_type": "code",
            "source": [
                "-- zadanie 18\r\n",
                "-- Napisz polecenie, które zwraca: isbn, copy_no, on_loan, title, translation, cover,  dla książek o isbn 1, 500 i 1000.  Wynik posortuj wg ISBN\r\n",
                "\r\n",
                "USE library;\r\n",
                "SELECT  copy.isbn, copy.copy_no, copy.on_loan, title.title, item.translation, item.cover\r\n",
                "FROM copy\r\n",
                "INNER JOIN item ON copy.title_no=item.title_no\r\n",
                "INNER JOIN title on copy.title_no= title.title_no\r\n",
                "WHERE copy.isbn IN (1,500,1000)\r\n",
                ""
            ],
            "metadata": {
                "language": "sql",
                "azdata_cell_guid": "3ccc291c-a50f-408b-906d-4637b3b30e07",
                "tags": [
                    "hide_input"
                ]
            },
            "outputs": [],
            "execution_count": null
        },
        {
            "cell_type": "code",
            "source": [
                "-- zadanie 19\r\n",
                "-- Napisz polecenie które zwraca o użytkownikach biblioteki o nr 250, 342, i 1675 \r\n",
                "-- (dla każdego użytkownika: nr, imię i nazwisko członka biblioteki), oraz informację o  zarezerwowanych książkach (isbn, data) \r\n",
                "USE library;\r\n",
                "SELECT member.member_no, member.firstname, member.lastname, loanhist.isbn, loanhist.out_date\r\n",
                "FROM member\r\n",
                "LEFT OUTER JOIN loanhist ON member.member_no=loanhist.member_no\r\n",
                "WHERE member.member_no IN (250,342,1675)\r\n",
                ""
            ],
            "metadata": {
                "language": "sql",
                "azdata_cell_guid": "adaef547-c849-4f75-8a2c-523f80b695ff",
                "tags": [
                    "hide_input"
                ]
            },
            "outputs": [],
            "execution_count": null
        },
        {
            "cell_type": "code",
            "source": [
                "-- zadanie 20\r\n",
                "-- Podaj listę członków biblioteki mieszkających w Arizonie (AZ) mają  więcej niż dwoje dzieci zapisanych do biblioteki  \r\n",
                "USE library;\r\n",
                "SELECT adult.member_no, adult.state\r\n",
                "FROM adult\r\n",
                "INNER JOIN juvenile on adult.member_no= juvenile.adult_member_no\r\n",
                "WHERE adult.member_no IN (\r\n",
                "SELECT adult_member_no\r\n",
                "FROM juvenile \r\n",
                "GROUP BY adult_member_no\r\n",
                "HAVING COUNT(adult_member_no)>1 ) AND adult.state LIKE 'AZ';\r\n",
                "\r\n",
                ""
            ],
            "metadata": {
                "language": "sql",
                "azdata_cell_guid": "27d24b66-3dc5-4e35-a7fc-a7ca5a73535e",
                "tags": [
                    "hide_input"
                ]
            },
            "outputs": [],
            "execution_count": null
        },
        {
            "cell_type": "code",
            "source": [
                "-- zadanie 21\r\n",
                "-- Podaj listę członków biblioteki mieszkających w Arizonie (AZ) którzy mają  więcej niż dwoje dzieci zapisanych do biblioteki \r\n",
                "-- oraz takich którzy mieszkają w Kaliforni (CA) i mają więcej niż troje dzieci zapisanych do biblioteki\r\n",
                "\r\n",
                "USE library;\r\n",
                "SELECT adult.member_no, adult.state\r\n",
                "FROM adult\r\n",
                "INNER JOIN juvenile on adult.member_no= juvenile.adult_member_no\r\n",
                "WHERE (adult.member_no IN (\r\n",
                "SELECT adult_member_no\r\n",
                "FROM juvenile \r\n",
                "GROUP BY adult_member_no\r\n",
                "HAVING COUNT(adult_member_no)>1 ) AND adult.state LIKE 'AZ') OR (adult.member_no IN (\r\n",
                "SELECT adult_member_no\r\n",
                "FROM juvenile \r\n",
                "GROUP BY adult_member_no\r\n",
                "HAVING COUNT(adult_member_no)>2 ) AND adult.state LIKE 'CA');\r\n",
                ""
            ],
            "metadata": {
                "language": "sql",
                "azdata_cell_guid": "ac4966e7-7ffa-4616-aebf-172a96abec8c",
                "tags": [
                    "hide_input"
                ]
            },
            "outputs": [],
            "execution_count": null
        }
    ]
}